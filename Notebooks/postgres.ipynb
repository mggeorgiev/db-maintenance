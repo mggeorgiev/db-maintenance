{
    "metadata": {
        "kernelspec": {
            "name": "SQL",
            "display_name": "SQL",
            "language": "sql"
        },
        "language_info": {
            "name": "sql",
            "version": ""
        }
    },
    "nbformat_minor": 2,
    "nbformat": 4,
    "cells": [
        {
            "cell_type": "code",
            "source": [
                "select * from information_schema.sql_features"
            ],
            "metadata": {
                "azdata_cell_guid": "4d210e6d-e93e-4254-baa2-07d96f1f08b2"
            },
            "outputs": [
                {
                    "output_type": "display_data",
                    "data": {
                        "text/html": "(716 row(s) affected)"
                    },
                    "metadata": {}
                },
                {
                    "output_type": "display_data",
                    "data": {
                        "text/html": "Total execution time: 00:00:00.452"
                    },
                    "metadata": {}
                },
                {
                    "output_type": "execute_result",
                    "metadata": {
                        "resultSet": {
                            "batchId": 0,
                            "columnInfo": [
                                {
                                    "_provider": "PGSQL",
                                    "allowDbNull": null,
                                    "baseCatalogName": null,
                                    "baseColumnName": "feature_id",
                                    "baseSchemaName": null,
                                    "baseServerName": null,
                                    "baseTableName": null,
                                    "columnName": "feature_id",
                                    "columnOrdinal": 0,
                                    "columnSize": -1,
                                    "dataType": "varchar",
                                    "isAliased": null,
                                    "isAutoIncrement": null,
                                    "isExpression": null,
                                    "isHidden": null,
                                    "isIdentity": null,
                                    "isKey": null,
                                    "isReadOnly": false,
                                    "isUnique": null,
                                    "isUpdatable": false,
                                    "numericPrecision": null,
                                    "numericScale": null
                                },
                                {
                                    "_provider": "PGSQL",
                                    "allowDbNull": null,
                                    "baseCatalogName": null,
                                    "baseColumnName": "feature_name",
                                    "baseSchemaName": null,
                                    "baseServerName": null,
                                    "baseTableName": null,
                                    "columnName": "feature_name",
                                    "columnOrdinal": 1,
                                    "columnSize": -1,
                                    "dataType": "varchar",
                                    "isAliased": null,
                                    "isAutoIncrement": null,
                                    "isExpression": null,
                                    "isHidden": null,
                                    "isIdentity": null,
                                    "isKey": null,
                                    "isReadOnly": false,
                                    "isUnique": null,
                                    "isUpdatable": false,
                                    "numericPrecision": null,
                                    "numericScale": null
                                },
                                {
                                    "_provider": "PGSQL",
                                    "allowDbNull": null,
                                    "baseCatalogName": null,
                                    "baseColumnName": "sub_feature_id",
                                    "baseSchemaName": null,
                                    "baseServerName": null,
                                    "baseTableName": null,
                                    "columnName": "sub_feature_id",
                                    "columnOrdinal": 2,
                                    "columnSize": -1,
                                    "dataType": "varchar",
                                    "isAliased": null,
                                    "isAutoIncrement": null,
                                    "isExpression": null,
                                    "isHidden": null,
                                    "isIdentity": null,
                                    "isKey": null,
                                    "isReadOnly": false,
                                    "isUnique": null,
                                    "isUpdatable": false,
                                    "numericPrecision": null,
                                    "numericScale": null
                                },
                                {
                                    "_provider": "PGSQL",
                                    "allowDbNull": null,
                                    "baseCatalogName": null,
                                    "baseColumnName": "sub_feature_name",
                                    "baseSchemaName": null,
                                    "baseServerName": null,
                                    "baseTableName": null,
                                    "columnName": "sub_feature_name",
                                    "columnOrdinal": 3,
                                    "columnSize": -1,
                                    "dataType": "varchar",
                                    "isAliased": null,
                                    "isAutoIncrement": null,
                                    "isExpression": null,
                                    "isHidden": null,
                                    "isIdentity": null,
                                    "isKey": null,
                                    "isReadOnly": false,
                                    "isUnique": null,
                                    "isUpdatable": false,
                                    "numericPrecision": null,
                                    "numericScale": null
                                },
                                {
                                    "_provider": "PGSQL",
                                    "allowDbNull": null,
                                    "baseCatalogName": null,
                                    "baseColumnName": "is_supported",
                                    "baseSchemaName": null,
                                    "baseServerName": null,
                                    "baseTableName": null,
                                    "columnName": "is_supported",
                                    "columnOrdinal": 4,
                                    "columnSize": 3,
                                    "dataType": "varchar",
                                    "isAliased": null,
                                    "isAutoIncrement": null,
                                    "isExpression": null,
                                    "isHidden": null,
                                    "isIdentity": null,
                                    "isKey": null,
                                    "isReadOnly": false,
                                    "isUnique": null,
                                    "isUpdatable": false,
                                    "numericPrecision": null,
                                    "numericScale": null
                                },
                                {
                                    "_provider": "PGSQL",
                                    "allowDbNull": null,
                                    "baseCatalogName": null,
                                    "baseColumnName": "is_verified_by",
                                    "baseSchemaName": null,
                                    "baseServerName": null,
                                    "baseTableName": null,
                                    "columnName": "is_verified_by",
                                    "columnOrdinal": 5,
                                    "columnSize": -1,
                                    "dataType": "varchar",
                                    "isAliased": null,
                                    "isAutoIncrement": null,
                                    "isExpression": null,
                                    "isHidden": null,
                                    "isIdentity": null,
                                    "isKey": null,
                                    "isReadOnly": false,
                                    "isUnique": null,
                                    "isUpdatable": false,
                                    "numericPrecision": null,
                                    "numericScale": null
                                },
                                {
                                    "_provider": "PGSQL",
                                    "allowDbNull": null,
                                    "baseCatalogName": null,
                                    "baseColumnName": "comments",
                                    "baseSchemaName": null,
                                    "baseServerName": null,
                                    "baseTableName": null,
                                    "columnName": "comments",
                                    "columnOrdinal": 6,
                                    "columnSize": -1,
                                    "dataType": "varchar",
                                    "isAliased": null,
                                    "isAutoIncrement": null,
                                    "isExpression": null,
                                    "isHidden": null,
                                    "isIdentity": null,
                                    "isKey": null,
                                    "isReadOnly": false,
                                    "isUnique": null,
                                    "isUpdatable": false,
                                    "numericPrecision": null,
                                    "numericScale": null
                                }
                            ],
                            "complete": true,
                            "id": 0,
                            "rowCount": 716
                        }
                    },
                    "execution_count": 1,
                    "data": {
                        "application/vnd.dataresource+json": {
                            "schema": {
                                "fields": [
                                    {
                                        "name": "feature_id"
                                    },
                                    {
                                        "name": "feature_name"
                                    },
                                    {
                                        "name": "sub_feature_id"
                                    },
                                    {
                                        "name": "sub_feature_name"
                                    },
                                    {
                                        "name": "is_supported"
                                    },
                                    {
                                        "name": "is_verified_by"
                                    },
                                    {
                                        "name": "comments"
                                    }
                                ]
                            },
                            "data": [
                                {
                                    "0": "B011",
                                    "1": "Embedded Ada",
                                    "2": "NULL",
                                    "3": "NULL",
                                    "4": "NO",
                                    "5": "NULL",
                                    "6": "NULL"
                                },
                                {
                                    "0": "B012",
                                    "1": "Embedded C",
                                    "2": "NULL",
                                    "3": "NULL",
                                    "4": "YES",
                                    "5": "NULL",
                                    "6": "NULL"
                                },
                                {
                                    "0": "B013",
                                    "1": "Embedded COBOL",
                                    "2": "NULL",
                                    "3": "NULL",
                                    "4": "NO",
                                    "5": "NULL",
                                    "6": "NULL"
                                },
                                {
                                    "0": "B014",
                                    "1": "Embedded Fortran",
                                    "2": "NULL",
                                    "3": "NULL",
                                    "4": "NO",
                                    "5": "NULL",
                                    "6": "NULL"
                                },
                                {
                                    "0": "B015",
                                    "1": "Embedded MUMPS",
                                    "2": "NULL",
                                    "3": "NULL",
                                    "4": "NO",
                                    "5": "NULL",
                                    "6": "NULL"
                                },
                                {
                                    "0": "B016",
                                    "1": "Embedded Pascal",
                                    "2": "NULL",
                                    "3": "NULL",
                                    "4": "NO",
                                    "5": "NULL",
                                    "6": "NULL"
                                },
                                {
                                    "0": "B017",
                                    "1": "Embedded PL/I",
                                    "2": "NULL",
                                    "3": "NULL",
                                    "4": "NO",
                                    "5": "NULL",
                                    "6": "NULL"
                                },
                                {
                                    "0": "B021",
                                    "1": "Direct SQL",
                                    "2": "NULL",
                                    "3": "NULL",
                                    "4": "YES",
                                    "5": "NULL",
                                    "6": "NULL"
                                },
                                {
                                    "0": "B031",
                                    "1": "Basic dynamic SQL",
                                    "2": "NULL",
                                    "3": "NULL",
                                    "4": "NO",
                                    "5": "NULL",
                                    "6": "NULL"
                                },
                                {
                                    "0": "B032",
                                    "1": "Extended dynamic SQL",
                                    "2": "NULL",
                                    "3": "NULL",
                                    "4": "NO",
                                    "5": "NULL",
                                    "6": "NULL"
                                },
                                {
                                    "0": "B032",
                                    "1": "Extended dynamic SQL",
                                    "2": "01",
                                    "3": "<describe input statement>",
                                    "4": "NO",
                                    "5": "NULL",
                                    "6": "NULL"
                                },
                                {
                                    "0": "B033",
                                    "1": "Untyped SQL-invoked function arguments",
                                    "2": "NULL",
                                    "3": "NULL",
                                    "4": "NO",
                                    "5": "NULL",
                                    "6": "NULL"
                                },
                                {
                                    "0": "B034",
                                    "1": "Dynamic specification of cursor attributes",
                                    "2": "NULL",
                                    "3": "NULL",
                                    "4": "NO",
                                    "5": "NULL",
                                    "6": "NULL"
                                },
                                {
                                    "0": "B035",
                                    "1": "Non-extended descriptor names",
                                    "2": "NULL",
                                    "3": "NULL",
                                    "4": "NO",
                                    "5": "NULL",
                                    "6": "NULL"
                                },
                                {
                                    "0": "B041",
                                    "1": "Extensions to embedded SQL exception declarations",
                                    "2": "NULL",
                                    "3": "NULL",
                                    "4": "NO",
                                    "5": "NULL",
                                    "6": "NULL"
                                },
                                {
                                    "0": "B051",
                                    "1": "Enhanced execution rights",
                                    "2": "NULL",
                                    "3": "NULL",
                                    "4": "NO",
                                    "5": "NULL",
                                    "6": "NULL"
                                },
                                {
                                    "0": "B111",
                                    "1": "Module language Ada",
                                    "2": "NULL",
                                    "3": "NULL",
                                    "4": "NO",
                                    "5": "NULL",
                                    "6": "NULL"
                                },
                                {
                                    "0": "B112",
                                    "1": "Module language C",
                                    "2": "NULL",
                                    "3": "NULL",
                                    "4": "NO",
                                    "5": "NULL",
                                    "6": "NULL"
                                },
                                {
                                    "0": "B113",
                                    "1": "Module language COBOL",
                                    "2": "NULL",
                                    "3": "NULL",
                                    "4": "NO",
                                    "5": "NULL",
                                    "6": "NULL"
                                },
                                {
                                    "0": "B114",
                                    "1": "Module language Fortran",
                                    "2": "NULL",
                                    "3": "NULL",
                                    "4": "NO",
                                    "5": "NULL",
                                    "6": "NULL"
                                },
                                {
                                    "0": "B115",
                                    "1": "Module language MUMPS",
                                    "2": "NULL",
                                    "3": "NULL",
                                    "4": "NO",
                                    "5": "NULL",
                                    "6": "NULL"
                                },
                                {
                                    "0": "B116",
                                    "1": "Module language Pascal",
                                    "2": "NULL",
                                    "3": "NULL",
                                    "4": "NO",
                                    "5": "NULL",
                                    "6": "NULL"
                                },
                                {
                                    "0": "B117",
                                    "1": "Module language PL/I",
                                    "2": "NULL",
                                    "3": "NULL",
                                    "4": "NO",
                                    "5": "NULL",
                                    "6": "NULL"
                                },
                                {
                                    "0": "B121",
                                    "1": "Routine language Ada",
                                    "2": "NULL",
                                    "3": "NULL",
                                    "4": "NO",
                                    "5": "NULL",
                                    "6": "NULL"
                                },
                                {
                                    "0": "B122",
                                    "1": "Routine language C",
                                    "2": "NULL",
                                    "3": "NULL",
                                    "4": "NO",
                                    "5": "NULL",
                                    "6": "NULL"
                                },
                                {
                                    "0": "B123",
                                    "1": "Routine language COBOL",
                                    "2": "NULL",
                                    "3": "NULL",
                                    "4": "NO",
                                    "5": "NULL",
                                    "6": "NULL"
                                },
                                {
                                    "0": "B124",
                                    "1": "Routine language Fortran",
                                    "2": "NULL",
                                    "3": "NULL",
                                    "4": "NO",
                                    "5": "NULL",
                                    "6": "NULL"
                                },
                                {
                                    "0": "B125",
                                    "1": "Routine language MUMPS",
                                    "2": "NULL",
                                    "3": "NULL",
                                    "4": "NO",
                                    "5": "NULL",
                                    "6": "NULL"
                                },
                                {
                                    "0": "B126",
                                    "1": "Routine language Pascal",
                                    "2": "NULL",
                                    "3": "NULL",
                                    "4": "NO",
                                    "5": "NULL",
                                    "6": "NULL"
                                },
                                {
                                    "0": "B127",
                                    "1": "Routine language PL/I",
                                    "2": "NULL",
                                    "3": "NULL",
                                    "4": "NO",
                                    "5": "NULL",
                                    "6": "NULL"
                                },
                                {
                                    "0": "B128",
                                    "1": "Routine language SQL",
                                    "2": "NULL",
                                    "3": "NULL",
                                    "4": "NO",
                                    "5": "NULL",
                                    "6": "NULL"
                                },
                                {
                                    "0": "B200",
                                    "1": "Polymorphic table functions",
                                    "2": "NULL",
                                    "3": "NULL",
                                    "4": "NO",
                                    "5": "NULL",
                                    "6": "NULL"
                                },
                                {
                                    "0": "B201",
                                    "1": "More than one PTF generic table parameter",
                                    "2": "NULL",
                                    "3": "NULL",
                                    "4": "NO",
                                    "5": "NULL",
                                    "6": "NULL"
                                },
                                {
                                    "0": "B202",
                                    "1": "PTF Copartitioning",
                                    "2": "NULL",
                                    "3": "NULL",
                                    "4": "NO",
                                    "5": "NULL",
                                    "6": "NULL"
                                },
                                {
                                    "0": "B203",
                                    "1": "More than one copartition specification",
                                    "2": "NULL",
                                    "3": "NULL",
                                    "4": "NO",
                                    "5": "NULL",
                                    "6": "NULL"
                                },
                                {
                                    "0": "B204",
                                    "1": "PRUNE WHEN EMPTY",
                                    "2": "NULL",
                                    "3": "NULL",
                                    "4": "NO",
                                    "5": "NULL",
                                    "6": "NULL"
                                },
                                {
                                    "0": "B205",
                                    "1": "Pass-through columns",
                                    "2": "NULL",
                                    "3": "NULL",
                                    "4": "NO",
                                    "5": "NULL",
                                    "6": "NULL"
                                },
                                {
                                    "0": "B206",
                                    "1": "PTF descriptor parameters",
                                    "2": "NULL",
                                    "3": "NULL",
                                    "4": "NO",
                                    "5": "NULL",
                                    "6": "NULL"
                                },
                                {
                                    "0": "B207",
                                    "1": "Cross products of partitionings",
                                    "2": "NULL",
                                    "3": "NULL",
                                    "4": "NO",
                                    "5": "NULL",
                                    "6": "NULL"
                                },
                                {
                                    "0": "B208",
                                    "1": "PTF component procedure interface",
                                    "2": "NULL",
                                    "3": "NULL",
                                    "4": "NO",
                                    "5": "NULL",
                                    "6": "NULL"
                                },
                                {
                                    "0": "B209",
                                    "1": "PTF extended names",
                                    "2": "NULL",
                                    "3": "NULL",
                                    "4": "NO",
                                    "5": "NULL",
                                    "6": "NULL"
                                },
                                {
                                    "0": "B211",
                                    "1": "Module language Ada: VARCHAR and NUMERIC support",
                                    "2": "NULL",
                                    "3": "NULL",
                                    "4": "NO",
                                    "5": "NULL",
                                    "6": "NULL"
                                },
                                {
                                    "0": "B221",
                                    "1": "Routine language Ada: VARCHAR and NUMERIC support",
                                    "2": "NULL",
                                    "3": "NULL",
                                    "4": "NO",
                                    "5": "NULL",
                                    "6": "NULL"
                                },
                                {
                                    "0": "E011",
                                    "1": "Numeric data types",
                                    "2": "NULL",
                                    "3": "NULL",
                                    "4": "YES",
                                    "5": "NULL",
                                    "6": "NULL"
                                },
                                {
                                    "0": "E011",
                                    "1": "Numeric data types",
                                    "2": "01",
                                    "3": "INTEGER and SMALLINT data types",
                                    "4": "YES",
                                    "5": "NULL",
                                    "6": "NULL"
                                },
                                {
                                    "0": "E011",
                                    "1": "Numeric data types",
                                    "2": "02",
                                    "3": "REAL, DOUBLE PRECISION, and FLOAT data types",
                                    "4": "YES",
                                    "5": "NULL",
                                    "6": "NULL"
                                },
                                {
                                    "0": "E011",
                                    "1": "Numeric data types",
                                    "2": "03",
                                    "3": "DECIMAL and NUMERIC data types",
                                    "4": "YES",
                                    "5": "NULL",
                                    "6": "NULL"
                                },
                                {
                                    "0": "E011",
                                    "1": "Numeric data types",
                                    "2": "04",
                                    "3": "Arithmetic operators",
                                    "4": "YES",
                                    "5": "NULL",
                                    "6": "NULL"
                                },
                                {
                                    "0": "E011",
                                    "1": "Numeric data types",
                                    "2": "05",
                                    "3": "Numeric comparison",
                                    "4": "YES",
                                    "5": "NULL",
                                    "6": "NULL"
                                },
                                {
                                    "0": "E011",
                                    "1": "Numeric data types",
                                    "2": "06",
                                    "3": "Implicit casting among the numeric data types",
                                    "4": "YES",
                                    "5": "NULL",
                                    "6": "NULL"
                                },
                                {
                                    "0": "E021",
                                    "1": "Character data types",
                                    "2": "NULL",
                                    "3": "NULL",
                                    "4": "YES",
                                    "5": "NULL",
                                    "6": "NULL"
                                },
                                {
                                    "0": "E021",
                                    "1": "Character string types",
                                    "2": "01",
                                    "3": "CHARACTER data type",
                                    "4": "YES",
                                    "5": "NULL",
                                    "6": "NULL"
                                },
                                {
                                    "0": "E021",
                                    "1": "Character string types",
                                    "2": "02",
                                    "3": "CHARACTER VARYING data type",
                                    "4": "YES",
                                    "5": "NULL",
                                    "6": "NULL"
                                },
                                {
                                    "0": "E021",
                                    "1": "Character string types",
                                    "2": "03",
                                    "3": "Character literals",
                                    "4": "YES",
                                    "5": "NULL",
                                    "6": "NULL"
                                },
                                {
                                    "0": "E021",
                                    "1": "Character string types",
                                    "2": "04",
                                    "3": "CHARACTER_LENGTH function",
                                    "4": "YES",
                                    "5": "NULL",
                                    "6": "trims trailing spaces from CHARACTER values before counting"
                                },
                                {
                                    "0": "E021",
                                    "1": "Character string types",
                                    "2": "05",
                                    "3": "OCTET_LENGTH function",
                                    "4": "YES",
                                    "5": "NULL",
                                    "6": "NULL"
                                },
                                {
                                    "0": "E021",
                                    "1": "Character string types",
                                    "2": "06",
                                    "3": "SUBSTRING function",
                                    "4": "YES",
                                    "5": "NULL",
                                    "6": "NULL"
                                },
                                {
                                    "0": "E021",
                                    "1": "Character string types",
                                    "2": "07",
                                    "3": "Character concatenation",
                                    "4": "YES",
                                    "5": "NULL",
                                    "6": "NULL"
                                },
                                {
                                    "0": "E021",
                                    "1": "Character string types",
                                    "2": "08",
                                    "3": "UPPER and LOWER functions",
                                    "4": "YES",
                                    "5": "NULL",
                                    "6": "NULL"
                                },
                                {
                                    "0": "E021",
                                    "1": "Character string types",
                                    "2": "09",
                                    "3": "TRIM function",
                                    "4": "YES",
                                    "5": "NULL",
                                    "6": "NULL"
                                },
                                {
                                    "0": "E021",
                                    "1": "Character string types",
                                    "2": "10",
                                    "3": "Implicit casting among the character string types",
                                    "4": "YES",
                                    "5": "NULL",
                                    "6": "NULL"
                                },
                                {
                                    "0": "E021",
                                    "1": "Character string types",
                                    "2": "11",
                                    "3": "POSITION function",
                                    "4": "YES",
                                    "5": "NULL",
                                    "6": "NULL"
                                },
                                {
                                    "0": "E021",
                                    "1": "Character string types",
                                    "2": "12",
                                    "3": "Character comparison",
                                    "4": "YES",
                                    "5": "NULL",
                                    "6": "NULL"
                                },
                                {
                                    "0": "E031",
                                    "1": "Identifiers",
                                    "2": "NULL",
                                    "3": "NULL",
                                    "4": "YES",
                                    "5": "NULL",
                                    "6": "NULL"
                                },
                                {
                                    "0": "E031",
                                    "1": "Identifiers",
                                    "2": "01",
                                    "3": "Delimited identifiers",
                                    "4": "YES",
                                    "5": "NULL",
                                    "6": "NULL"
                                },
                                {
                                    "0": "E031",
                                    "1": "Identifiers",
                                    "2": "02",
                                    "3": "Lower case identifiers",
                                    "4": "YES",
                                    "5": "NULL",
                                    "6": "NULL"
                                },
                                {
                                    "0": "E031",
                                    "1": "Identifiers",
                                    "2": "03",
                                    "3": "Trailing underscore",
                                    "4": "YES",
                                    "5": "NULL",
                                    "6": "NULL"
                                },
                                {
                                    "0": "E051",
                                    "1": "Basic query specification",
                                    "2": "NULL",
                                    "3": "NULL",
                                    "4": "YES",
                                    "5": "NULL",
                                    "6": "NULL"
                                },
                                {
                                    "0": "E051",
                                    "1": "Basic query specification",
                                    "2": "01",
                                    "3": "SELECT DISTINCT",
                                    "4": "YES",
                                    "5": "NULL",
                                    "6": "NULL"
                                },
                                {
                                    "0": "E051",
                                    "1": "Basic query specification",
                                    "2": "02",
                                    "3": "GROUP BY clause",
                                    "4": "YES",
                                    "5": "NULL",
                                    "6": "NULL"
                                },
                                {
                                    "0": "E051",
                                    "1": "Basic query specification",
                                    "2": "04",
                                    "3": "GROUP BY can contain columns not in <select list>",
                                    "4": "YES",
                                    "5": "NULL",
                                    "6": "NULL"
                                },
                                {
                                    "0": "E051",
                                    "1": "Basic query specification",
                                    "2": "05",
                                    "3": "Select list items can be renamed",
                                    "4": "YES",
                                    "5": "NULL",
                                    "6": "NULL"
                                },
                                {
                                    "0": "E051",
                                    "1": "Basic query specification",
                                    "2": "06",
                                    "3": "HAVING clause",
                                    "4": "YES",
                                    "5": "NULL",
                                    "6": "NULL"
                                },
                                {
                                    "0": "E051",
                                    "1": "Basic query specification",
                                    "2": "07",
                                    "3": "Qualified * in select list",
                                    "4": "YES",
                                    "5": "NULL",
                                    "6": "NULL"
                                },
                                {
                                    "0": "E051",
                                    "1": "Basic query specification",
                                    "2": "08",
                                    "3": "Correlation names in the FROM clause",
                                    "4": "YES",
                                    "5": "NULL",
                                    "6": "NULL"
                                },
                                {
                                    "0": "E051",
                                    "1": "Basic query specification",
                                    "2": "09",
                                    "3": "Rename columns in the FROM clause",
                                    "4": "YES",
                                    "5": "NULL",
                                    "6": "NULL"
                                },
                                {
                                    "0": "E061",
                                    "1": "Basic predicates and search conditions",
                                    "2": "NULL",
                                    "3": "NULL",
                                    "4": "YES",
                                    "5": "NULL",
                                    "6": "NULL"
                                },
                                {
                                    "0": "E061",
                                    "1": "Basic predicates and search conditions",
                                    "2": "01",
                                    "3": "Comparison predicate",
                                    "4": "YES",
                                    "5": "NULL",
                                    "6": "NULL"
                                },
                                {
                                    "0": "E061",
                                    "1": "Basic predicates and search conditions",
                                    "2": "02",
                                    "3": "BETWEEN predicate",
                                    "4": "YES",
                                    "5": "NULL",
                                    "6": "NULL"
                                },
                                {
                                    "0": "E061",
                                    "1": "Basic predicates and search conditions",
                                    "2": "03",
                                    "3": "IN predicate with list of values",
                                    "4": "YES",
                                    "5": "NULL",
                                    "6": "NULL"
                                },
                                {
                                    "0": "E061",
                                    "1": "Basic predicates and search conditions",
                                    "2": "04",
                                    "3": "LIKE predicate",
                                    "4": "YES",
                                    "5": "NULL",
                                    "6": "NULL"
                                },
                                {
                                    "0": "E061",
                                    "1": "Basic predicates and search conditions",
                                    "2": "05",
                                    "3": "LIKE predicate ESCAPE clause",
                                    "4": "YES",
                                    "5": "NULL",
                                    "6": "NULL"
                                },
                                {
                                    "0": "E061",
                                    "1": "Basic predicates and search conditions",
                                    "2": "06",
                                    "3": "NULL predicate",
                                    "4": "YES",
                                    "5": "NULL",
                                    "6": "NULL"
                                },
                                {
                                    "0": "E061",
                                    "1": "Basic predicates and search conditions",
                                    "2": "07",
                                    "3": "Quantified comparison predicate",
                                    "4": "YES",
                                    "5": "NULL",
                                    "6": "NULL"
                                },
                                {
                                    "0": "E061",
                                    "1": "Basic predicates and search conditions",
                                    "2": "08",
                                    "3": "EXISTS predicate",
                                    "4": "YES",
                                    "5": "NULL",
                                    "6": "NULL"
                                },
                                {
                                    "0": "E061",
                                    "1": "Basic predicates and search conditions",
                                    "2": "09",
                                    "3": "Subqueries in comparison predicate",
                                    "4": "YES",
                                    "5": "NULL",
                                    "6": "NULL"
                                },
                                {
                                    "0": "E061",
                                    "1": "Basic predicates and search conditions",
                                    "2": "11",
                                    "3": "Subqueries in IN predicate",
                                    "4": "YES",
                                    "5": "NULL",
                                    "6": "NULL"
                                },
                                {
                                    "0": "E061",
                                    "1": "Basic predicates and search conditions",
                                    "2": "12",
                                    "3": "Subqueries in quantified comparison predicate",
                                    "4": "YES",
                                    "5": "NULL",
                                    "6": "NULL"
                                },
                                {
                                    "0": "E061",
                                    "1": "Basic predicates and search conditions",
                                    "2": "13",
                                    "3": "Correlated subqueries",
                                    "4": "YES",
                                    "5": "NULL",
                                    "6": "NULL"
                                },
                                {
                                    "0": "E061",
                                    "1": "Basic predicates and search conditions",
                                    "2": "14",
                                    "3": "Search condition",
                                    "4": "YES",
                                    "5": "NULL",
                                    "6": "NULL"
                                },
                                {
                                    "0": "E071",
                                    "1": "Basic query expressions",
                                    "2": "NULL",
                                    "3": "NULL",
                                    "4": "YES",
                                    "5": "NULL",
                                    "6": "NULL"
                                },
                                {
                                    "0": "E071",
                                    "1": "Basic query expressions",
                                    "2": "01",
                                    "3": "UNION DISTINCT table operator",
                                    "4": "YES",
                                    "5": "NULL",
                                    "6": "NULL"
                                },
                                {
                                    "0": "E071",
                                    "1": "Basic query expressions",
                                    "2": "02",
                                    "3": "UNION ALL table operator",
                                    "4": "YES",
                                    "5": "NULL",
                                    "6": "NULL"
                                },
                                {
                                    "0": "E071",
                                    "1": "Basic query expressions",
                                    "2": "03",
                                    "3": "EXCEPT DISTINCT table operator",
                                    "4": "YES",
                                    "5": "NULL",
                                    "6": "NULL"
                                },
                                {
                                    "0": "E071",
                                    "1": "Basic query expressions",
                                    "2": "05",
                                    "3": "Columns combined via table operators need not have exactly the same data type",
                                    "4": "YES",
                                    "5": "NULL",
                                    "6": "NULL"
                                },
                                {
                                    "0": "E071",
                                    "1": "Basic query expressions",
                                    "2": "06",
                                    "3": "Table operators in subqueries",
                                    "4": "YES",
                                    "5": "NULL",
                                    "6": "NULL"
                                },
                                {
                                    "0": "E081",
                                    "1": "Basic Privileges",
                                    "2": "NULL",
                                    "3": "NULL",
                                    "4": "YES",
                                    "5": "NULL",
                                    "6": "NULL"
                                },
                                {
                                    "0": "E081",
                                    "1": "Basic Privileges",
                                    "2": "01",
                                    "3": "SELECT privilege",
                                    "4": "YES",
                                    "5": "NULL",
                                    "6": "NULL"
                                },
                                {
                                    "0": "E081",
                                    "1": "Basic Privileges",
                                    "2": "02",
                                    "3": "DELETE privilege",
                                    "4": "YES",
                                    "5": "NULL",
                                    "6": "NULL"
                                },
                                {
                                    "0": "E081",
                                    "1": "Basic Privileges",
                                    "2": "03",
                                    "3": "INSERT privilege at the table level",
                                    "4": "YES",
                                    "5": "NULL",
                                    "6": "NULL"
                                },
                                {
                                    "0": "E081",
                                    "1": "Basic Privileges",
                                    "2": "04",
                                    "3": "UPDATE privilege at the table level",
                                    "4": "YES",
                                    "5": "NULL",
                                    "6": "NULL"
                                },
                                {
                                    "0": "E081",
                                    "1": "Basic Privileges",
                                    "2": "05",
                                    "3": "UPDATE privilege at the column level",
                                    "4": "YES",
                                    "5": "NULL",
                                    "6": "NULL"
                                },
                                {
                                    "0": "E081",
                                    "1": "Basic Privileges",
                                    "2": "06",
                                    "3": "REFERENCES privilege at the table level",
                                    "4": "YES",
                                    "5": "NULL",
                                    "6": "NULL"
                                },
                                {
                                    "0": "E081",
                                    "1": "Basic Privileges",
                                    "2": "07",
                                    "3": "REFERENCES privilege at the column level",
                                    "4": "YES",
                                    "5": "NULL",
                                    "6": "NULL"
                                },
                                {
                                    "0": "E081",
                                    "1": "Basic Privileges",
                                    "2": "08",
                                    "3": "WITH GRANT OPTION",
                                    "4": "YES",
                                    "5": "NULL",
                                    "6": "NULL"
                                },
                                {
                                    "0": "E081",
                                    "1": "Basic Privileges",
                                    "2": "09",
                                    "3": "USAGE privilege",
                                    "4": "YES",
                                    "5": "NULL",
                                    "6": "NULL"
                                },
                                {
                                    "0": "E081",
                                    "1": "Basic Privileges",
                                    "2": "10",
                                    "3": "EXECUTE privilege",
                                    "4": "YES",
                                    "5": "NULL",
                                    "6": "NULL"
                                },
                                {
                                    "0": "E091",
                                    "1": "Set functions",
                                    "2": "NULL",
                                    "3": "NULL",
                                    "4": "YES",
                                    "5": "NULL",
                                    "6": "NULL"
                                },
                                {
                                    "0": "E091",
                                    "1": "Set functions",
                                    "2": "01",
                                    "3": "AVG",
                                    "4": "YES",
                                    "5": "NULL",
                                    "6": "NULL"
                                },
                                {
                                    "0": "E091",
                                    "1": "Set functions",
                                    "2": "02",
                                    "3": "COUNT",
                                    "4": "YES",
                                    "5": "NULL",
                                    "6": "NULL"
                                },
                                {
                                    "0": "E091",
                                    "1": "Set functions",
                                    "2": "03",
                                    "3": "MAX",
                                    "4": "YES",
                                    "5": "NULL",
                                    "6": "NULL"
                                },
                                {
                                    "0": "E091",
                                    "1": "Set functions",
                                    "2": "04",
                                    "3": "MIN",
                                    "4": "YES",
                                    "5": "NULL",
                                    "6": "NULL"
                                },
                                {
                                    "0": "E091",
                                    "1": "Set functions",
                                    "2": "05",
                                    "3": "SUM",
                                    "4": "YES",
                                    "5": "NULL",
                                    "6": "NULL"
                                },
                                {
                                    "0": "E091",
                                    "1": "Set functions",
                                    "2": "06",
                                    "3": "ALL quantifier",
                                    "4": "YES",
                                    "5": "NULL",
                                    "6": "NULL"
                                },
                                {
                                    "0": "E091",
                                    "1": "Set functions",
                                    "2": "07",
                                    "3": "DISTINCT quantifier",
                                    "4": "YES",
                                    "5": "NULL",
                                    "6": "NULL"
                                },
                                {
                                    "0": "E101",
                                    "1": "Basic data manipulation",
                                    "2": "NULL",
                                    "3": "NULL",
                                    "4": "YES",
                                    "5": "NULL",
                                    "6": "NULL"
                                },
                                {
                                    "0": "E101",
                                    "1": "Basic data manipulation",
                                    "2": "01",
                                    "3": "INSERT statement",
                                    "4": "YES",
                                    "5": "NULL",
                                    "6": "NULL"
                                },
                                {
                                    "0": "E101",
                                    "1": "Basic data manipulation",
                                    "2": "03",
                                    "3": "Searched UPDATE statement",
                                    "4": "YES",
                                    "5": "NULL",
                                    "6": "NULL"
                                },
                                {
                                    "0": "E101",
                                    "1": "Basic data manipulation",
                                    "2": "04",
                                    "3": "Searched DELETE statement",
                                    "4": "YES",
                                    "5": "NULL",
                                    "6": "NULL"
                                },
                                {
                                    "0": "E111",
                                    "1": "Single row SELECT statement",
                                    "2": "NULL",
                                    "3": "NULL",
                                    "4": "YES",
                                    "5": "NULL",
                                    "6": "NULL"
                                },
                                {
                                    "0": "E121",
                                    "1": "Basic cursor support",
                                    "2": "NULL",
                                    "3": "NULL",
                                    "4": "YES",
                                    "5": "NULL",
                                    "6": "NULL"
                                },
                                {
                                    "0": "E121",
                                    "1": "Basic cursor support",
                                    "2": "01",
                                    "3": "DECLARE CURSOR",
                                    "4": "YES",
                                    "5": "NULL",
                                    "6": "NULL"
                                },
                                {
                                    "0": "E121",
                                    "1": "Basic cursor support",
                                    "2": "02",
                                    "3": "ORDER BY columns need not be in select list",
                                    "4": "YES",
                                    "5": "NULL",
                                    "6": "NULL"
                                },
                                {
                                    "0": "E121",
                                    "1": "Basic cursor support",
                                    "2": "03",
                                    "3": "Value expressions in ORDER BY clause",
                                    "4": "YES",
                                    "5": "NULL",
                                    "6": "NULL"
                                },
                                {
                                    "0": "E121",
                                    "1": "Basic cursor support",
                                    "2": "04",
                                    "3": "OPEN statement",
                                    "4": "YES",
                                    "5": "NULL",
                                    "6": "NULL"
                                },
                                {
                                    "0": "E121",
                                    "1": "Basic cursor support",
                                    "2": "06",
                                    "3": "Positioned UPDATE statement",
                                    "4": "YES",
                                    "5": "NULL",
                                    "6": "NULL"
                                },
                                {
                                    "0": "E121",
                                    "1": "Basic cursor support",
                                    "2": "07",
                                    "3": "Positioned DELETE statement",
                                    "4": "YES",
                                    "5": "NULL",
                                    "6": "NULL"
                                },
                                {
                                    "0": "E121",
                                    "1": "Basic cursor support",
                                    "2": "08",
                                    "3": "CLOSE statement",
                                    "4": "YES",
                                    "5": "NULL",
                                    "6": "NULL"
                                },
                                {
                                    "0": "E121",
                                    "1": "Basic cursor support",
                                    "2": "10",
                                    "3": "FETCH statement implicit NEXT",
                                    "4": "YES",
                                    "5": "NULL",
                                    "6": "NULL"
                                },
                                {
                                    "0": "E121",
                                    "1": "Basic cursor support",
                                    "2": "17",
                                    "3": "WITH HOLD cursors",
                                    "4": "YES",
                                    "5": "NULL",
                                    "6": "NULL"
                                },
                                {
                                    "0": "E131",
                                    "1": "Null value support (nulls in lieu of values)",
                                    "2": "NULL",
                                    "3": "NULL",
                                    "4": "YES",
                                    "5": "NULL",
                                    "6": "NULL"
                                },
                                {
                                    "0": "E141",
                                    "1": "Basic integrity constraints",
                                    "2": "NULL",
                                    "3": "NULL",
                                    "4": "YES",
                                    "5": "NULL",
                                    "6": "NULL"
                                },
                                {
                                    "0": "E141",
                                    "1": "Basic integrity constraints",
                                    "2": "01",
                                    "3": "NOT NULL constraints",
                                    "4": "YES",
                                    "5": "NULL",
                                    "6": "NULL"
                                },
                                {
                                    "0": "E141",
                                    "1": "Basic integrity constraints",
                                    "2": "02",
                                    "3": "UNIQUE constraints of NOT NULL columns",
                                    "4": "YES",
                                    "5": "NULL",
                                    "6": "NULL"
                                },
                                {
                                    "0": "E141",
                                    "1": "Basic integrity constraints",
                                    "2": "03",
                                    "3": "PRIMARY KEY constraints",
                                    "4": "YES",
                                    "5": "NULL",
                                    "6": "NULL"
                                },
                                {
                                    "0": "E141",
                                    "1": "Basic integrity constraints",
                                    "2": "04",
                                    "3": "Basic FOREIGN KEY constraint with the NO ACTION default for both referential delete action and referential update action",
                                    "4": "YES",
                                    "5": "NULL",
                                    "6": "NULL"
                                },
                                {
                                    "0": "E141",
                                    "1": "Basic integrity constraints",
                                    "2": "06",
                                    "3": "CHECK constraints",
                                    "4": "YES",
                                    "5": "NULL",
                                    "6": "NULL"
                                },
                                {
                                    "0": "E141",
                                    "1": "Basic integrity constraints",
                                    "2": "07",
                                    "3": "Column defaults",
                                    "4": "YES",
                                    "5": "NULL",
                                    "6": "NULL"
                                },
                                {
                                    "0": "E141",
                                    "1": "Basic integrity constraints",
                                    "2": "08",
                                    "3": "NOT NULL inferred on PRIMARY KEY",
                                    "4": "YES",
                                    "5": "NULL",
                                    "6": "NULL"
                                },
                                {
                                    "0": "E141",
                                    "1": "Basic integrity constraints",
                                    "2": "10",
                                    "3": "Names in a foreign key can be specified in any order",
                                    "4": "YES",
                                    "5": "NULL",
                                    "6": "NULL"
                                },
                                {
                                    "0": "E151",
                                    "1": "Transaction support",
                                    "2": "NULL",
                                    "3": "NULL",
                                    "4": "YES",
                                    "5": "NULL",
                                    "6": "NULL"
                                },
                                {
                                    "0": "E151",
                                    "1": "Transaction support",
                                    "2": "01",
                                    "3": "COMMIT statement",
                                    "4": "YES",
                                    "5": "NULL",
                                    "6": "NULL"
                                },
                                {
                                    "0": "E151",
                                    "1": "Transaction support",
                                    "2": "02",
                                    "3": "ROLLBACK statement",
                                    "4": "YES",
                                    "5": "NULL",
                                    "6": "NULL"
                                },
                                {
                                    "0": "E152",
                                    "1": "Basic SET TRANSACTION statement",
                                    "2": "NULL",
                                    "3": "NULL",
                                    "4": "YES",
                                    "5": "NULL",
                                    "6": "NULL"
                                },
                                {
                                    "0": "E152",
                                    "1": "Basic SET TRANSACTION statement",
                                    "2": "01",
                                    "3": "SET TRANSACTION statement: ISOLATION LEVEL SERIALIZABLE clause",
                                    "4": "YES",
                                    "5": "NULL",
                                    "6": "NULL"
                                },
                                {
                                    "0": "E152",
                                    "1": "Basic SET TRANSACTION statement",
                                    "2": "02",
                                    "3": "SET TRANSACTION statement: READ ONLY and READ WRITE clauses",
                                    "4": "YES",
                                    "5": "NULL",
                                    "6": "NULL"
                                },
                                {
                                    "0": "E153",
                                    "1": "Updatable queries with subqueries",
                                    "2": "NULL",
                                    "3": "NULL",
                                    "4": "YES",
                                    "5": "NULL",
                                    "6": "NULL"
                                },
                                {
                                    "0": "E161",
                                    "1": "SQL comments using leading double minus",
                                    "2": "NULL",
                                    "3": "NULL",
                                    "4": "YES",
                                    "5": "NULL",
                                    "6": "NULL"
                                },
                                {
                                    "0": "E171",
                                    "1": "SQLSTATE support",
                                    "2": "NULL",
                                    "3": "NULL",
                                    "4": "YES",
                                    "5": "NULL",
                                    "6": "NULL"
                                },
                                {
                                    "0": "E182",
                                    "1": "Module language",
                                    "2": "NULL",
                                    "3": "NULL",
                                    "4": "NO",
                                    "5": "NULL",
                                    "6": "NULL"
                                },
                                {
                                    "0": "F021",
                                    "1": "Basic information schema",
                                    "2": "NULL",
                                    "3": "NULL",
                                    "4": "YES",
                                    "5": "NULL",
                                    "6": "NULL"
                                },
                                {
                                    "0": "F021",
                                    "1": "Basic information schema",
                                    "2": "01",
                                    "3": "COLUMNS view",
                                    "4": "YES",
                                    "5": "NULL",
                                    "6": "NULL"
                                },
                                {
                                    "0": "F021",
                                    "1": "Basic information schema",
                                    "2": "02",
                                    "3": "TABLES view",
                                    "4": "YES",
                                    "5": "NULL",
                                    "6": "NULL"
                                },
                                {
                                    "0": "F021",
                                    "1": "Basic information schema",
                                    "2": "03",
                                    "3": "VIEWS view",
                                    "4": "YES",
                                    "5": "NULL",
                                    "6": "NULL"
                                },
                                {
                                    "0": "F021",
                                    "1": "Basic information schema",
                                    "2": "04",
                                    "3": "TABLE_CONSTRAINTS view",
                                    "4": "YES",
                                    "5": "NULL",
                                    "6": "NULL"
                                },
                                {
                                    "0": "F021",
                                    "1": "Basic information schema",
                                    "2": "05",
                                    "3": "REFERENTIAL_CONSTRAINTS view",
                                    "4": "YES",
                                    "5": "NULL",
                                    "6": "NULL"
                                },
                                {
                                    "0": "F021",
                                    "1": "Basic information schema",
                                    "2": "06",
                                    "3": "CHECK_CONSTRAINTS view",
                                    "4": "YES",
                                    "5": "NULL",
                                    "6": "NULL"
                                },
                                {
                                    "0": "F031",
                                    "1": "Basic schema manipulation",
                                    "2": "NULL",
                                    "3": "NULL",
                                    "4": "YES",
                                    "5": "NULL",
                                    "6": "NULL"
                                },
                                {
                                    "0": "F031",
                                    "1": "Basic schema manipulation",
                                    "2": "01",
                                    "3": "CREATE TABLE statement to create persistent base tables",
                                    "4": "YES",
                                    "5": "NULL",
                                    "6": "NULL"
                                },
                                {
                                    "0": "F031",
                                    "1": "Basic schema manipulation",
                                    "2": "02",
                                    "3": "CREATE VIEW statement",
                                    "4": "YES",
                                    "5": "NULL",
                                    "6": "NULL"
                                },
                                {
                                    "0": "F031",
                                    "1": "Basic schema manipulation",
                                    "2": "03",
                                    "3": "GRANT statement",
                                    "4": "YES",
                                    "5": "NULL",
                                    "6": "NULL"
                                },
                                {
                                    "0": "F031",
                                    "1": "Basic schema manipulation",
                                    "2": "04",
                                    "3": "ALTER TABLE statement: ADD COLUMN clause",
                                    "4": "YES",
                                    "5": "NULL",
                                    "6": "NULL"
                                },
                                {
                                    "0": "F031",
                                    "1": "Basic schema manipulation",
                                    "2": "13",
                                    "3": "DROP TABLE statement: RESTRICT clause",
                                    "4": "YES",
                                    "5": "NULL",
                                    "6": "NULL"
                                },
                                {
                                    "0": "F031",
                                    "1": "Basic schema manipulation",
                                    "2": "16",
                                    "3": "DROP VIEW statement: RESTRICT clause",
                                    "4": "YES",
                                    "5": "NULL",
                                    "6": "NULL"
                                },
                                {
                                    "0": "F031",
                                    "1": "Basic schema manipulation",
                                    "2": "19",
                                    "3": "REVOKE statement: RESTRICT clause",
                                    "4": "YES",
                                    "5": "NULL",
                                    "6": "NULL"
                                },
                                {
                                    "0": "F032",
                                    "1": "CASCADE drop behavior",
                                    "2": "NULL",
                                    "3": "NULL",
                                    "4": "YES",
                                    "5": "NULL",
                                    "6": "NULL"
                                },
                                {
                                    "0": "F033",
                                    "1": "ALTER TABLE statement: DROP COLUMN clause",
                                    "2": "NULL",
                                    "3": "NULL",
                                    "4": "YES",
                                    "5": "NULL",
                                    "6": "NULL"
                                },
                                {
                                    "0": "F034",
                                    "1": "Extended REVOKE statement",
                                    "2": "NULL",
                                    "3": "NULL",
                                    "4": "YES",
                                    "5": "NULL",
                                    "6": "NULL"
                                },
                                {
                                    "0": "F034",
                                    "1": "Extended REVOKE statement",
                                    "2": "01",
                                    "3": "REVOKE statement performed by other than the owner of a schema object",
                                    "4": "YES",
                                    "5": "NULL",
                                    "6": "NULL"
                                },
                                {
                                    "0": "F034",
                                    "1": "Extended REVOKE statement",
                                    "2": "02",
                                    "3": "REVOKE statement: GRANT OPTION FOR clause",
                                    "4": "YES",
                                    "5": "NULL",
                                    "6": "NULL"
                                },
                                {
                                    "0": "F034",
                                    "1": "Extended REVOKE statement",
                                    "2": "03",
                                    "3": "REVOKE statement to revoke a privilege that the grantee has WITH GRANT OPTION",
                                    "4": "YES",
                                    "5": "NULL",
                                    "6": "NULL"
                                },
                                {
                                    "0": "F041",
                                    "1": "Basic joined table",
                                    "2": "NULL",
                                    "3": "NULL",
                                    "4": "YES",
                                    "5": "NULL",
                                    "6": "NULL"
                                },
                                {
                                    "0": "F041",
                                    "1": "Basic joined table",
                                    "2": "01",
                                    "3": "Inner join (but not necessarily the INNER keyword)",
                                    "4": "YES",
                                    "5": "NULL",
                                    "6": "NULL"
                                },
                                {
                                    "0": "F041",
                                    "1": "Basic joined table",
                                    "2": "02",
                                    "3": "INNER keyword",
                                    "4": "YES",
                                    "5": "NULL",
                                    "6": "NULL"
                                },
                                {
                                    "0": "F041",
                                    "1": "Basic joined table",
                                    "2": "03",
                                    "3": "LEFT OUTER JOIN",
                                    "4": "YES",
                                    "5": "NULL",
                                    "6": "NULL"
                                },
                                {
                                    "0": "F041",
                                    "1": "Basic joined table",
                                    "2": "04",
                                    "3": "RIGHT OUTER JOIN",
                                    "4": "YES",
                                    "5": "NULL",
                                    "6": "NULL"
                                },
                                {
                                    "0": "F041",
                                    "1": "Basic joined table",
                                    "2": "05",
                                    "3": "Outer joins can be nested",
                                    "4": "YES",
                                    "5": "NULL",
                                    "6": "NULL"
                                },
                                {
                                    "0": "F041",
                                    "1": "Basic joined table",
                                    "2": "07",
                                    "3": "The inner table in a left or right outer join can also be used in an inner join",
                                    "4": "YES",
                                    "5": "NULL",
                                    "6": "NULL"
                                },
                                {
                                    "0": "F041",
                                    "1": "Basic joined table",
                                    "2": "08",
                                    "3": "All comparison operators are supported (rather than just =)",
                                    "4": "YES",
                                    "5": "NULL",
                                    "6": "NULL"
                                },
                                {
                                    "0": "F051",
                                    "1": "Basic date and time",
                                    "2": "NULL",
                                    "3": "NULL",
                                    "4": "YES",
                                    "5": "NULL",
                                    "6": "NULL"
                                },
                                {
                                    "0": "F051",
                                    "1": "Basic date and time",
                                    "2": "01",
                                    "3": "DATE data type (including support of DATE literal)",
                                    "4": "YES",
                                    "5": "NULL",
                                    "6": "NULL"
                                },
                                {
                                    "0": "F051",
                                    "1": "Basic date and time",
                                    "2": "02",
                                    "3": "TIME data type (including support of TIME literal) with fractional seconds precision of at least 0",
                                    "4": "YES",
                                    "5": "NULL",
                                    "6": "NULL"
                                },
                                {
                                    "0": "F051",
                                    "1": "Basic date and time",
                                    "2": "03",
                                    "3": "TIMESTAMP data type (including support of TIMESTAMP literal) with fractional seconds precision of at least 0 and 6",
                                    "4": "YES",
                                    "5": "NULL",
                                    "6": "NULL"
                                },
                                {
                                    "0": "F051",
                                    "1": "Basic date and time",
                                    "2": "04",
                                    "3": "Comparison predicate on DATE, TIME, and TIMESTAMP data types",
                                    "4": "YES",
                                    "5": "NULL",
                                    "6": "NULL"
                                },
                                {
                                    "0": "F051",
                                    "1": "Basic date and time",
                                    "2": "05",
                                    "3": "Explicit CAST between datetime types and character string types",
                                    "4": "YES",
                                    "5": "NULL",
                                    "6": "NULL"
                                },
                                {
                                    "0": "F051",
                                    "1": "Basic date and time",
                                    "2": "06",
                                    "3": "CURRENT_DATE",
                                    "4": "YES",
                                    "5": "NULL",
                                    "6": "NULL"
                                },
                                {
                                    "0": "F051",
                                    "1": "Basic date and time",
                                    "2": "07",
                                    "3": "LOCALTIME",
                                    "4": "YES",
                                    "5": "NULL",
                                    "6": "NULL"
                                },
                                {
                                    "0": "F051",
                                    "1": "Basic date and time",
                                    "2": "08",
                                    "3": "LOCALTIMESTAMP",
                                    "4": "YES",
                                    "5": "NULL",
                                    "6": "NULL"
                                },
                                {
                                    "0": "F052",
                                    "1": "Intervals and datetime arithmetic",
                                    "2": "NULL",
                                    "3": "NULL",
                                    "4": "YES",
                                    "5": "NULL",
                                    "6": "NULL"
                                },
                                {
                                    "0": "F053",
                                    "1": "OVERLAPS predicate",
                                    "2": "NULL",
                                    "3": "NULL",
                                    "4": "YES",
                                    "5": "NULL",
                                    "6": "NULL"
                                },
                                {
                                    "0": "F054",
                                    "1": "TIMESTAMP in DATE type precedence list",
                                    "2": "NULL",
                                    "3": "NULL",
                                    "4": "NO",
                                    "5": "NULL",
                                    "6": "NULL"
                                },
                                {
                                    "0": "F081",
                                    "1": "UNION and EXCEPT in views",
                                    "2": "NULL",
                                    "3": "NULL",
                                    "4": "YES",
                                    "5": "NULL",
                                    "6": "NULL"
                                },
                                {
                                    "0": "F111",
                                    "1": "Isolation levels other than SERIALIZABLE",
                                    "2": "NULL",
                                    "3": "NULL",
                                    "4": "YES",
                                    "5": "NULL",
                                    "6": "NULL"
                                },
                                {
                                    "0": "F111",
                                    "1": "Isolation levels other than SERIALIZABLE",
                                    "2": "01",
                                    "3": "READ UNCOMMITTED isolation level",
                                    "4": "YES",
                                    "5": "NULL",
                                    "6": "NULL"
                                },
                                {
                                    "0": "F111",
                                    "1": "Isolation levels other than SERIALIZABLE",
                                    "2": "02",
                                    "3": "READ COMMITTED isolation level",
                                    "4": "YES",
                                    "5": "NULL",
                                    "6": "NULL"
                                },
                                {
                                    "0": "F111",
                                    "1": "Isolation levels other than SERIALIZABLE",
                                    "2": "03",
                                    "3": "REPEATABLE READ isolation level",
                                    "4": "YES",
                                    "5": "NULL",
                                    "6": "NULL"
                                },
                                {
                                    "0": "F121",
                                    "1": "Basic diagnostics management",
                                    "2": "NULL",
                                    "3": "NULL",
                                    "4": "NO",
                                    "5": "NULL",
                                    "6": "NULL"
                                },
                                {
                                    "0": "F121",
                                    "1": "Basic diagnostics management",
                                    "2": "01",
                                    "3": "GET DIAGNOSTICS statement",
                                    "4": "NO",
                                    "5": "NULL",
                                    "6": "NULL"
                                },
                                {
                                    "0": "F121",
                                    "1": "Basic diagnostics management",
                                    "2": "02",
                                    "3": "SET TRANSACTION statement: DIAGNOSTICS SIZE clause",
                                    "4": "NO",
                                    "5": "NULL",
                                    "6": "NULL"
                                },
                                {
                                    "0": "F122",
                                    "1": "Enhanced diagnostics management",
                                    "2": "NULL",
                                    "3": "NULL",
                                    "4": "NO",
                                    "5": "NULL",
                                    "6": "NULL"
                                },
                                {
                                    "0": "F123",
                                    "1": "All diagnostics",
                                    "2": "NULL",
                                    "3": "NULL",
                                    "4": "NO",
                                    "5": "NULL",
                                    "6": "NULL"
                                },
                                {
                                    "0": "F131",
                                    "1": "Grouped operations",
                                    "2": "NULL",
                                    "3": "NULL",
                                    "4": "YES",
                                    "5": "NULL",
                                    "6": "NULL"
                                },
                                {
                                    "0": "F131",
                                    "1": "Grouped operations",
                                    "2": "01",
                                    "3": "WHERE, GROUP BY, and HAVING clauses supported in queries with grouped views",
                                    "4": "YES",
                                    "5": "NULL",
                                    "6": "NULL"
                                },
                                {
                                    "0": "F131",
                                    "1": "Grouped operations",
                                    "2": "02",
                                    "3": "Multiple tables supported in queries with grouped views",
                                    "4": "YES",
                                    "5": "NULL",
                                    "6": "NULL"
                                },
                                {
                                    "0": "F131",
                                    "1": "Grouped operations",
                                    "2": "03",
                                    "3": "Set functions supported in queries with grouped views",
                                    "4": "YES",
                                    "5": "NULL",
                                    "6": "NULL"
                                },
                                {
                                    "0": "F131",
                                    "1": "Grouped operations",
                                    "2": "04",
                                    "3": "Subqueries with GROUP BY and HAVING clauses and grouped views",
                                    "4": "YES",
                                    "5": "NULL",
                                    "6": "NULL"
                                },
                                {
                                    "0": "F131",
                                    "1": "Grouped operations",
                                    "2": "05",
                                    "3": "Single row SELECT with GROUP BY and HAVING clauses and grouped views",
                                    "4": "YES",
                                    "5": "NULL",
                                    "6": "NULL"
                                },
                                {
                                    "0": "F171",
                                    "1": "Multiple schemas per user",
                                    "2": "NULL",
                                    "3": "NULL",
                                    "4": "YES",
                                    "5": "NULL",
                                    "6": "NULL"
                                },
                                {
                                    "0": "F181",
                                    "1": "Multiple module support",
                                    "2": "NULL",
                                    "3": "NULL",
                                    "4": "NO",
                                    "5": "NULL",
                                    "6": "NULL"
                                },
                                {
                                    "0": "F191",
                                    "1": "Referential delete actions",
                                    "2": "NULL",
                                    "3": "NULL",
                                    "4": "YES",
                                    "5": "NULL",
                                    "6": "NULL"
                                },
                                {
                                    "0": "F200",
                                    "1": "TRUNCATE TABLE statement",
                                    "2": "NULL",
                                    "3": "NULL",
                                    "4": "YES",
                                    "5": "NULL",
                                    "6": "NULL"
                                },
                                {
                                    "0": "F201",
                                    "1": "CAST function",
                                    "2": "NULL",
                                    "3": "NULL",
                                    "4": "YES",
                                    "5": "NULL",
                                    "6": "NULL"
                                },
                                {
                                    "0": "F202",
                                    "1": "TRUNCATE TABLE: identity column restart option",
                                    "2": "NULL",
                                    "3": "NULL",
                                    "4": "YES",
                                    "5": "NULL",
                                    "6": "NULL"
                                },
                                {
                                    "0": "F221",
                                    "1": "Explicit defaults",
                                    "2": "NULL",
                                    "3": "NULL",
                                    "4": "YES",
                                    "5": "NULL",
                                    "6": "NULL"
                                },
                                {
                                    "0": "F222",
                                    "1": "INSERT statement: DEFAULT VALUES clause",
                                    "2": "NULL",
                                    "3": "NULL",
                                    "4": "YES",
                                    "5": "NULL",
                                    "6": "NULL"
                                },
                                {
                                    "0": "F231",
                                    "1": "Privilege tables",
                                    "2": "NULL",
                                    "3": "NULL",
                                    "4": "YES",
                                    "5": "NULL",
                                    "6": "NULL"
                                },
                                {
                                    "0": "F231",
                                    "1": "Privilege tables",
                                    "2": "01",
                                    "3": "TABLE_PRIVILEGES view",
                                    "4": "YES",
                                    "5": "NULL",
                                    "6": "NULL"
                                },
                                {
                                    "0": "F231",
                                    "1": "Privilege tables",
                                    "2": "02",
                                    "3": "COLUMN_PRIVILEGES view",
                                    "4": "YES",
                                    "5": "NULL",
                                    "6": "NULL"
                                },
                                {
                                    "0": "F231",
                                    "1": "Privilege tables",
                                    "2": "03",
                                    "3": "USAGE_PRIVILEGES view",
                                    "4": "YES",
                                    "5": "NULL",
                                    "6": "NULL"
                                },
                                {
                                    "0": "F251",
                                    "1": "Domain support",
                                    "2": "NULL",
                                    "3": "NULL",
                                    "4": "YES",
                                    "5": "NULL",
                                    "6": "NULL"
                                },
                                {
                                    "0": "F261",
                                    "1": "CASE expression",
                                    "2": "NULL",
                                    "3": "NULL",
                                    "4": "YES",
                                    "5": "NULL",
                                    "6": "NULL"
                                },
                                {
                                    "0": "F261",
                                    "1": "CASE expression",
                                    "2": "01",
                                    "3": "Simple CASE",
                                    "4": "YES",
                                    "5": "NULL",
                                    "6": "NULL"
                                },
                                {
                                    "0": "F261",
                                    "1": "CASE expression",
                                    "2": "02",
                                    "3": "Searched CASE",
                                    "4": "YES",
                                    "5": "NULL",
                                    "6": "NULL"
                                },
                                {
                                    "0": "F261",
                                    "1": "CASE expression",
                                    "2": "03",
                                    "3": "NULLIF",
                                    "4": "YES",
                                    "5": "NULL",
                                    "6": "NULL"
                                },
                                {
                                    "0": "F261",
                                    "1": "CASE expression",
                                    "2": "04",
                                    "3": "COALESCE",
                                    "4": "YES",
                                    "5": "NULL",
                                    "6": "NULL"
                                },
                                {
                                    "0": "F262",
                                    "1": "Extended CASE expression",
                                    "2": "NULL",
                                    "3": "NULL",
                                    "4": "YES",
                                    "5": "NULL",
                                    "6": "NULL"
                                },
                                {
                                    "0": "F263",
                                    "1": "Comma-separated predicates in simple CASE expression",
                                    "2": "NULL",
                                    "3": "NULL",
                                    "4": "NO",
                                    "5": "NULL",
                                    "6": "NULL"
                                },
                                {
                                    "0": "F271",
                                    "1": "Compound character literals",
                                    "2": "NULL",
                                    "3": "NULL",
                                    "4": "YES",
                                    "5": "NULL",
                                    "6": "NULL"
                                },
                                {
                                    "0": "F281",
                                    "1": "LIKE enhancements",
                                    "2": "NULL",
                                    "3": "NULL",
                                    "4": "YES",
                                    "5": "NULL",
                                    "6": "NULL"
                                },
                                {
                                    "0": "F291",
                                    "1": "UNIQUE predicate",
                                    "2": "NULL",
                                    "3": "NULL",
                                    "4": "NO",
                                    "5": "NULL",
                                    "6": "NULL"
                                },
                                {
                                    "0": "F301",
                                    "1": "CORRESPONDING in query expressions",
                                    "2": "NULL",
                                    "3": "NULL",
                                    "4": "NO",
                                    "5": "NULL",
                                    "6": "NULL"
                                },
                                {
                                    "0": "F302",
                                    "1": "INTERSECT table operator",
                                    "2": "NULL",
                                    "3": "NULL",
                                    "4": "YES",
                                    "5": "NULL",
                                    "6": "NULL"
                                },
                                {
                                    "0": "F302",
                                    "1": "INTERSECT table operator",
                                    "2": "01",
                                    "3": "INTERSECT DISTINCT table operator",
                                    "4": "YES",
                                    "5": "NULL",
                                    "6": "NULL"
                                },
                                {
                                    "0": "F302",
                                    "1": "INTERSECT table operator",
                                    "2": "02",
                                    "3": "INTERSECT ALL table operator",
                                    "4": "YES",
                                    "5": "NULL",
                                    "6": "NULL"
                                },
                                {
                                    "0": "F304",
                                    "1": "EXCEPT ALL table operator",
                                    "2": "NULL",
                                    "3": "NULL",
                                    "4": "YES",
                                    "5": "NULL",
                                    "6": "NULL"
                                },
                                {
                                    "0": "F311",
                                    "1": "Schema definition statement",
                                    "2": "NULL",
                                    "3": "NULL",
                                    "4": "NO",
                                    "5": "NULL",
                                    "6": "NULL"
                                },
                                {
                                    "0": "F311",
                                    "1": "Schema definition statement",
                                    "2": "01",
                                    "3": "CREATE SCHEMA",
                                    "4": "YES",
                                    "5": "NULL",
                                    "6": "NULL"
                                },
                                {
                                    "0": "F311",
                                    "1": "Schema definition statement",
                                    "2": "02",
                                    "3": "CREATE TABLE for persistent base tables",
                                    "4": "YES",
                                    "5": "NULL",
                                    "6": "NULL"
                                },
                                {
                                    "0": "F311",
                                    "1": "Schema definition statement",
                                    "2": "03",
                                    "3": "CREATE VIEW",
                                    "4": "YES",
                                    "5": "NULL",
                                    "6": "NULL"
                                },
                                {
                                    "0": "F311",
                                    "1": "Schema definition statement",
                                    "2": "04",
                                    "3": "CREATE VIEW: WITH CHECK OPTION",
                                    "4": "YES",
                                    "5": "NULL",
                                    "6": "NULL"
                                },
                                {
                                    "0": "F311",
                                    "1": "Schema definition statement",
                                    "2": "05",
                                    "3": "GRANT statement",
                                    "4": "YES",
                                    "5": "NULL",
                                    "6": "NULL"
                                },
                                {
                                    "0": "F312",
                                    "1": "MERGE statement",
                                    "2": "NULL",
                                    "3": "NULL",
                                    "4": "NO",
                                    "5": "NULL",
                                    "6": "consider INSERT ... ON CONFLICT DO UPDATE"
                                },
                                {
                                    "0": "F313",
                                    "1": "Enhanced MERGE statement",
                                    "2": "NULL",
                                    "3": "NULL",
                                    "4": "NO",
                                    "5": "NULL",
                                    "6": "NULL"
                                },
                                {
                                    "0": "F314",
                                    "1": "MERGE statement with DELETE branch",
                                    "2": "NULL",
                                    "3": "NULL",
                                    "4": "NO",
                                    "5": "NULL",
                                    "6": "NULL"
                                },
                                {
                                    "0": "F321",
                                    "1": "User authorization",
                                    "2": "NULL",
                                    "3": "NULL",
                                    "4": "YES",
                                    "5": "NULL",
                                    "6": "NULL"
                                },
                                {
                                    "0": "F341",
                                    "1": "Usage tables",
                                    "2": "NULL",
                                    "3": "NULL",
                                    "4": "NO",
                                    "5": "NULL",
                                    "6": "no ROUTINE_*_USAGE tables"
                                },
                                {
                                    "0": "F361",
                                    "1": "Subprogram support",
                                    "2": "NULL",
                                    "3": "NULL",
                                    "4": "YES",
                                    "5": "NULL",
                                    "6": "NULL"
                                },
                                {
                                    "0": "F381",
                                    "1": "Extended schema manipulation",
                                    "2": "NULL",
                                    "3": "NULL",
                                    "4": "YES",
                                    "5": "NULL",
                                    "6": "NULL"
                                },
                                {
                                    "0": "F381",
                                    "1": "Extended schema manipulation",
                                    "2": "01",
                                    "3": "ALTER TABLE statement: ALTER COLUMN clause",
                                    "4": "YES",
                                    "5": "NULL",
                                    "6": "NULL"
                                },
                                {
                                    "0": "F381",
                                    "1": "Extended schema manipulation",
                                    "2": "02",
                                    "3": "ALTER TABLE statement: ADD CONSTRAINT clause",
                                    "4": "YES",
                                    "5": "NULL",
                                    "6": "NULL"
                                },
                                {
                                    "0": "F381",
                                    "1": "Extended schema manipulation",
                                    "2": "03",
                                    "3": "ALTER TABLE statement: DROP CONSTRAINT clause",
                                    "4": "YES",
                                    "5": "NULL",
                                    "6": "NULL"
                                },
                                {
                                    "0": "F382",
                                    "1": "Alter column data type",
                                    "2": "NULL",
                                    "3": "NULL",
                                    "4": "YES",
                                    "5": "NULL",
                                    "6": "NULL"
                                },
                                {
                                    "0": "F383",
                                    "1": "Set column not null clause",
                                    "2": "NULL",
                                    "3": "NULL",
                                    "4": "YES",
                                    "5": "NULL",
                                    "6": "NULL"
                                },
                                {
                                    "0": "F384",
                                    "1": "Drop identity property clause",
                                    "2": "NULL",
                                    "3": "NULL",
                                    "4": "YES",
                                    "5": "NULL",
                                    "6": "NULL"
                                },
                                {
                                    "0": "F385",
                                    "1": "Drop column generation expression clause",
                                    "2": "NULL",
                                    "3": "NULL",
                                    "4": "NO",
                                    "5": "NULL",
                                    "6": "NULL"
                                },
                                {
                                    "0": "F386",
                                    "1": "Set identity column generation clause",
                                    "2": "NULL",
                                    "3": "NULL",
                                    "4": "YES",
                                    "5": "NULL",
                                    "6": "NULL"
                                },
                                {
                                    "0": "F391",
                                    "1": "Long identifiers",
                                    "2": "NULL",
                                    "3": "NULL",
                                    "4": "YES",
                                    "5": "NULL",
                                    "6": "NULL"
                                },
                                {
                                    "0": "F392",
                                    "1": "Unicode escapes in identifiers",
                                    "2": "NULL",
                                    "3": "NULL",
                                    "4": "YES",
                                    "5": "NULL",
                                    "6": "NULL"
                                },
                                {
                                    "0": "F393",
                                    "1": "Unicode escapes in literals",
                                    "2": "NULL",
                                    "3": "NULL",
                                    "4": "YES",
                                    "5": "NULL",
                                    "6": "NULL"
                                },
                                {
                                    "0": "F394",
                                    "1": "Optional normal form specification",
                                    "2": "NULL",
                                    "3": "NULL",
                                    "4": "NO",
                                    "5": "NULL",
                                    "6": "NULL"
                                },
                                {
                                    "0": "F401",
                                    "1": "Extended joined table",
                                    "2": "NULL",
                                    "3": "NULL",
                                    "4": "YES",
                                    "5": "NULL",
                                    "6": "NULL"
                                },
                                {
                                    "0": "F401",
                                    "1": "Extended joined table",
                                    "2": "01",
                                    "3": "NATURAL JOIN",
                                    "4": "YES",
                                    "5": "NULL",
                                    "6": "NULL"
                                },
                                {
                                    "0": "F401",
                                    "1": "Extended joined table",
                                    "2": "02",
                                    "3": "FULL OUTER JOIN",
                                    "4": "YES",
                                    "5": "NULL",
                                    "6": "NULL"
                                },
                                {
                                    "0": "F401",
                                    "1": "Extended joined table",
                                    "2": "04",
                                    "3": "CROSS JOIN",
                                    "4": "YES",
                                    "5": "NULL",
                                    "6": "NULL"
                                },
                                {
                                    "0": "F402",
                                    "1": "Named column joins for LOBs, arrays, and multisets",
                                    "2": "NULL",
                                    "3": "NULL",
                                    "4": "YES",
                                    "5": "NULL",
                                    "6": "NULL"
                                },
                                {
                                    "0": "F403",
                                    "1": "Partitioned joined tables",
                                    "2": "NULL",
                                    "3": "NULL",
                                    "4": "NO",
                                    "5": "NULL",
                                    "6": "NULL"
                                },
                                {
                                    "0": "F404",
                                    "1": "Range variable for common column names",
                                    "2": "NULL",
                                    "3": "NULL",
                                    "4": "NO",
                                    "5": "NULL",
                                    "6": "NULL"
                                },
                                {
                                    "0": "F411",
                                    "1": "Time zone specification",
                                    "2": "NULL",
                                    "3": "NULL",
                                    "4": "YES",
                                    "5": "NULL",
                                    "6": "differences regarding literal interpretation"
                                },
                                {
                                    "0": "F421",
                                    "1": "National character",
                                    "2": "NULL",
                                    "3": "NULL",
                                    "4": "YES",
                                    "5": "NULL",
                                    "6": "NULL"
                                },
                                {
                                    "0": "F431",
                                    "1": "Read-only scrollable cursors",
                                    "2": "NULL",
                                    "3": "NULL",
                                    "4": "YES",
                                    "5": "NULL",
                                    "6": "NULL"
                                },
                                {
                                    "0": "F431",
                                    "1": "Read-only scrollable cursors",
                                    "2": "01",
                                    "3": "FETCH with explicit NEXT",
                                    "4": "YES",
                                    "5": "NULL",
                                    "6": "NULL"
                                },
                                {
                                    "0": "F431",
                                    "1": "Read-only scrollable cursors",
                                    "2": "02",
                                    "3": "FETCH FIRST",
                                    "4": "YES",
                                    "5": "NULL",
                                    "6": "NULL"
                                },
                                {
                                    "0": "F431",
                                    "1": "Read-only scrollable cursors",
                                    "2": "03",
                                    "3": "FETCH LAST",
                                    "4": "YES",
                                    "5": "NULL",
                                    "6": "NULL"
                                },
                                {
                                    "0": "F431",
                                    "1": "Read-only scrollable cursors",
                                    "2": "04",
                                    "3": "FETCH PRIOR",
                                    "4": "YES",
                                    "5": "NULL",
                                    "6": "NULL"
                                },
                                {
                                    "0": "F431",
                                    "1": "Read-only scrollable cursors",
                                    "2": "05",
                                    "3": "FETCH ABSOLUTE",
                                    "4": "YES",
                                    "5": "NULL",
                                    "6": "NULL"
                                },
                                {
                                    "0": "F431",
                                    "1": "Read-only scrollable cursors",
                                    "2": "06",
                                    "3": "FETCH RELATIVE",
                                    "4": "YES",
                                    "5": "NULL",
                                    "6": "NULL"
                                },
                                {
                                    "0": "F441",
                                    "1": "Extended set function support",
                                    "2": "NULL",
                                    "3": "NULL",
                                    "4": "YES",
                                    "5": "NULL",
                                    "6": "NULL"
                                },
                                {
                                    "0": "F442",
                                    "1": "Mixed column references in set functions",
                                    "2": "NULL",
                                    "3": "NULL",
                                    "4": "YES",
                                    "5": "NULL",
                                    "6": "NULL"
                                },
                                {
                                    "0": "F451",
                                    "1": "Character set definition",
                                    "2": "NULL",
                                    "3": "NULL",
                                    "4": "NO",
                                    "5": "NULL",
                                    "6": "NULL"
                                },
                                {
                                    "0": "F461",
                                    "1": "Named character sets",
                                    "2": "NULL",
                                    "3": "NULL",
                                    "4": "NO",
                                    "5": "NULL",
                                    "6": "NULL"
                                },
                                {
                                    "0": "F471",
                                    "1": "Scalar subquery values",
                                    "2": "NULL",
                                    "3": "NULL",
                                    "4": "YES",
                                    "5": "NULL",
                                    "6": "NULL"
                                },
                                {
                                    "0": "F481",
                                    "1": "Expanded NULL predicate",
                                    "2": "NULL",
                                    "3": "NULL",
                                    "4": "YES",
                                    "5": "NULL",
                                    "6": "NULL"
                                },
                                {
                                    "0": "F491",
                                    "1": "Constraint management",
                                    "2": "NULL",
                                    "3": "NULL",
                                    "4": "YES",
                                    "5": "NULL",
                                    "6": "NULL"
                                },
                                {
                                    "0": "F492",
                                    "1": "Optional table constraint enforcement",
                                    "2": "NULL",
                                    "3": "NULL",
                                    "4": "NO",
                                    "5": "NULL",
                                    "6": "NULL"
                                },
                                {
                                    "0": "F501",
                                    "1": "Features and conformance views",
                                    "2": "NULL",
                                    "3": "NULL",
                                    "4": "YES",
                                    "5": "NULL",
                                    "6": "NULL"
                                },
                                {
                                    "0": "F501",
                                    "1": "Features and conformance views",
                                    "2": "01",
                                    "3": "SQL_FEATURES view",
                                    "4": "YES",
                                    "5": "NULL",
                                    "6": "NULL"
                                },
                                {
                                    "0": "F501",
                                    "1": "Features and conformance views",
                                    "2": "02",
                                    "3": "SQL_SIZING view",
                                    "4": "YES",
                                    "5": "NULL",
                                    "6": "NULL"
                                },
                                {
                                    "0": "F501",
                                    "1": "Features and conformance views",
                                    "2": "03",
                                    "3": "SQL_LANGUAGES view",
                                    "4": "YES",
                                    "5": "NULL",
                                    "6": "NULL"
                                },
                                {
                                    "0": "F502",
                                    "1": "Enhanced documentation tables",
                                    "2": "NULL",
                                    "3": "NULL",
                                    "4": "YES",
                                    "5": "NULL",
                                    "6": "NULL"
                                },
                                {
                                    "0": "F502",
                                    "1": "Enhanced documentation tables",
                                    "2": "01",
                                    "3": "SQL_SIZING_PROFILES view",
                                    "4": "YES",
                                    "5": "NULL",
                                    "6": "NULL"
                                },
                                {
                                    "0": "F502",
                                    "1": "Enhanced documentation tables",
                                    "2": "02",
                                    "3": "SQL_IMPLEMENTATION_INFO view",
                                    "4": "YES",
                                    "5": "NULL",
                                    "6": "NULL"
                                },
                                {
                                    "0": "F502",
                                    "1": "Enhanced documentation tables",
                                    "2": "03",
                                    "3": "SQL_PACKAGES view",
                                    "4": "YES",
                                    "5": "NULL",
                                    "6": "NULL"
                                },
                                {
                                    "0": "F521",
                                    "1": "Assertions",
                                    "2": "NULL",
                                    "3": "NULL",
                                    "4": "NO",
                                    "5": "NULL",
                                    "6": "NULL"
                                },
                                {
                                    "0": "F531",
                                    "1": "Temporary tables",
                                    "2": "NULL",
                                    "3": "NULL",
                                    "4": "YES",
                                    "5": "NULL",
                                    "6": "NULL"
                                },
                                {
                                    "0": "F555",
                                    "1": "Enhanced seconds precision",
                                    "2": "NULL",
                                    "3": "NULL",
                                    "4": "YES",
                                    "5": "NULL",
                                    "6": "NULL"
                                },
                                {
                                    "0": "F561",
                                    "1": "Full value expressions",
                                    "2": "NULL",
                                    "3": "NULL",
                                    "4": "YES",
                                    "5": "NULL",
                                    "6": "NULL"
                                },
                                {
                                    "0": "F571",
                                    "1": "Truth value tests",
                                    "2": "NULL",
                                    "3": "NULL",
                                    "4": "YES",
                                    "5": "NULL",
                                    "6": "NULL"
                                },
                                {
                                    "0": "F591",
                                    "1": "Derived tables",
                                    "2": "NULL",
                                    "3": "NULL",
                                    "4": "YES",
                                    "5": "NULL",
                                    "6": "NULL"
                                },
                                {
                                    "0": "F611",
                                    "1": "Indicator data types",
                                    "2": "NULL",
                                    "3": "NULL",
                                    "4": "YES",
                                    "5": "NULL",
                                    "6": "NULL"
                                },
                                {
                                    "0": "F641",
                                    "1": "Row and table constructors",
                                    "2": "NULL",
                                    "3": "NULL",
                                    "4": "YES",
                                    "5": "NULL",
                                    "6": "NULL"
                                },
                                {
                                    "0": "F651",
                                    "1": "Catalog name qualifiers",
                                    "2": "NULL",
                                    "3": "NULL",
                                    "4": "YES",
                                    "5": "NULL",
                                    "6": "NULL"
                                },
                                {
                                    "0": "F661",
                                    "1": "Simple tables",
                                    "2": "NULL",
                                    "3": "NULL",
                                    "4": "YES",
                                    "5": "NULL",
                                    "6": "NULL"
                                },
                                {
                                    "0": "F671",
                                    "1": "Subqueries in CHECK",
                                    "2": "NULL",
                                    "3": "NULL",
                                    "4": "NO",
                                    "5": "NULL",
                                    "6": "intentionally omitted"
                                },
                                {
                                    "0": "F672",
                                    "1": "Retrospective check constraints",
                                    "2": "NULL",
                                    "3": "NULL",
                                    "4": "YES",
                                    "5": "NULL",
                                    "6": "NULL"
                                },
                                {
                                    "0": "F673",
                                    "1": "Reads SQL-data routine invocations in CHECK constraints",
                                    "2": "NULL",
                                    "3": "NULL",
                                    "4": "NO",
                                    "5": "NULL",
                                    "6": "NULL"
                                },
                                {
                                    "0": "F690",
                                    "1": "Collation support",
                                    "2": "NULL",
                                    "3": "NULL",
                                    "4": "YES",
                                    "5": "NULL",
                                    "6": "but no character set support"
                                },
                                {
                                    "0": "F692",
                                    "1": "Extended collation support",
                                    "2": "NULL",
                                    "3": "NULL",
                                    "4": "YES",
                                    "5": "NULL",
                                    "6": "NULL"
                                },
                                {
                                    "0": "F693",
                                    "1": "SQL-session and client module collations",
                                    "2": "NULL",
                                    "3": "NULL",
                                    "4": "NO",
                                    "5": "NULL",
                                    "6": "NULL"
                                },
                                {
                                    "0": "F695",
                                    "1": "Translation support",
                                    "2": "NULL",
                                    "3": "NULL",
                                    "4": "NO",
                                    "5": "NULL",
                                    "6": "NULL"
                                },
                                {
                                    "0": "F696",
                                    "1": "Additional translation documentation",
                                    "2": "NULL",
                                    "3": "NULL",
                                    "4": "NO",
                                    "5": "NULL",
                                    "6": "NULL"
                                },
                                {
                                    "0": "F701",
                                    "1": "Referential update actions",
                                    "2": "NULL",
                                    "3": "NULL",
                                    "4": "YES",
                                    "5": "NULL",
                                    "6": "NULL"
                                },
                                {
                                    "0": "F711",
                                    "1": "ALTER domain",
                                    "2": "NULL",
                                    "3": "NULL",
                                    "4": "YES",
                                    "5": "NULL",
                                    "6": "NULL"
                                },
                                {
                                    "0": "F721",
                                    "1": "Deferrable constraints",
                                    "2": "NULL",
                                    "3": "NULL",
                                    "4": "NO",
                                    "5": "NULL",
                                    "6": "foreign and unique keys only"
                                },
                                {
                                    "0": "F731",
                                    "1": "INSERT column privileges",
                                    "2": "NULL",
                                    "3": "NULL",
                                    "4": "YES",
                                    "5": "NULL",
                                    "6": "NULL"
                                },
                                {
                                    "0": "F741",
                                    "1": "Referential MATCH types",
                                    "2": "NULL",
                                    "3": "NULL",
                                    "4": "NO",
                                    "5": "NULL",
                                    "6": "no partial match yet"
                                },
                                {
                                    "0": "F751",
                                    "1": "View CHECK enhancements",
                                    "2": "NULL",
                                    "3": "NULL",
                                    "4": "YES",
                                    "5": "NULL",
                                    "6": "NULL"
                                },
                                {
                                    "0": "F761",
                                    "1": "Session management",
                                    "2": "NULL",
                                    "3": "NULL",
                                    "4": "YES",
                                    "5": "NULL",
                                    "6": "NULL"
                                },
                                {
                                    "0": "F762",
                                    "1": "CURRENT_CATALOG",
                                    "2": "NULL",
                                    "3": "NULL",
                                    "4": "YES",
                                    "5": "NULL",
                                    "6": "NULL"
                                },
                                {
                                    "0": "F763",
                                    "1": "CURRENT_SCHEMA",
                                    "2": "NULL",
                                    "3": "NULL",
                                    "4": "YES",
                                    "5": "NULL",
                                    "6": "NULL"
                                },
                                {
                                    "0": "F771",
                                    "1": "Connection management",
                                    "2": "NULL",
                                    "3": "NULL",
                                    "4": "YES",
                                    "5": "NULL",
                                    "6": "NULL"
                                },
                                {
                                    "0": "F781",
                                    "1": "Self-referencing operations",
                                    "2": "NULL",
                                    "3": "NULL",
                                    "4": "YES",
                                    "5": "NULL",
                                    "6": "NULL"
                                },
                                {
                                    "0": "F791",
                                    "1": "Insensitive cursors",
                                    "2": "NULL",
                                    "3": "NULL",
                                    "4": "YES",
                                    "5": "NULL",
                                    "6": "NULL"
                                },
                                {
                                    "0": "F801",
                                    "1": "Full set function",
                                    "2": "NULL",
                                    "3": "NULL",
                                    "4": "YES",
                                    "5": "NULL",
                                    "6": "NULL"
                                },
                                {
                                    "0": "F812",
                                    "1": "Basic flagging",
                                    "2": "NULL",
                                    "3": "NULL",
                                    "4": "NO",
                                    "5": "NULL",
                                    "6": "NULL"
                                },
                                {
                                    "0": "F813",
                                    "1": "Extended flagging",
                                    "2": "NULL",
                                    "3": "NULL",
                                    "4": "NO",
                                    "5": "NULL",
                                    "6": "NULL"
                                },
                                {
                                    "0": "F821",
                                    "1": "Local table references",
                                    "2": "NULL",
                                    "3": "NULL",
                                    "4": "NO",
                                    "5": "NULL",
                                    "6": "NULL"
                                },
                                {
                                    "0": "F831",
                                    "1": "Full cursor update",
                                    "2": "NULL",
                                    "3": "NULL",
                                    "4": "NO",
                                    "5": "NULL",
                                    "6": "NULL"
                                },
                                {
                                    "0": "F831",
                                    "1": "Full cursor update",
                                    "2": "01",
                                    "3": "Updatable scrollable cursors",
                                    "4": "NO",
                                    "5": "NULL",
                                    "6": "NULL"
                                },
                                {
                                    "0": "F831",
                                    "1": "Full cursor update",
                                    "2": "02",
                                    "3": "Updatable ordered cursors",
                                    "4": "NO",
                                    "5": "NULL",
                                    "6": "NULL"
                                },
                                {
                                    "0": "F841",
                                    "1": "LIKE_REGEX predicate",
                                    "2": "NULL",
                                    "3": "NULL",
                                    "4": "NO",
                                    "5": "NULL",
                                    "6": "NULL"
                                },
                                {
                                    "0": "F842",
                                    "1": "OCCURRENCES_REGEX function",
                                    "2": "NULL",
                                    "3": "NULL",
                                    "4": "NO",
                                    "5": "NULL",
                                    "6": "NULL"
                                },
                                {
                                    "0": "F843",
                                    "1": "POSITION_REGEX function",
                                    "2": "NULL",
                                    "3": "NULL",
                                    "4": "NO",
                                    "5": "NULL",
                                    "6": "NULL"
                                },
                                {
                                    "0": "F844",
                                    "1": "SUBSTRING_REGEX function",
                                    "2": "NULL",
                                    "3": "NULL",
                                    "4": "NO",
                                    "5": "NULL",
                                    "6": "NULL"
                                },
                                {
                                    "0": "F845",
                                    "1": "TRANSLATE_REGEX function",
                                    "2": "NULL",
                                    "3": "NULL",
                                    "4": "NO",
                                    "5": "NULL",
                                    "6": "NULL"
                                },
                                {
                                    "0": "F846",
                                    "1": "Octet support in regular expression operators",
                                    "2": "NULL",
                                    "3": "NULL",
                                    "4": "NO",
                                    "5": "NULL",
                                    "6": "NULL"
                                },
                                {
                                    "0": "F847",
                                    "1": "Nonconstant regular expressions",
                                    "2": "NULL",
                                    "3": "NULL",
                                    "4": "NO",
                                    "5": "NULL",
                                    "6": "NULL"
                                },
                                {
                                    "0": "F850",
                                    "1": "Top-level <order by clause> in <query expression>",
                                    "2": "NULL",
                                    "3": "NULL",
                                    "4": "YES",
                                    "5": "NULL",
                                    "6": "NULL"
                                },
                                {
                                    "0": "F851",
                                    "1": "<order by clause> in subqueries",
                                    "2": "NULL",
                                    "3": "NULL",
                                    "4": "YES",
                                    "5": "NULL",
                                    "6": "NULL"
                                },
                                {
                                    "0": "F852",
                                    "1": "Top-level <order by clause> in views",
                                    "2": "NULL",
                                    "3": "NULL",
                                    "4": "YES",
                                    "5": "NULL",
                                    "6": "NULL"
                                },
                                {
                                    "0": "F855",
                                    "1": "Nested <order by clause> in <query expression>",
                                    "2": "NULL",
                                    "3": "NULL",
                                    "4": "YES",
                                    "5": "NULL",
                                    "6": "NULL"
                                },
                                {
                                    "0": "F856",
                                    "1": "Nested <fetch first clause> in <query expression>",
                                    "2": "NULL",
                                    "3": "NULL",
                                    "4": "YES",
                                    "5": "NULL",
                                    "6": "NULL"
                                },
                                {
                                    "0": "F857",
                                    "1": "Top-level <fetch first clause> in <query expression>",
                                    "2": "NULL",
                                    "3": "NULL",
                                    "4": "YES",
                                    "5": "NULL",
                                    "6": "NULL"
                                },
                                {
                                    "0": "F858",
                                    "1": "<fetch first clause> in subqueries",
                                    "2": "NULL",
                                    "3": "NULL",
                                    "4": "YES",
                                    "5": "NULL",
                                    "6": "NULL"
                                },
                                {
                                    "0": "F859",
                                    "1": "Top-level <fetch first clause> in views",
                                    "2": "NULL",
                                    "3": "NULL",
                                    "4": "YES",
                                    "5": "NULL",
                                    "6": "NULL"
                                },
                                {
                                    "0": "F860",
                                    "1": "<fetch first row count> in <fetch first clause>",
                                    "2": "NULL",
                                    "3": "NULL",
                                    "4": "YES",
                                    "5": "NULL",
                                    "6": "NULL"
                                },
                                {
                                    "0": "F861",
                                    "1": "Top-level <result offset clause> in <query expression>",
                                    "2": "NULL",
                                    "3": "NULL",
                                    "4": "YES",
                                    "5": "NULL",
                                    "6": "NULL"
                                },
                                {
                                    "0": "F862",
                                    "1": "<result offset clause> in subqueries",
                                    "2": "NULL",
                                    "3": "NULL",
                                    "4": "YES",
                                    "5": "NULL",
                                    "6": "NULL"
                                },
                                {
                                    "0": "F863",
                                    "1": "Nested <result offset clause> in <query expression>",
                                    "2": "NULL",
                                    "3": "NULL",
                                    "4": "YES",
                                    "5": "NULL",
                                    "6": "NULL"
                                },
                                {
                                    "0": "F864",
                                    "1": "Top-level <result offset clause> in views",
                                    "2": "NULL",
                                    "3": "NULL",
                                    "4": "YES",
                                    "5": "NULL",
                                    "6": "NULL"
                                },
                                {
                                    "0": "F865",
                                    "1": "<offset row count> in <result offset clause>",
                                    "2": "NULL",
                                    "3": "NULL",
                                    "4": "YES",
                                    "5": "NULL",
                                    "6": "NULL"
                                },
                                {
                                    "0": "F866",
                                    "1": "FETCH FIRST clause: PERCENT option",
                                    "2": "NULL",
                                    "3": "NULL",
                                    "4": "NO",
                                    "5": "NULL",
                                    "6": "NULL"
                                },
                                {
                                    "0": "F867",
                                    "1": "FETCH FIRST clause: WITH TIES option",
                                    "2": "NULL",
                                    "3": "NULL",
                                    "4": "NO",
                                    "5": "NULL",
                                    "6": "NULL"
                                },
                                {
                                    "0": "R010",
                                    "1": "Row pattern recognition: FROM clause",
                                    "2": "NULL",
                                    "3": "NULL",
                                    "4": "NO",
                                    "5": "NULL",
                                    "6": "NULL"
                                },
                                {
                                    "0": "R020",
                                    "1": "Row pattern recognition: WINDOW clause",
                                    "2": "NULL",
                                    "3": "NULL",
                                    "4": "NO",
                                    "5": "NULL",
                                    "6": "NULL"
                                },
                                {
                                    "0": "R030",
                                    "1": "Row pattern recognition: full aggregate support",
                                    "2": "NULL",
                                    "3": "NULL",
                                    "4": "NO",
                                    "5": "NULL",
                                    "6": "NULL"
                                },
                                {
                                    "0": "S011",
                                    "1": "Distinct data types",
                                    "2": "NULL",
                                    "3": "NULL",
                                    "4": "NO",
                                    "5": "NULL",
                                    "6": "NULL"
                                },
                                {
                                    "0": "S011",
                                    "1": "Distinct data types",
                                    "2": "01",
                                    "3": "USER_DEFINED_TYPES view",
                                    "4": "NO",
                                    "5": "NULL",
                                    "6": "NULL"
                                },
                                {
                                    "0": "S023",
                                    "1": "Basic structured types",
                                    "2": "NULL",
                                    "3": "NULL",
                                    "4": "NO",
                                    "5": "NULL",
                                    "6": "NULL"
                                },
                                {
                                    "0": "S024",
                                    "1": "Enhanced structured types",
                                    "2": "NULL",
                                    "3": "NULL",
                                    "4": "NO",
                                    "5": "NULL",
                                    "6": "NULL"
                                },
                                {
                                    "0": "S025",
                                    "1": "Final structured types",
                                    "2": "NULL",
                                    "3": "NULL",
                                    "4": "NO",
                                    "5": "NULL",
                                    "6": "NULL"
                                },
                                {
                                    "0": "S026",
                                    "1": "Self-referencing structured types",
                                    "2": "NULL",
                                    "3": "NULL",
                                    "4": "NO",
                                    "5": "NULL",
                                    "6": "NULL"
                                },
                                {
                                    "0": "S027",
                                    "1": "Create method by specific method name",
                                    "2": "NULL",
                                    "3": "NULL",
                                    "4": "NO",
                                    "5": "NULL",
                                    "6": "NULL"
                                },
                                {
                                    "0": "S028",
                                    "1": "Permutable UDT options list",
                                    "2": "NULL",
                                    "3": "NULL",
                                    "4": "NO",
                                    "5": "NULL",
                                    "6": "NULL"
                                },
                                {
                                    "0": "S041",
                                    "1": "Basic reference types",
                                    "2": "NULL",
                                    "3": "NULL",
                                    "4": "NO",
                                    "5": "NULL",
                                    "6": "NULL"
                                },
                                {
                                    "0": "S043",
                                    "1": "Enhanced reference types",
                                    "2": "NULL",
                                    "3": "NULL",
                                    "4": "NO",
                                    "5": "NULL",
                                    "6": "NULL"
                                },
                                {
                                    "0": "S051",
                                    "1": "Create table of type",
                                    "2": "NULL",
                                    "3": "NULL",
                                    "4": "NO",
                                    "5": "NULL",
                                    "6": "partially supported"
                                },
                                {
                                    "0": "S071",
                                    "1": "SQL paths in function and type name resolution",
                                    "2": "NULL",
                                    "3": "NULL",
                                    "4": "YES",
                                    "5": "NULL",
                                    "6": "NULL"
                                },
                                {
                                    "0": "S081",
                                    "1": "Subtables",
                                    "2": "NULL",
                                    "3": "NULL",
                                    "4": "NO",
                                    "5": "NULL",
                                    "6": "NULL"
                                },
                                {
                                    "0": "S091",
                                    "1": "Basic array support",
                                    "2": "NULL",
                                    "3": "NULL",
                                    "4": "NO",
                                    "5": "NULL",
                                    "6": "partially supported"
                                },
                                {
                                    "0": "S091",
                                    "1": "Basic array support",
                                    "2": "01",
                                    "3": "Arrays of built-in data types",
                                    "4": "NO",
                                    "5": "NULL",
                                    "6": "NULL"
                                },
                                {
                                    "0": "S091",
                                    "1": "Basic array support",
                                    "2": "02",
                                    "3": "Arrays of distinct types",
                                    "4": "NO",
                                    "5": "NULL",
                                    "6": "NULL"
                                },
                                {
                                    "0": "S091",
                                    "1": "Basic array support",
                                    "2": "03",
                                    "3": "Array expressions",
                                    "4": "NO",
                                    "5": "NULL",
                                    "6": "NULL"
                                },
                                {
                                    "0": "S092",
                                    "1": "Arrays of user-defined types",
                                    "2": "NULL",
                                    "3": "NULL",
                                    "4": "YES",
                                    "5": "NULL",
                                    "6": "NULL"
                                },
                                {
                                    "0": "S094",
                                    "1": "Arrays of reference types",
                                    "2": "NULL",
                                    "3": "NULL",
                                    "4": "NO",
                                    "5": "NULL",
                                    "6": "NULL"
                                },
                                {
                                    "0": "S095",
                                    "1": "Array constructors by query",
                                    "2": "NULL",
                                    "3": "NULL",
                                    "4": "YES",
                                    "5": "NULL",
                                    "6": "NULL"
                                },
                                {
                                    "0": "S096",
                                    "1": "Optional array bounds",
                                    "2": "NULL",
                                    "3": "NULL",
                                    "4": "YES",
                                    "5": "NULL",
                                    "6": "NULL"
                                },
                                {
                                    "0": "S097",
                                    "1": "Array element assignment",
                                    "2": "NULL",
                                    "3": "NULL",
                                    "4": "NO",
                                    "5": "NULL",
                                    "6": "NULL"
                                },
                                {
                                    "0": "S098",
                                    "1": "ARRAY_AGG",
                                    "2": "NULL",
                                    "3": "NULL",
                                    "4": "YES",
                                    "5": "NULL",
                                    "6": "NULL"
                                },
                                {
                                    "0": "S111",
                                    "1": "ONLY in query expressions",
                                    "2": "NULL",
                                    "3": "NULL",
                                    "4": "YES",
                                    "5": "NULL",
                                    "6": "NULL"
                                },
                                {
                                    "0": "S151",
                                    "1": "Type predicate",
                                    "2": "NULL",
                                    "3": "NULL",
                                    "4": "NO",
                                    "5": "NULL",
                                    "6": "NULL"
                                },
                                {
                                    "0": "S161",
                                    "1": "Subtype treatment",
                                    "2": "NULL",
                                    "3": "NULL",
                                    "4": "NO",
                                    "5": "NULL",
                                    "6": "NULL"
                                },
                                {
                                    "0": "S162",
                                    "1": "Subtype treatment for references",
                                    "2": "NULL",
                                    "3": "NULL",
                                    "4": "NO",
                                    "5": "NULL",
                                    "6": "NULL"
                                },
                                {
                                    "0": "S201",
                                    "1": "SQL-invoked routines on arrays",
                                    "2": "NULL",
                                    "3": "NULL",
                                    "4": "YES",
                                    "5": "NULL",
                                    "6": "NULL"
                                },
                                {
                                    "0": "S201",
                                    "1": "SQL-invoked routines on arrays",
                                    "2": "01",
                                    "3": "Array parameters",
                                    "4": "YES",
                                    "5": "NULL",
                                    "6": "NULL"
                                },
                                {
                                    "0": "S201",
                                    "1": "SQL-invoked routines on arrays",
                                    "2": "02",
                                    "3": "Array as result type of functions",
                                    "4": "YES",
                                    "5": "NULL",
                                    "6": "NULL"
                                },
                                {
                                    "0": "S202",
                                    "1": "SQL-invoked routines on multisets",
                                    "2": "NULL",
                                    "3": "NULL",
                                    "4": "NO",
                                    "5": "NULL",
                                    "6": "NULL"
                                },
                                {
                                    "0": "S211",
                                    "1": "User-defined cast functions",
                                    "2": "NULL",
                                    "3": "NULL",
                                    "4": "YES",
                                    "5": "NULL",
                                    "6": "NULL"
                                },
                                {
                                    "0": "S231",
                                    "1": "Structured type locators",
                                    "2": "NULL",
                                    "3": "NULL",
                                    "4": "NO",
                                    "5": "NULL",
                                    "6": "NULL"
                                },
                                {
                                    "0": "S232",
                                    "1": "Array locators",
                                    "2": "NULL",
                                    "3": "NULL",
                                    "4": "NO",
                                    "5": "NULL",
                                    "6": "NULL"
                                },
                                {
                                    "0": "S233",
                                    "1": "Multiset locators",
                                    "2": "NULL",
                                    "3": "NULL",
                                    "4": "NO",
                                    "5": "NULL",
                                    "6": "NULL"
                                },
                                {
                                    "0": "S241",
                                    "1": "Transform functions",
                                    "2": "NULL",
                                    "3": "NULL",
                                    "4": "NO",
                                    "5": "NULL",
                                    "6": "NULL"
                                },
                                {
                                    "0": "S242",
                                    "1": "Alter transform statement",
                                    "2": "NULL",
                                    "3": "NULL",
                                    "4": "NO",
                                    "5": "NULL",
                                    "6": "NULL"
                                },
                                {
                                    "0": "S251",
                                    "1": "User-defined orderings",
                                    "2": "NULL",
                                    "3": "NULL",
                                    "4": "NO",
                                    "5": "NULL",
                                    "6": "NULL"
                                },
                                {
                                    "0": "S261",
                                    "1": "Specific type method",
                                    "2": "NULL",
                                    "3": "NULL",
                                    "4": "NO",
                                    "5": "NULL",
                                    "6": "NULL"
                                },
                                {
                                    "0": "S271",
                                    "1": "Basic multiset support",
                                    "2": "NULL",
                                    "3": "NULL",
                                    "4": "NO",
                                    "5": "NULL",
                                    "6": "NULL"
                                },
                                {
                                    "0": "S272",
                                    "1": "Multisets of user-defined types",
                                    "2": "NULL",
                                    "3": "NULL",
                                    "4": "NO",
                                    "5": "NULL",
                                    "6": "NULL"
                                },
                                {
                                    "0": "S274",
                                    "1": "Multisets of reference types",
                                    "2": "NULL",
                                    "3": "NULL",
                                    "4": "NO",
                                    "5": "NULL",
                                    "6": "NULL"
                                },
                                {
                                    "0": "S275",
                                    "1": "Advanced multiset support",
                                    "2": "NULL",
                                    "3": "NULL",
                                    "4": "NO",
                                    "5": "NULL",
                                    "6": "NULL"
                                },
                                {
                                    "0": "S281",
                                    "1": "Nested collection types",
                                    "2": "NULL",
                                    "3": "NULL",
                                    "4": "NO",
                                    "5": "NULL",
                                    "6": "NULL"
                                },
                                {
                                    "0": "S291",
                                    "1": "Unique constraint on entire row",
                                    "2": "NULL",
                                    "3": "NULL",
                                    "4": "NO",
                                    "5": "NULL",
                                    "6": "NULL"
                                },
                                {
                                    "0": "S301",
                                    "1": "Enhanced UNNEST",
                                    "2": "NULL",
                                    "3": "NULL",
                                    "4": "YES",
                                    "5": "NULL",
                                    "6": "NULL"
                                },
                                {
                                    "0": "S401",
                                    "1": "Distinct types based on array types",
                                    "2": "NULL",
                                    "3": "NULL",
                                    "4": "NO",
                                    "5": "NULL",
                                    "6": "NULL"
                                },
                                {
                                    "0": "S402",
                                    "1": "Distinct types based on distinct types",
                                    "2": "NULL",
                                    "3": "NULL",
                                    "4": "NO",
                                    "5": "NULL",
                                    "6": "NULL"
                                },
                                {
                                    "0": "S403",
                                    "1": "ARRAY_MAX_CARDINALITY",
                                    "2": "NULL",
                                    "3": "NULL",
                                    "4": "NO",
                                    "5": "NULL",
                                    "6": "NULL"
                                },
                                {
                                    "0": "S404",
                                    "1": "TRIM_ARRAY",
                                    "2": "NULL",
                                    "3": "NULL",
                                    "4": "NO",
                                    "5": "NULL",
                                    "6": "NULL"
                                },
                                {
                                    "0": "T011",
                                    "1": "Timestamp in Information Schema",
                                    "2": "NULL",
                                    "3": "NULL",
                                    "4": "NO",
                                    "5": "NULL",
                                    "6": "NULL"
                                },
                                {
                                    "0": "T021",
                                    "1": "BINARY and VARBINARY data types",
                                    "2": "NULL",
                                    "3": "NULL",
                                    "4": "NO",
                                    "5": "NULL",
                                    "6": "NULL"
                                },
                                {
                                    "0": "T022",
                                    "1": "Advanced support for BINARY and VARBINARY data types",
                                    "2": "NULL",
                                    "3": "NULL",
                                    "4": "NO",
                                    "5": "NULL",
                                    "6": "NULL"
                                },
                                {
                                    "0": "T023",
                                    "1": "Compound binary literal",
                                    "2": "NULL",
                                    "3": "NULL",
                                    "4": "NO",
                                    "5": "NULL",
                                    "6": "NULL"
                                },
                                {
                                    "0": "T024",
                                    "1": "Spaces in binary literals",
                                    "2": "NULL",
                                    "3": "NULL",
                                    "4": "NO",
                                    "5": "NULL",
                                    "6": "NULL"
                                },
                                {
                                    "0": "T031",
                                    "1": "BOOLEAN data type",
                                    "2": "NULL",
                                    "3": "NULL",
                                    "4": "YES",
                                    "5": "NULL",
                                    "6": "NULL"
                                },
                                {
                                    "0": "T041",
                                    "1": "Basic LOB data type support",
                                    "2": "NULL",
                                    "3": "NULL",
                                    "4": "NO",
                                    "5": "NULL",
                                    "6": "NULL"
                                },
                                {
                                    "0": "T041",
                                    "1": "Basic LOB data type support",
                                    "2": "01",
                                    "3": "BLOB data type",
                                    "4": "NO",
                                    "5": "NULL",
                                    "6": "NULL"
                                },
                                {
                                    "0": "T041",
                                    "1": "Basic LOB data type support",
                                    "2": "02",
                                    "3": "CLOB data type",
                                    "4": "NO",
                                    "5": "NULL",
                                    "6": "NULL"
                                },
                                {
                                    "0": "T041",
                                    "1": "Basic LOB data type support",
                                    "2": "03",
                                    "3": "POSITION, LENGTH, LOWER, TRIM, UPPER, and SUBSTRING functions for LOB data types",
                                    "4": "NO",
                                    "5": "NULL",
                                    "6": "NULL"
                                },
                                {
                                    "0": "T041",
                                    "1": "Basic LOB data type support",
                                    "2": "04",
                                    "3": "Concatenation of LOB data types",
                                    "4": "NO",
                                    "5": "NULL",
                                    "6": "NULL"
                                },
                                {
                                    "0": "T041",
                                    "1": "Basic LOB data type support",
                                    "2": "05",
                                    "3": "LOB locator: non-holdable",
                                    "4": "NO",
                                    "5": "NULL",
                                    "6": "NULL"
                                },
                                {
                                    "0": "T042",
                                    "1": "Extended LOB data type support",
                                    "2": "NULL",
                                    "3": "NULL",
                                    "4": "NO",
                                    "5": "NULL",
                                    "6": "NULL"
                                },
                                {
                                    "0": "T043",
                                    "1": "Multiplier T",
                                    "2": "NULL",
                                    "3": "NULL",
                                    "4": "NO",
                                    "5": "NULL",
                                    "6": "NULL"
                                },
                                {
                                    "0": "T044",
                                    "1": "Multiplier P",
                                    "2": "NULL",
                                    "3": "NULL",
                                    "4": "NO",
                                    "5": "NULL",
                                    "6": "NULL"
                                },
                                {
                                    "0": "T051",
                                    "1": "Row types",
                                    "2": "NULL",
                                    "3": "NULL",
                                    "4": "NO",
                                    "5": "NULL",
                                    "6": "NULL"
                                },
                                {
                                    "0": "T053",
                                    "1": "Explicit aliases for all-fields reference",
                                    "2": "NULL",
                                    "3": "NULL",
                                    "4": "NO",
                                    "5": "NULL",
                                    "6": "NULL"
                                },
                                {
                                    "0": "T061",
                                    "1": "UCS support",
                                    "2": "NULL",
                                    "3": "NULL",
                                    "4": "NO",
                                    "5": "NULL",
                                    "6": "NULL"
                                },
                                {
                                    "0": "T071",
                                    "1": "BIGINT data type",
                                    "2": "NULL",
                                    "3": "NULL",
                                    "4": "YES",
                                    "5": "NULL",
                                    "6": "NULL"
                                },
                                {
                                    "0": "T076",
                                    "1": "DECFLOAT data type",
                                    "2": "NULL",
                                    "3": "NULL",
                                    "4": "NO",
                                    "5": "NULL",
                                    "6": "NULL"
                                },
                                {
                                    "0": "T101",
                                    "1": "Enhanced nullability determination",
                                    "2": "NULL",
                                    "3": "NULL",
                                    "4": "NO",
                                    "5": "NULL",
                                    "6": "NULL"
                                },
                                {
                                    "0": "T111",
                                    "1": "Updatable joins, unions, and columns",
                                    "2": "NULL",
                                    "3": "NULL",
                                    "4": "NO",
                                    "5": "NULL",
                                    "6": "NULL"
                                },
                                {
                                    "0": "T121",
                                    "1": "WITH (excluding RECURSIVE) in query expression",
                                    "2": "NULL",
                                    "3": "NULL",
                                    "4": "YES",
                                    "5": "NULL",
                                    "6": "NULL"
                                },
                                {
                                    "0": "T122",
                                    "1": "WITH (excluding RECURSIVE) in subquery",
                                    "2": "NULL",
                                    "3": "NULL",
                                    "4": "YES",
                                    "5": "NULL",
                                    "6": "NULL"
                                },
                                {
                                    "0": "T131",
                                    "1": "Recursive query",
                                    "2": "NULL",
                                    "3": "NULL",
                                    "4": "YES",
                                    "5": "NULL",
                                    "6": "NULL"
                                },
                                {
                                    "0": "T132",
                                    "1": "Recursive query in subquery",
                                    "2": "NULL",
                                    "3": "NULL",
                                    "4": "YES",
                                    "5": "NULL",
                                    "6": "NULL"
                                },
                                {
                                    "0": "T141",
                                    "1": "SIMILAR predicate",
                                    "2": "NULL",
                                    "3": "NULL",
                                    "4": "YES",
                                    "5": "NULL",
                                    "6": "NULL"
                                },
                                {
                                    "0": "T151",
                                    "1": "DISTINCT predicate",
                                    "2": "NULL",
                                    "3": "NULL",
                                    "4": "YES",
                                    "5": "NULL",
                                    "6": "NULL"
                                },
                                {
                                    "0": "T152",
                                    "1": "DISTINCT predicate with negation",
                                    "2": "NULL",
                                    "3": "NULL",
                                    "4": "YES",
                                    "5": "NULL",
                                    "6": "NULL"
                                },
                                {
                                    "0": "T171",
                                    "1": "LIKE clause in table definition",
                                    "2": "NULL",
                                    "3": "NULL",
                                    "4": "YES",
                                    "5": "NULL",
                                    "6": "NULL"
                                },
                                {
                                    "0": "T172",
                                    "1": "AS subquery clause in table definition",
                                    "2": "NULL",
                                    "3": "NULL",
                                    "4": "YES",
                                    "5": "NULL",
                                    "6": "NULL"
                                },
                                {
                                    "0": "T173",
                                    "1": "Extended LIKE clause in table definition",
                                    "2": "NULL",
                                    "3": "NULL",
                                    "4": "YES",
                                    "5": "NULL",
                                    "6": "NULL"
                                },
                                {
                                    "0": "T174",
                                    "1": "Identity columns",
                                    "2": "NULL",
                                    "3": "NULL",
                                    "4": "YES",
                                    "5": "NULL",
                                    "6": "NULL"
                                },
                                {
                                    "0": "T175",
                                    "1": "Generated columns",
                                    "2": "NULL",
                                    "3": "NULL",
                                    "4": "NO",
                                    "5": "NULL",
                                    "6": "NULL"
                                },
                                {
                                    "0": "T176",
                                    "1": "Sequence generator support",
                                    "2": "NULL",
                                    "3": "NULL",
                                    "4": "NO",
                                    "5": "NULL",
                                    "6": "NULL"
                                },
                                {
                                    "0": "T177",
                                    "1": "Sequence generator support: simple restart option",
                                    "2": "NULL",
                                    "3": "NULL",
                                    "4": "YES",
                                    "5": "NULL",
                                    "6": "NULL"
                                },
                                {
                                    "0": "T178",
                                    "1": "Identity columns:  simple restart option",
                                    "2": "NULL",
                                    "3": "NULL",
                                    "4": "YES",
                                    "5": "NULL",
                                    "6": "NULL"
                                },
                                {
                                    "0": "T180",
                                    "1": "System-versioned tables",
                                    "2": "NULL",
                                    "3": "NULL",
                                    "4": "NO",
                                    "5": "NULL",
                                    "6": "NULL"
                                },
                                {
                                    "0": "T181",
                                    "1": "Application-time period tables",
                                    "2": "NULL",
                                    "3": "NULL",
                                    "4": "NO",
                                    "5": "NULL",
                                    "6": "NULL"
                                },
                                {
                                    "0": "T191",
                                    "1": "Referential action RESTRICT",
                                    "2": "NULL",
                                    "3": "NULL",
                                    "4": "YES",
                                    "5": "NULL",
                                    "6": "NULL"
                                },
                                {
                                    "0": "T201",
                                    "1": "Comparable data types for referential constraints",
                                    "2": "NULL",
                                    "3": "NULL",
                                    "4": "YES",
                                    "5": "NULL",
                                    "6": "NULL"
                                },
                                {
                                    "0": "T211",
                                    "1": "Basic trigger capability",
                                    "2": "NULL",
                                    "3": "NULL",
                                    "4": "NO",
                                    "5": "NULL",
                                    "6": "NULL"
                                },
                                {
                                    "0": "T211",
                                    "1": "Basic trigger capability",
                                    "2": "01",
                                    "3": "Triggers activated on UPDATE, INSERT, or DELETE of one base table",
                                    "4": "YES",
                                    "5": "NULL",
                                    "6": "NULL"
                                },
                                {
                                    "0": "T211",
                                    "1": "Basic trigger capability",
                                    "2": "02",
                                    "3": "BEFORE triggers",
                                    "4": "YES",
                                    "5": "NULL",
                                    "6": "NULL"
                                },
                                {
                                    "0": "T211",
                                    "1": "Basic trigger capability",
                                    "2": "03",
                                    "3": "AFTER triggers",
                                    "4": "YES",
                                    "5": "NULL",
                                    "6": "NULL"
                                },
                                {
                                    "0": "T211",
                                    "1": "Basic trigger capability",
                                    "2": "04",
                                    "3": "FOR EACH ROW triggers",
                                    "4": "YES",
                                    "5": "NULL",
                                    "6": "NULL"
                                },
                                {
                                    "0": "T211",
                                    "1": "Basic trigger capability",
                                    "2": "05",
                                    "3": "Ability to specify a search condition that must be true before the trigger is invoked",
                                    "4": "YES",
                                    "5": "NULL",
                                    "6": "NULL"
                                },
                                {
                                    "0": "T211",
                                    "1": "Basic trigger capability",
                                    "2": "06",
                                    "3": "Support for run-time rules for the interaction of triggers and constraints",
                                    "4": "NO",
                                    "5": "NULL",
                                    "6": "NULL"
                                },
                                {
                                    "0": "T211",
                                    "1": "Basic trigger capability",
                                    "2": "07",
                                    "3": "TRIGGER privilege",
                                    "4": "YES",
                                    "5": "NULL",
                                    "6": "NULL"
                                },
                                {
                                    "0": "T211",
                                    "1": "Basic trigger capability",
                                    "2": "08",
                                    "3": "Multiple triggers for the same event are executed in the order in which they were created in the catalog",
                                    "4": "NO",
                                    "5": "NULL",
                                    "6": "intentionally omitted"
                                },
                                {
                                    "0": "T212",
                                    "1": "Enhanced trigger capability",
                                    "2": "NULL",
                                    "3": "NULL",
                                    "4": "YES",
                                    "5": "NULL",
                                    "6": "NULL"
                                },
                                {
                                    "0": "T213",
                                    "1": "INSTEAD OF triggers",
                                    "2": "NULL",
                                    "3": "NULL",
                                    "4": "YES",
                                    "5": "NULL",
                                    "6": "NULL"
                                },
                                {
                                    "0": "T231",
                                    "1": "Sensitive cursors",
                                    "2": "NULL",
                                    "3": "NULL",
                                    "4": "YES",
                                    "5": "NULL",
                                    "6": "NULL"
                                },
                                {
                                    "0": "T241",
                                    "1": "START TRANSACTION statement",
                                    "2": "NULL",
                                    "3": "NULL",
                                    "4": "YES",
                                    "5": "NULL",
                                    "6": "NULL"
                                },
                                {
                                    "0": "T251",
                                    "1": "SET TRANSACTION statement: LOCAL option",
                                    "2": "NULL",
                                    "3": "NULL",
                                    "4": "NO",
                                    "5": "NULL",
                                    "6": "NULL"
                                },
                                {
                                    "0": "T261",
                                    "1": "Chained transactions",
                                    "2": "NULL",
                                    "3": "NULL",
                                    "4": "YES",
                                    "5": "NULL",
                                    "6": "NULL"
                                },
                                {
                                    "0": "T271",
                                    "1": "Savepoints",
                                    "2": "NULL",
                                    "3": "NULL",
                                    "4": "YES",
                                    "5": "NULL",
                                    "6": "NULL"
                                },
                                {
                                    "0": "T272",
                                    "1": "Enhanced savepoint management",
                                    "2": "NULL",
                                    "3": "NULL",
                                    "4": "NO",
                                    "5": "NULL",
                                    "6": "NULL"
                                },
                                {
                                    "0": "T281",
                                    "1": "SELECT privilege with column granularity",
                                    "2": "NULL",
                                    "3": "NULL",
                                    "4": "YES",
                                    "5": "NULL",
                                    "6": "NULL"
                                },
                                {
                                    "0": "T285",
                                    "1": "Enhanced derived column names",
                                    "2": "NULL",
                                    "3": "NULL",
                                    "4": "YES",
                                    "5": "NULL",
                                    "6": "NULL"
                                },
                                {
                                    "0": "T301",
                                    "1": "Functional dependencies",
                                    "2": "NULL",
                                    "3": "NULL",
                                    "4": "NO",
                                    "5": "NULL",
                                    "6": "partially supported"
                                },
                                {
                                    "0": "T312",
                                    "1": "OVERLAY function",
                                    "2": "NULL",
                                    "3": "NULL",
                                    "4": "YES",
                                    "5": "NULL",
                                    "6": "NULL"
                                },
                                {
                                    "0": "T321",
                                    "1": "Basic SQL-invoked routines",
                                    "2": "NULL",
                                    "3": "NULL",
                                    "4": "NO",
                                    "5": "NULL",
                                    "6": "NULL"
                                },
                                {
                                    "0": "T321",
                                    "1": "Basic SQL-invoked routines",
                                    "2": "01",
                                    "3": "User-defined functions with no overloading",
                                    "4": "YES",
                                    "5": "NULL",
                                    "6": "NULL"
                                },
                                {
                                    "0": "T321",
                                    "1": "Basic SQL-invoked routines",
                                    "2": "02",
                                    "3": "User-defined stored procedures with no overloading",
                                    "4": "YES",
                                    "5": "NULL",
                                    "6": "NULL"
                                },
                                {
                                    "0": "T321",
                                    "1": "Basic SQL-invoked routines",
                                    "2": "03",
                                    "3": "Function invocation",
                                    "4": "YES",
                                    "5": "NULL",
                                    "6": "NULL"
                                },
                                {
                                    "0": "T321",
                                    "1": "Basic SQL-invoked routines",
                                    "2": "04",
                                    "3": "CALL statement",
                                    "4": "YES",
                                    "5": "NULL",
                                    "6": "NULL"
                                },
                                {
                                    "0": "T321",
                                    "1": "Basic SQL-invoked routines",
                                    "2": "05",
                                    "3": "RETURN statement",
                                    "4": "NO",
                                    "5": "NULL",
                                    "6": "NULL"
                                },
                                {
                                    "0": "T321",
                                    "1": "Basic SQL-invoked routines",
                                    "2": "06",
                                    "3": "ROUTINES view",
                                    "4": "YES",
                                    "5": "NULL",
                                    "6": "NULL"
                                },
                                {
                                    "0": "T321",
                                    "1": "Basic SQL-invoked routines",
                                    "2": "07",
                                    "3": "PARAMETERS view",
                                    "4": "YES",
                                    "5": "NULL",
                                    "6": "NULL"
                                },
                                {
                                    "0": "T322",
                                    "1": "Declared data type attributes",
                                    "2": "NULL",
                                    "3": "NULL",
                                    "4": "NO",
                                    "5": "NULL",
                                    "6": "NULL"
                                },
                                {
                                    "0": "T323",
                                    "1": "Explicit security for external routines",
                                    "2": "NULL",
                                    "3": "NULL",
                                    "4": "YES",
                                    "5": "NULL",
                                    "6": "NULL"
                                },
                                {
                                    "0": "T324",
                                    "1": "Explicit security for SQL routines",
                                    "2": "NULL",
                                    "3": "NULL",
                                    "4": "NO",
                                    "5": "NULL",
                                    "6": "NULL"
                                },
                                {
                                    "0": "T325",
                                    "1": "Qualified SQL parameter references",
                                    "2": "NULL",
                                    "3": "NULL",
                                    "4": "YES",
                                    "5": "NULL",
                                    "6": "NULL"
                                },
                                {
                                    "0": "T326",
                                    "1": "Table functions",
                                    "2": "NULL",
                                    "3": "NULL",
                                    "4": "NO",
                                    "5": "NULL",
                                    "6": "NULL"
                                },
                                {
                                    "0": "T331",
                                    "1": "Basic roles",
                                    "2": "NULL",
                                    "3": "NULL",
                                    "4": "YES",
                                    "5": "NULL",
                                    "6": "NULL"
                                },
                                {
                                    "0": "T332",
                                    "1": "Extended roles",
                                    "2": "NULL",
                                    "3": "NULL",
                                    "4": "NO",
                                    "5": "NULL",
                                    "6": "mostly supported"
                                },
                                {
                                    "0": "T341",
                                    "1": "Overloading of SQL-invoked functions and procedures",
                                    "2": "NULL",
                                    "3": "NULL",
                                    "4": "YES",
                                    "5": "NULL",
                                    "6": "NULL"
                                },
                                {
                                    "0": "T351",
                                    "1": "Bracketed SQL comments (/*...*/ comments)",
                                    "2": "NULL",
                                    "3": "NULL",
                                    "4": "YES",
                                    "5": "NULL",
                                    "6": "NULL"
                                },
                                {
                                    "0": "T431",
                                    "1": "Extended grouping capabilities",
                                    "2": "NULL",
                                    "3": "NULL",
                                    "4": "YES",
                                    "5": "NULL",
                                    "6": "NULL"
                                },
                                {
                                    "0": "T432",
                                    "1": "Nested and concatenated GROUPING SETS",
                                    "2": "NULL",
                                    "3": "NULL",
                                    "4": "YES",
                                    "5": "NULL",
                                    "6": "NULL"
                                },
                                {
                                    "0": "T433",
                                    "1": "Multiargument GROUPING function",
                                    "2": "NULL",
                                    "3": "NULL",
                                    "4": "YES",
                                    "5": "NULL",
                                    "6": "NULL"
                                },
                                {
                                    "0": "T434",
                                    "1": "GROUP BY DISTINCT",
                                    "2": "NULL",
                                    "3": "NULL",
                                    "4": "NO",
                                    "5": "NULL",
                                    "6": "NULL"
                                },
                                {
                                    "0": "T441",
                                    "1": "ABS and MOD functions",
                                    "2": "NULL",
                                    "3": "NULL",
                                    "4": "YES",
                                    "5": "NULL",
                                    "6": "NULL"
                                },
                                {
                                    "0": "T461",
                                    "1": "Symmetric BETWEEN predicate",
                                    "2": "NULL",
                                    "3": "NULL",
                                    "4": "YES",
                                    "5": "NULL",
                                    "6": "NULL"
                                },
                                {
                                    "0": "T471",
                                    "1": "Result sets return value",
                                    "2": "NULL",
                                    "3": "NULL",
                                    "4": "NO",
                                    "5": "NULL",
                                    "6": "NULL"
                                },
                                {
                                    "0": "T472",
                                    "1": "DESCRIBE CURSOR",
                                    "2": "NULL",
                                    "3": "NULL",
                                    "4": "NO",
                                    "5": "NULL",
                                    "6": "NULL"
                                },
                                {
                                    "0": "T491",
                                    "1": "LATERAL derived table",
                                    "2": "NULL",
                                    "3": "NULL",
                                    "4": "YES",
                                    "5": "NULL",
                                    "6": "NULL"
                                },
                                {
                                    "0": "T495",
                                    "1": "Combined data change and retrieval",
                                    "2": "NULL",
                                    "3": "NULL",
                                    "4": "NO",
                                    "5": "NULL",
                                    "6": "different syntax"
                                },
                                {
                                    "0": "T501",
                                    "1": "Enhanced EXISTS predicate",
                                    "2": "NULL",
                                    "3": "NULL",
                                    "4": "YES",
                                    "5": "NULL",
                                    "6": "NULL"
                                },
                                {
                                    "0": "T502",
                                    "1": "Period predicates",
                                    "2": "NULL",
                                    "3": "NULL",
                                    "4": "NO",
                                    "5": "NULL",
                                    "6": "NULL"
                                },
                                {
                                    "0": "T511",
                                    "1": "Transaction counts",
                                    "2": "NULL",
                                    "3": "NULL",
                                    "4": "NO",
                                    "5": "NULL",
                                    "6": "NULL"
                                },
                                {
                                    "0": "T521",
                                    "1": "Named arguments in CALL statement",
                                    "2": "NULL",
                                    "3": "NULL",
                                    "4": "YES",
                                    "5": "NULL",
                                    "6": "NULL"
                                },
                                {
                                    "0": "T522",
                                    "1": "Default values for IN parameters of SQL-invoked procedures",
                                    "2": "NULL",
                                    "3": "NULL",
                                    "4": "NO",
                                    "5": "NULL",
                                    "6": "supported except DEFAULT key word in invocation"
                                },
                                {
                                    "0": "T523",
                                    "1": "Default values for INOUT parameters of SQL-invoked procedures",
                                    "2": "NULL",
                                    "3": "NULL",
                                    "4": "YES",
                                    "5": "NULL",
                                    "6": "NULL"
                                },
                                {
                                    "0": "T524",
                                    "1": "Named arguments in routine invocations other than a CALL statement",
                                    "2": "NULL",
                                    "3": "NULL",
                                    "4": "YES",
                                    "5": "NULL",
                                    "6": "NULL"
                                },
                                {
                                    "0": "T525",
                                    "1": "Default values for parameters of SQL-invoked functions",
                                    "2": "NULL",
                                    "3": "NULL",
                                    "4": "YES",
                                    "5": "NULL",
                                    "6": "NULL"
                                },
                                {
                                    "0": "T551",
                                    "1": "Optional key words for default syntax",
                                    "2": "NULL",
                                    "3": "NULL",
                                    "4": "YES",
                                    "5": "NULL",
                                    "6": "NULL"
                                },
                                {
                                    "0": "T561",
                                    "1": "Holdable locators",
                                    "2": "NULL",
                                    "3": "NULL",
                                    "4": "NO",
                                    "5": "NULL",
                                    "6": "NULL"
                                },
                                {
                                    "0": "T571",
                                    "1": "Array-returning external SQL-invoked functions",
                                    "2": "NULL",
                                    "3": "NULL",
                                    "4": "NO",
                                    "5": "NULL",
                                    "6": "NULL"
                                },
                                {
                                    "0": "T572",
                                    "1": "Multiset-returning external SQL-invoked functions",
                                    "2": "NULL",
                                    "3": "NULL",
                                    "4": "NO",
                                    "5": "NULL",
                                    "6": "NULL"
                                },
                                {
                                    "0": "T581",
                                    "1": "Regular expression substring function",
                                    "2": "NULL",
                                    "3": "NULL",
                                    "4": "YES",
                                    "5": "NULL",
                                    "6": "NULL"
                                },
                                {
                                    "0": "T591",
                                    "1": "UNIQUE constraints of possibly null columns",
                                    "2": "NULL",
                                    "3": "NULL",
                                    "4": "YES",
                                    "5": "NULL",
                                    "6": "NULL"
                                },
                                {
                                    "0": "T601",
                                    "1": "Local cursor references",
                                    "2": "NULL",
                                    "3": "NULL",
                                    "4": "NO",
                                    "5": "NULL",
                                    "6": "NULL"
                                },
                                {
                                    "0": "T611",
                                    "1": "Elementary OLAP operations",
                                    "2": "NULL",
                                    "3": "NULL",
                                    "4": "YES",
                                    "5": "NULL",
                                    "6": "NULL"
                                },
                                {
                                    "0": "T612",
                                    "1": "Advanced OLAP operations",
                                    "2": "NULL",
                                    "3": "NULL",
                                    "4": "NO",
                                    "5": "NULL",
                                    "6": "some forms supported"
                                },
                                {
                                    "0": "T613",
                                    "1": "Sampling",
                                    "2": "NULL",
                                    "3": "NULL",
                                    "4": "YES",
                                    "5": "NULL",
                                    "6": "NULL"
                                },
                                {
                                    "0": "T614",
                                    "1": "NTILE function",
                                    "2": "NULL",
                                    "3": "NULL",
                                    "4": "YES",
                                    "5": "NULL",
                                    "6": "NULL"
                                },
                                {
                                    "0": "T615",
                                    "1": "LEAD and LAG functions",
                                    "2": "NULL",
                                    "3": "NULL",
                                    "4": "YES",
                                    "5": "NULL",
                                    "6": "NULL"
                                },
                                {
                                    "0": "T616",
                                    "1": "Null treatment option for LEAD and LAG functions",
                                    "2": "NULL",
                                    "3": "NULL",
                                    "4": "NO",
                                    "5": "NULL",
                                    "6": "NULL"
                                },
                                {
                                    "0": "T617",
                                    "1": "FIRST_VALUE and LAST_VALUE function",
                                    "2": "NULL",
                                    "3": "NULL",
                                    "4": "YES",
                                    "5": "NULL",
                                    "6": "NULL"
                                },
                                {
                                    "0": "T618",
                                    "1": "NTH_VALUE function",
                                    "2": "NULL",
                                    "3": "NULL",
                                    "4": "NO",
                                    "5": "NULL",
                                    "6": "function exists, but some options missing"
                                },
                                {
                                    "0": "T619",
                                    "1": "Nested window functions",
                                    "2": "NULL",
                                    "3": "NULL",
                                    "4": "NO",
                                    "5": "NULL",
                                    "6": "NULL"
                                },
                                {
                                    "0": "T620",
                                    "1": "WINDOW clause: GROUPS option",
                                    "2": "NULL",
                                    "3": "NULL",
                                    "4": "YES",
                                    "5": "NULL",
                                    "6": "NULL"
                                },
                                {
                                    "0": "T621",
                                    "1": "Enhanced numeric functions",
                                    "2": "NULL",
                                    "3": "NULL",
                                    "4": "YES",
                                    "5": "NULL",
                                    "6": "NULL"
                                },
                                {
                                    "0": "T622",
                                    "1": "Trigonometric functions",
                                    "2": "NULL",
                                    "3": "NULL",
                                    "4": "YES",
                                    "5": "NULL",
                                    "6": "NULL"
                                },
                                {
                                    "0": "T623",
                                    "1": "General logarithm functions",
                                    "2": "NULL",
                                    "3": "NULL",
                                    "4": "YES",
                                    "5": "NULL",
                                    "6": "NULL"
                                },
                                {
                                    "0": "T624",
                                    "1": "Common logarithm functions",
                                    "2": "NULL",
                                    "3": "NULL",
                                    "4": "YES",
                                    "5": "NULL",
                                    "6": "NULL"
                                },
                                {
                                    "0": "T625",
                                    "1": "LISTAGG",
                                    "2": "NULL",
                                    "3": "NULL",
                                    "4": "NO",
                                    "5": "NULL",
                                    "6": "NULL"
                                },
                                {
                                    "0": "T631",
                                    "1": "IN predicate with one list element",
                                    "2": "NULL",
                                    "3": "NULL",
                                    "4": "YES",
                                    "5": "NULL",
                                    "6": "NULL"
                                },
                                {
                                    "0": "T641",
                                    "1": "Multiple column assignment",
                                    "2": "NULL",
                                    "3": "NULL",
                                    "4": "NO",
                                    "5": "NULL",
                                    "6": "only some syntax variants supported"
                                },
                                {
                                    "0": "T651",
                                    "1": "SQL-schema statements in SQL routines",
                                    "2": "NULL",
                                    "3": "NULL",
                                    "4": "YES",
                                    "5": "NULL",
                                    "6": "NULL"
                                },
                                {
                                    "0": "T652",
                                    "1": "SQL-dynamic statements in SQL routines",
                                    "2": "NULL",
                                    "3": "NULL",
                                    "4": "NO",
                                    "5": "NULL",
                                    "6": "NULL"
                                },
                                {
                                    "0": "T653",
                                    "1": "SQL-schema statements in external routines",
                                    "2": "NULL",
                                    "3": "NULL",
                                    "4": "NO",
                                    "5": "NULL",
                                    "6": "NULL"
                                },
                                {
                                    "0": "T654",
                                    "1": "SQL-dynamic statements in external routines",
                                    "2": "NULL",
                                    "3": "NULL",
                                    "4": "NO",
                                    "5": "NULL",
                                    "6": "NULL"
                                },
                                {
                                    "0": "T655",
                                    "1": "Cyclically dependent routines",
                                    "2": "NULL",
                                    "3": "NULL",
                                    "4": "YES",
                                    "5": "NULL",
                                    "6": "NULL"
                                },
                                {
                                    "0": "T811",
                                    "1": "Basic SQL/JSON constructor functions",
                                    "2": "NULL",
                                    "3": "NULL",
                                    "4": "NO",
                                    "5": "NULL",
                                    "6": "NULL"
                                },
                                {
                                    "0": "T812",
                                    "1": "SQL/JSON: JSON_OBJECTAGG",
                                    "2": "NULL",
                                    "3": "NULL",
                                    "4": "NO",
                                    "5": "NULL",
                                    "6": "NULL"
                                },
                                {
                                    "0": "T813",
                                    "1": "SQL/JSON: JSON_ARRAYAGG with ORDER BY",
                                    "2": "NULL",
                                    "3": "NULL",
                                    "4": "NO",
                                    "5": "NULL",
                                    "6": "NULL"
                                },
                                {
                                    "0": "T814",
                                    "1": "Colon in JSON_OBJECT or JSON_OBJECTAGG",
                                    "2": "NULL",
                                    "3": "NULL",
                                    "4": "NO",
                                    "5": "NULL",
                                    "6": "NULL"
                                },
                                {
                                    "0": "T821",
                                    "1": "Basic SQL/JSON query operators",
                                    "2": "NULL",
                                    "3": "NULL",
                                    "4": "NO",
                                    "5": "NULL",
                                    "6": "NULL"
                                },
                                {
                                    "0": "T822",
                                    "1": "SQL/JSON: IS JSON WITH UNIQUE KEYS predicate",
                                    "2": "NULL",
                                    "3": "NULL",
                                    "4": "NO",
                                    "5": "NULL",
                                    "6": "NULL"
                                },
                                {
                                    "0": "T823",
                                    "1": "SQL/JSON: PASSING clause",
                                    "2": "NULL",
                                    "3": "NULL",
                                    "4": "NO",
                                    "5": "NULL",
                                    "6": "NULL"
                                },
                                {
                                    "0": "T824",
                                    "1": "JSON_TABLE: specific PLAN clause",
                                    "2": "NULL",
                                    "3": "NULL",
                                    "4": "NO",
                                    "5": "NULL",
                                    "6": "NULL"
                                },
                                {
                                    "0": "T825",
                                    "1": "SQL/JSON: ON EMPTY and ON ERROR clauses",
                                    "2": "NULL",
                                    "3": "NULL",
                                    "4": "NO",
                                    "5": "NULL",
                                    "6": "NULL"
                                },
                                {
                                    "0": "T826",
                                    "1": "General value expression in ON ERROR or ON EMPTY clauses",
                                    "2": "NULL",
                                    "3": "NULL",
                                    "4": "NO",
                                    "5": "NULL",
                                    "6": "NULL"
                                },
                                {
                                    "0": "T827",
                                    "1": "JSON_TABLE: sibling NESTED COLUMNS clauses",
                                    "2": "NULL",
                                    "3": "NULL",
                                    "4": "NO",
                                    "5": "NULL",
                                    "6": "NULL"
                                },
                                {
                                    "0": "T828",
                                    "1": "JSON_QUERY",
                                    "2": "NULL",
                                    "3": "NULL",
                                    "4": "NO",
                                    "5": "NULL",
                                    "6": "NULL"
                                },
                                {
                                    "0": "T829",
                                    "1": "JSON_QUERY: array wrapper options",
                                    "2": "NULL",
                                    "3": "NULL",
                                    "4": "NO",
                                    "5": "NULL",
                                    "6": "NULL"
                                },
                                {
                                    "0": "T830",
                                    "1": "Enforcing unique keys in SQL/JSON constructor functions",
                                    "2": "NULL",
                                    "3": "NULL",
                                    "4": "NO",
                                    "5": "NULL",
                                    "6": "NULL"
                                },
                                {
                                    "0": "T831",
                                    "1": "SQL/JSON path language: strict mode",
                                    "2": "NULL",
                                    "3": "NULL",
                                    "4": "YES",
                                    "5": "NULL",
                                    "6": "NULL"
                                },
                                {
                                    "0": "T832",
                                    "1": "SQL/JSON path language: item method",
                                    "2": "NULL",
                                    "3": "NULL",
                                    "4": "NO",
                                    "5": "NULL",
                                    "6": "datetime() not yet implemented"
                                },
                                {
                                    "0": "T833",
                                    "1": "SQL/JSON path language: multiple subscripts",
                                    "2": "NULL",
                                    "3": "NULL",
                                    "4": "YES",
                                    "5": "NULL",
                                    "6": "NULL"
                                },
                                {
                                    "0": "T834",
                                    "1": "SQL/JSON path language: wildcard member accessor",
                                    "2": "NULL",
                                    "3": "NULL",
                                    "4": "YES",
                                    "5": "NULL",
                                    "6": "NULL"
                                },
                                {
                                    "0": "T835",
                                    "1": "SQL/JSON path language: filter expressions",
                                    "2": "NULL",
                                    "3": "NULL",
                                    "4": "YES",
                                    "5": "NULL",
                                    "6": "NULL"
                                },
                                {
                                    "0": "T836",
                                    "1": "SQL/JSON path language: starts with predicate",
                                    "2": "NULL",
                                    "3": "NULL",
                                    "4": "YES",
                                    "5": "NULL",
                                    "6": "NULL"
                                },
                                {
                                    "0": "T837",
                                    "1": "SQL/JSON path language: regex_like predicate",
                                    "2": "NULL",
                                    "3": "NULL",
                                    "4": "YES",
                                    "5": "NULL",
                                    "6": "NULL"
                                },
                                {
                                    "0": "T838",
                                    "1": "JSON_TABLE: PLAN DEFAULT clause",
                                    "2": "NULL",
                                    "3": "NULL",
                                    "4": "NO",
                                    "5": "NULL",
                                    "6": "NULL"
                                },
                                {
                                    "0": "T839",
                                    "1": "Formatted cast of datetimes to/from character strings",
                                    "2": "NULL",
                                    "3": "NULL",
                                    "4": "NO",
                                    "5": "NULL",
                                    "6": "NULL"
                                },
                                {
                                    "0": "M001",
                                    "1": "Datalinks",
                                    "2": "NULL",
                                    "3": "NULL",
                                    "4": "NO",
                                    "5": "NULL",
                                    "6": "NULL"
                                },
                                {
                                    "0": "M002",
                                    "1": "Datalinks via SQL/CLI",
                                    "2": "NULL",
                                    "3": "NULL",
                                    "4": "NO",
                                    "5": "NULL",
                                    "6": "NULL"
                                },
                                {
                                    "0": "M003",
                                    "1": "Datalinks via Embedded SQL",
                                    "2": "NULL",
                                    "3": "NULL",
                                    "4": "NO",
                                    "5": "NULL",
                                    "6": "NULL"
                                },
                                {
                                    "0": "M004",
                                    "1": "Foreign data support",
                                    "2": "NULL",
                                    "3": "NULL",
                                    "4": "NO",
                                    "5": "NULL",
                                    "6": "partially supported"
                                },
                                {
                                    "0": "M005",
                                    "1": "Foreign schema support",
                                    "2": "NULL",
                                    "3": "NULL",
                                    "4": "NO",
                                    "5": "NULL",
                                    "6": "NULL"
                                },
                                {
                                    "0": "M006",
                                    "1": "GetSQLString routine",
                                    "2": "NULL",
                                    "3": "NULL",
                                    "4": "NO",
                                    "5": "NULL",
                                    "6": "NULL"
                                },
                                {
                                    "0": "M007",
                                    "1": "TransmitRequest",
                                    "2": "NULL",
                                    "3": "NULL",
                                    "4": "NO",
                                    "5": "NULL",
                                    "6": "NULL"
                                },
                                {
                                    "0": "M009",
                                    "1": "GetOpts and GetStatistics routines",
                                    "2": "NULL",
                                    "3": "NULL",
                                    "4": "NO",
                                    "5": "NULL",
                                    "6": "NULL"
                                },
                                {
                                    "0": "M010",
                                    "1": "Foreign data wrapper support",
                                    "2": "NULL",
                                    "3": "NULL",
                                    "4": "NO",
                                    "5": "NULL",
                                    "6": "different API"
                                },
                                {
                                    "0": "M011",
                                    "1": "Datalinks via Ada",
                                    "2": "NULL",
                                    "3": "NULL",
                                    "4": "NO",
                                    "5": "NULL",
                                    "6": "NULL"
                                },
                                {
                                    "0": "M012",
                                    "1": "Datalinks via C",
                                    "2": "NULL",
                                    "3": "NULL",
                                    "4": "NO",
                                    "5": "NULL",
                                    "6": "NULL"
                                },
                                {
                                    "0": "M013",
                                    "1": "Datalinks via COBOL",
                                    "2": "NULL",
                                    "3": "NULL",
                                    "4": "NO",
                                    "5": "NULL",
                                    "6": "NULL"
                                },
                                {
                                    "0": "M014",
                                    "1": "Datalinks via Fortran",
                                    "2": "NULL",
                                    "3": "NULL",
                                    "4": "NO",
                                    "5": "NULL",
                                    "6": "NULL"
                                },
                                {
                                    "0": "M015",
                                    "1": "Datalinks via M",
                                    "2": "NULL",
                                    "3": "NULL",
                                    "4": "NO",
                                    "5": "NULL",
                                    "6": "NULL"
                                },
                                {
                                    "0": "M016",
                                    "1": "Datalinks via Pascal",
                                    "2": "NULL",
                                    "3": "NULL",
                                    "4": "NO",
                                    "5": "NULL",
                                    "6": "NULL"
                                },
                                {
                                    "0": "M017",
                                    "1": "Datalinks via PL/I",
                                    "2": "NULL",
                                    "3": "NULL",
                                    "4": "NO",
                                    "5": "NULL",
                                    "6": "NULL"
                                },
                                {
                                    "0": "M018",
                                    "1": "Foreign data wrapper interface routines in Ada",
                                    "2": "NULL",
                                    "3": "NULL",
                                    "4": "NO",
                                    "5": "NULL",
                                    "6": "NULL"
                                },
                                {
                                    "0": "M019",
                                    "1": "Foreign data wrapper interface routines in C",
                                    "2": "NULL",
                                    "3": "NULL",
                                    "4": "NO",
                                    "5": "NULL",
                                    "6": "different API"
                                },
                                {
                                    "0": "M020",
                                    "1": "Foreign data wrapper interface routines in COBOL",
                                    "2": "NULL",
                                    "3": "NULL",
                                    "4": "NO",
                                    "5": "NULL",
                                    "6": "NULL"
                                },
                                {
                                    "0": "M021",
                                    "1": "Foreign data wrapper interface routines in Fortran",
                                    "2": "NULL",
                                    "3": "NULL",
                                    "4": "NO",
                                    "5": "NULL",
                                    "6": "NULL"
                                },
                                {
                                    "0": "M022",
                                    "1": "Foreign data wrapper interface routines in MUMPS",
                                    "2": "NULL",
                                    "3": "NULL",
                                    "4": "NO",
                                    "5": "NULL",
                                    "6": "NULL"
                                },
                                {
                                    "0": "M023",
                                    "1": "Foreign data wrapper interface routines in Pascal",
                                    "2": "NULL",
                                    "3": "NULL",
                                    "4": "NO",
                                    "5": "NULL",
                                    "6": "NULL"
                                },
                                {
                                    "0": "M024",
                                    "1": "Foreign data wrapper interface routines in PL/I",
                                    "2": "NULL",
                                    "3": "NULL",
                                    "4": "NO",
                                    "5": "NULL",
                                    "6": "NULL"
                                },
                                {
                                    "0": "M030",
                                    "1": "SQL-server foreign data support",
                                    "2": "NULL",
                                    "3": "NULL",
                                    "4": "NO",
                                    "5": "NULL",
                                    "6": "NULL"
                                },
                                {
                                    "0": "M031",
                                    "1": "Foreign data wrapper general routines",
                                    "2": "NULL",
                                    "3": "NULL",
                                    "4": "NO",
                                    "5": "NULL",
                                    "6": "NULL"
                                },
                                {
                                    "0": "X010",
                                    "1": "XML type",
                                    "2": "NULL",
                                    "3": "NULL",
                                    "4": "YES",
                                    "5": "NULL",
                                    "6": "NULL"
                                },
                                {
                                    "0": "X011",
                                    "1": "Arrays of XML type",
                                    "2": "NULL",
                                    "3": "NULL",
                                    "4": "YES",
                                    "5": "NULL",
                                    "6": "NULL"
                                },
                                {
                                    "0": "X012",
                                    "1": "Multisets of XML type",
                                    "2": "NULL",
                                    "3": "NULL",
                                    "4": "NO",
                                    "5": "NULL",
                                    "6": "NULL"
                                },
                                {
                                    "0": "X013",
                                    "1": "Distinct types of XML type",
                                    "2": "NULL",
                                    "3": "NULL",
                                    "4": "NO",
                                    "5": "NULL",
                                    "6": "NULL"
                                },
                                {
                                    "0": "X014",
                                    "1": "Attributes of XML type",
                                    "2": "NULL",
                                    "3": "NULL",
                                    "4": "YES",
                                    "5": "NULL",
                                    "6": "NULL"
                                },
                                {
                                    "0": "X015",
                                    "1": "Fields of XML type",
                                    "2": "NULL",
                                    "3": "NULL",
                                    "4": "NO",
                                    "5": "NULL",
                                    "6": "NULL"
                                },
                                {
                                    "0": "X016",
                                    "1": "Persistent XML values",
                                    "2": "NULL",
                                    "3": "NULL",
                                    "4": "YES",
                                    "5": "NULL",
                                    "6": "NULL"
                                },
                                {
                                    "0": "X020",
                                    "1": "XMLConcat",
                                    "2": "NULL",
                                    "3": "NULL",
                                    "4": "YES",
                                    "5": "NULL",
                                    "6": "NULL"
                                },
                                {
                                    "0": "X025",
                                    "1": "XMLCast",
                                    "2": "NULL",
                                    "3": "NULL",
                                    "4": "NO",
                                    "5": "NULL",
                                    "6": "NULL"
                                },
                                {
                                    "0": "X030",
                                    "1": "XMLDocument",
                                    "2": "NULL",
                                    "3": "NULL",
                                    "4": "NO",
                                    "5": "NULL",
                                    "6": "NULL"
                                },
                                {
                                    "0": "X031",
                                    "1": "XMLElement",
                                    "2": "NULL",
                                    "3": "NULL",
                                    "4": "YES",
                                    "5": "NULL",
                                    "6": "NULL"
                                },
                                {
                                    "0": "X032",
                                    "1": "XMLForest",
                                    "2": "NULL",
                                    "3": "NULL",
                                    "4": "YES",
                                    "5": "NULL",
                                    "6": "NULL"
                                },
                                {
                                    "0": "X034",
                                    "1": "XMLAgg",
                                    "2": "NULL",
                                    "3": "NULL",
                                    "4": "YES",
                                    "5": "NULL",
                                    "6": "NULL"
                                },
                                {
                                    "0": "X035",
                                    "1": "XMLAgg: ORDER BY option",
                                    "2": "NULL",
                                    "3": "NULL",
                                    "4": "YES",
                                    "5": "NULL",
                                    "6": "NULL"
                                },
                                {
                                    "0": "X036",
                                    "1": "XMLComment",
                                    "2": "NULL",
                                    "3": "NULL",
                                    "4": "YES",
                                    "5": "NULL",
                                    "6": "NULL"
                                },
                                {
                                    "0": "X037",
                                    "1": "XMLPI",
                                    "2": "NULL",
                                    "3": "NULL",
                                    "4": "YES",
                                    "5": "NULL",
                                    "6": "NULL"
                                },
                                {
                                    "0": "X038",
                                    "1": "XMLText",
                                    "2": "NULL",
                                    "3": "NULL",
                                    "4": "NO",
                                    "5": "NULL",
                                    "6": "NULL"
                                },
                                {
                                    "0": "X040",
                                    "1": "Basic table mapping",
                                    "2": "NULL",
                                    "3": "NULL",
                                    "4": "YES",
                                    "5": "NULL",
                                    "6": "NULL"
                                },
                                {
                                    "0": "X041",
                                    "1": "Basic table mapping: nulls absent",
                                    "2": "NULL",
                                    "3": "NULL",
                                    "4": "YES",
                                    "5": "NULL",
                                    "6": "NULL"
                                },
                                {
                                    "0": "X042",
                                    "1": "Basic table mapping: null as nil",
                                    "2": "NULL",
                                    "3": "NULL",
                                    "4": "YES",
                                    "5": "NULL",
                                    "6": "NULL"
                                },
                                {
                                    "0": "X043",
                                    "1": "Basic table mapping: table as forest",
                                    "2": "NULL",
                                    "3": "NULL",
                                    "4": "YES",
                                    "5": "NULL",
                                    "6": "NULL"
                                },
                                {
                                    "0": "X044",
                                    "1": "Basic table mapping: table as element",
                                    "2": "NULL",
                                    "3": "NULL",
                                    "4": "YES",
                                    "5": "NULL",
                                    "6": "NULL"
                                },
                                {
                                    "0": "X045",
                                    "1": "Basic table mapping: with target namespace",
                                    "2": "NULL",
                                    "3": "NULL",
                                    "4": "YES",
                                    "5": "NULL",
                                    "6": "NULL"
                                },
                                {
                                    "0": "X046",
                                    "1": "Basic table mapping: data mapping",
                                    "2": "NULL",
                                    "3": "NULL",
                                    "4": "YES",
                                    "5": "NULL",
                                    "6": "NULL"
                                },
                                {
                                    "0": "X047",
                                    "1": "Basic table mapping: metadata mapping",
                                    "2": "NULL",
                                    "3": "NULL",
                                    "4": "YES",
                                    "5": "NULL",
                                    "6": "NULL"
                                },
                                {
                                    "0": "X048",
                                    "1": "Basic table mapping: base64 encoding of binary strings",
                                    "2": "NULL",
                                    "3": "NULL",
                                    "4": "YES",
                                    "5": "NULL",
                                    "6": "NULL"
                                },
                                {
                                    "0": "X049",
                                    "1": "Basic table mapping: hex encoding of binary strings",
                                    "2": "NULL",
                                    "3": "NULL",
                                    "4": "YES",
                                    "5": "NULL",
                                    "6": "NULL"
                                },
                                {
                                    "0": "X050",
                                    "1": "Advanced table mapping",
                                    "2": "NULL",
                                    "3": "NULL",
                                    "4": "YES",
                                    "5": "NULL",
                                    "6": "NULL"
                                },
                                {
                                    "0": "X051",
                                    "1": "Advanced table mapping: nulls absent",
                                    "2": "NULL",
                                    "3": "NULL",
                                    "4": "YES",
                                    "5": "NULL",
                                    "6": "NULL"
                                },
                                {
                                    "0": "X052",
                                    "1": "Advanced table mapping: null as nil",
                                    "2": "NULL",
                                    "3": "NULL",
                                    "4": "YES",
                                    "5": "NULL",
                                    "6": "NULL"
                                },
                                {
                                    "0": "X053",
                                    "1": "Advanced table mapping: table as forest",
                                    "2": "NULL",
                                    "3": "NULL",
                                    "4": "YES",
                                    "5": "NULL",
                                    "6": "NULL"
                                },
                                {
                                    "0": "X054",
                                    "1": "Advanced table mapping: table as element",
                                    "2": "NULL",
                                    "3": "NULL",
                                    "4": "YES",
                                    "5": "NULL",
                                    "6": "NULL"
                                },
                                {
                                    "0": "X055",
                                    "1": "Advanced table mapping: with target namespace",
                                    "2": "NULL",
                                    "3": "NULL",
                                    "4": "YES",
                                    "5": "NULL",
                                    "6": "NULL"
                                },
                                {
                                    "0": "X056",
                                    "1": "Advanced table mapping: data mapping",
                                    "2": "NULL",
                                    "3": "NULL",
                                    "4": "YES",
                                    "5": "NULL",
                                    "6": "NULL"
                                },
                                {
                                    "0": "X057",
                                    "1": "Advanced table mapping: metadata mapping",
                                    "2": "NULL",
                                    "3": "NULL",
                                    "4": "YES",
                                    "5": "NULL",
                                    "6": "NULL"
                                },
                                {
                                    "0": "X058",
                                    "1": "Advanced table mapping: base64 encoding of binary strings",
                                    "2": "NULL",
                                    "3": "NULL",
                                    "4": "YES",
                                    "5": "NULL",
                                    "6": "NULL"
                                },
                                {
                                    "0": "X059",
                                    "1": "Advanced table mapping: hex encoding of binary strings",
                                    "2": "NULL",
                                    "3": "NULL",
                                    "4": "YES",
                                    "5": "NULL",
                                    "6": "NULL"
                                },
                                {
                                    "0": "X060",
                                    "1": "XMLParse: character string input and CONTENT option",
                                    "2": "NULL",
                                    "3": "NULL",
                                    "4": "YES",
                                    "5": "NULL",
                                    "6": "NULL"
                                },
                                {
                                    "0": "X061",
                                    "1": "XMLParse: character string input and DOCUMENT option",
                                    "2": "NULL",
                                    "3": "NULL",
                                    "4": "YES",
                                    "5": "NULL",
                                    "6": "NULL"
                                },
                                {
                                    "0": "X065",
                                    "1": "XMLParse: BLOB input and CONTENT option",
                                    "2": "NULL",
                                    "3": "NULL",
                                    "4": "NO",
                                    "5": "NULL",
                                    "6": "NULL"
                                },
                                {
                                    "0": "X066",
                                    "1": "XMLParse: BLOB input and DOCUMENT option",
                                    "2": "NULL",
                                    "3": "NULL",
                                    "4": "NO",
                                    "5": "NULL",
                                    "6": "NULL"
                                },
                                {
                                    "0": "X068",
                                    "1": "XMLSerialize: BOM",
                                    "2": "NULL",
                                    "3": "NULL",
                                    "4": "NO",
                                    "5": "NULL",
                                    "6": "NULL"
                                },
                                {
                                    "0": "X069",
                                    "1": "XMLSerialize: INDENT",
                                    "2": "NULL",
                                    "3": "NULL",
                                    "4": "NO",
                                    "5": "NULL",
                                    "6": "NULL"
                                },
                                {
                                    "0": "X070",
                                    "1": "XMLSerialize: character string serialization and CONTENT option",
                                    "2": "NULL",
                                    "3": "NULL",
                                    "4": "YES",
                                    "5": "NULL",
                                    "6": "NULL"
                                },
                                {
                                    "0": "X071",
                                    "1": "XMLSerialize: character string serialization and DOCUMENT option",
                                    "2": "NULL",
                                    "3": "NULL",
                                    "4": "YES",
                                    "5": "NULL",
                                    "6": "NULL"
                                },
                                {
                                    "0": "X072",
                                    "1": "XMLSerialize: character string serialization",
                                    "2": "NULL",
                                    "3": "NULL",
                                    "4": "YES",
                                    "5": "NULL",
                                    "6": "NULL"
                                },
                                {
                                    "0": "X073",
                                    "1": "XMLSerialize: BLOB serialization and CONTENT option",
                                    "2": "NULL",
                                    "3": "NULL",
                                    "4": "NO",
                                    "5": "NULL",
                                    "6": "NULL"
                                },
                                {
                                    "0": "X074",
                                    "1": "XMLSerialize: BLOB serialization and DOCUMENT option",
                                    "2": "NULL",
                                    "3": "NULL",
                                    "4": "NO",
                                    "5": "NULL",
                                    "6": "NULL"
                                },
                                {
                                    "0": "X075",
                                    "1": "XMLSerialize: BLOB serialization",
                                    "2": "NULL",
                                    "3": "NULL",
                                    "4": "NO",
                                    "5": "NULL",
                                    "6": "NULL"
                                },
                                {
                                    "0": "X076",
                                    "1": "XMLSerialize: VERSION",
                                    "2": "NULL",
                                    "3": "NULL",
                                    "4": "NO",
                                    "5": "NULL",
                                    "6": "NULL"
                                },
                                {
                                    "0": "X077",
                                    "1": "XMLSerialize: explicit ENCODING option",
                                    "2": "NULL",
                                    "3": "NULL",
                                    "4": "NO",
                                    "5": "NULL",
                                    "6": "NULL"
                                },
                                {
                                    "0": "X078",
                                    "1": "XMLSerialize: explicit XML declaration",
                                    "2": "NULL",
                                    "3": "NULL",
                                    "4": "NO",
                                    "5": "NULL",
                                    "6": "NULL"
                                },
                                {
                                    "0": "X080",
                                    "1": "Namespaces in XML publishing",
                                    "2": "NULL",
                                    "3": "NULL",
                                    "4": "NO",
                                    "5": "NULL",
                                    "6": "NULL"
                                },
                                {
                                    "0": "X081",
                                    "1": "Query-level XML namespace declarations",
                                    "2": "NULL",
                                    "3": "NULL",
                                    "4": "NO",
                                    "5": "NULL",
                                    "6": "NULL"
                                },
                                {
                                    "0": "X082",
                                    "1": "XML namespace declarations in DML",
                                    "2": "NULL",
                                    "3": "NULL",
                                    "4": "NO",
                                    "5": "NULL",
                                    "6": "NULL"
                                },
                                {
                                    "0": "X083",
                                    "1": "XML namespace declarations in DDL",
                                    "2": "NULL",
                                    "3": "NULL",
                                    "4": "NO",
                                    "5": "NULL",
                                    "6": "NULL"
                                },
                                {
                                    "0": "X084",
                                    "1": "XML namespace declarations in compound statements",
                                    "2": "NULL",
                                    "3": "NULL",
                                    "4": "NO",
                                    "5": "NULL",
                                    "6": "NULL"
                                },
                                {
                                    "0": "X085",
                                    "1": "Predefined namespace prefixes",
                                    "2": "NULL",
                                    "3": "NULL",
                                    "4": "NO",
                                    "5": "NULL",
                                    "6": "NULL"
                                },
                                {
                                    "0": "X086",
                                    "1": "XML namespace declarations in XMLTable",
                                    "2": "NULL",
                                    "3": "NULL",
                                    "4": "NO",
                                    "5": "NULL",
                                    "6": "NULL"
                                },
                                {
                                    "0": "X090",
                                    "1": "XML document predicate",
                                    "2": "NULL",
                                    "3": "NULL",
                                    "4": "YES",
                                    "5": "NULL",
                                    "6": "NULL"
                                },
                                {
                                    "0": "X091",
                                    "1": "XML content predicate",
                                    "2": "NULL",
                                    "3": "NULL",
                                    "4": "NO",
                                    "5": "NULL",
                                    "6": "NULL"
                                },
                                {
                                    "0": "X096",
                                    "1": "XMLExists",
                                    "2": "NULL",
                                    "3": "NULL",
                                    "4": "NO",
                                    "5": "NULL",
                                    "6": "XPath 1.0 only"
                                },
                                {
                                    "0": "X100",
                                    "1": "Host language support for XML: CONTENT option",
                                    "2": "NULL",
                                    "3": "NULL",
                                    "4": "NO",
                                    "5": "NULL",
                                    "6": "NULL"
                                },
                                {
                                    "0": "X101",
                                    "1": "Host language support for XML: DOCUMENT option",
                                    "2": "NULL",
                                    "3": "NULL",
                                    "4": "NO",
                                    "5": "NULL",
                                    "6": "NULL"
                                },
                                {
                                    "0": "X110",
                                    "1": "Host language support for XML: VARCHAR mapping",
                                    "2": "NULL",
                                    "3": "NULL",
                                    "4": "NO",
                                    "5": "NULL",
                                    "6": "NULL"
                                },
                                {
                                    "0": "X111",
                                    "1": "Host language support for XML: CLOB mapping",
                                    "2": "NULL",
                                    "3": "NULL",
                                    "4": "NO",
                                    "5": "NULL",
                                    "6": "NULL"
                                },
                                {
                                    "0": "X112",
                                    "1": "Host language support for XML: BLOB mapping",
                                    "2": "NULL",
                                    "3": "NULL",
                                    "4": "NO",
                                    "5": "NULL",
                                    "6": "NULL"
                                },
                                {
                                    "0": "X113",
                                    "1": "Host language support for XML: STRIP WHITESPACE option",
                                    "2": "NULL",
                                    "3": "NULL",
                                    "4": "NO",
                                    "5": "NULL",
                                    "6": "NULL"
                                },
                                {
                                    "0": "X114",
                                    "1": "Host language support for XML: PRESERVE WHITESPACE option",
                                    "2": "NULL",
                                    "3": "NULL",
                                    "4": "NO",
                                    "5": "NULL",
                                    "6": "NULL"
                                },
                                {
                                    "0": "X120",
                                    "1": "XML parameters in SQL routines",
                                    "2": "NULL",
                                    "3": "NULL",
                                    "4": "YES",
                                    "5": "NULL",
                                    "6": "NULL"
                                },
                                {
                                    "0": "X121",
                                    "1": "XML parameters in external routines",
                                    "2": "NULL",
                                    "3": "NULL",
                                    "4": "YES",
                                    "5": "NULL",
                                    "6": "NULL"
                                },
                                {
                                    "0": "X131",
                                    "1": "Query-level XMLBINARY clause",
                                    "2": "NULL",
                                    "3": "NULL",
                                    "4": "NO",
                                    "5": "NULL",
                                    "6": "NULL"
                                },
                                {
                                    "0": "X132",
                                    "1": "XMLBINARY clause in DML",
                                    "2": "NULL",
                                    "3": "NULL",
                                    "4": "NO",
                                    "5": "NULL",
                                    "6": "NULL"
                                },
                                {
                                    "0": "X133",
                                    "1": "XMLBINARY clause in DDL",
                                    "2": "NULL",
                                    "3": "NULL",
                                    "4": "NO",
                                    "5": "NULL",
                                    "6": "NULL"
                                },
                                {
                                    "0": "X134",
                                    "1": "XMLBINARY clause in compound statements",
                                    "2": "NULL",
                                    "3": "NULL",
                                    "4": "NO",
                                    "5": "NULL",
                                    "6": "NULL"
                                },
                                {
                                    "0": "X135",
                                    "1": "XMLBINARY clause in subqueries",
                                    "2": "NULL",
                                    "3": "NULL",
                                    "4": "NO",
                                    "5": "NULL",
                                    "6": "NULL"
                                },
                                {
                                    "0": "X141",
                                    "1": "IS VALID predicate: data-driven case",
                                    "2": "NULL",
                                    "3": "NULL",
                                    "4": "NO",
                                    "5": "NULL",
                                    "6": "NULL"
                                },
                                {
                                    "0": "X142",
                                    "1": "IS VALID predicate: ACCORDING TO clause",
                                    "2": "NULL",
                                    "3": "NULL",
                                    "4": "NO",
                                    "5": "NULL",
                                    "6": "NULL"
                                },
                                {
                                    "0": "X143",
                                    "1": "IS VALID predicate: ELEMENT clause",
                                    "2": "NULL",
                                    "3": "NULL",
                                    "4": "NO",
                                    "5": "NULL",
                                    "6": "NULL"
                                },
                                {
                                    "0": "X144",
                                    "1": "IS VALID predicate: schema location",
                                    "2": "NULL",
                                    "3": "NULL",
                                    "4": "NO",
                                    "5": "NULL",
                                    "6": "NULL"
                                },
                                {
                                    "0": "X145",
                                    "1": "IS VALID predicate outside check constraints",
                                    "2": "NULL",
                                    "3": "NULL",
                                    "4": "NO",
                                    "5": "NULL",
                                    "6": "NULL"
                                },
                                {
                                    "0": "X151",
                                    "1": "IS VALID predicate with DOCUMENT option",
                                    "2": "NULL",
                                    "3": "NULL",
                                    "4": "NO",
                                    "5": "NULL",
                                    "6": "NULL"
                                },
                                {
                                    "0": "X152",
                                    "1": "IS VALID predicate with CONTENT option",
                                    "2": "NULL",
                                    "3": "NULL",
                                    "4": "NO",
                                    "5": "NULL",
                                    "6": "NULL"
                                },
                                {
                                    "0": "X153",
                                    "1": "IS VALID predicate with SEQUENCE option",
                                    "2": "NULL",
                                    "3": "NULL",
                                    "4": "NO",
                                    "5": "NULL",
                                    "6": "NULL"
                                },
                                {
                                    "0": "X155",
                                    "1": "IS VALID predicate: NAMESPACE without ELEMENT clause",
                                    "2": "NULL",
                                    "3": "NULL",
                                    "4": "NO",
                                    "5": "NULL",
                                    "6": "NULL"
                                },
                                {
                                    "0": "X157",
                                    "1": "IS VALID predicate: NO NAMESPACE with ELEMENT clause",
                                    "2": "NULL",
                                    "3": "NULL",
                                    "4": "NO",
                                    "5": "NULL",
                                    "6": "NULL"
                                },
                                {
                                    "0": "X160",
                                    "1": "Basic Information Schema for registered XML Schemas",
                                    "2": "NULL",
                                    "3": "NULL",
                                    "4": "NO",
                                    "5": "NULL",
                                    "6": "NULL"
                                },
                                {
                                    "0": "X161",
                                    "1": "Advanced Information Schema for registered XML Schemas",
                                    "2": "NULL",
                                    "3": "NULL",
                                    "4": "NO",
                                    "5": "NULL",
                                    "6": "NULL"
                                },
                                {
                                    "0": "X170",
                                    "1": "XML null handling options",
                                    "2": "NULL",
                                    "3": "NULL",
                                    "4": "NO",
                                    "5": "NULL",
                                    "6": "NULL"
                                },
                                {
                                    "0": "X171",
                                    "1": "NIL ON NO CONTENT option",
                                    "2": "NULL",
                                    "3": "NULL",
                                    "4": "NO",
                                    "5": "NULL",
                                    "6": "NULL"
                                },
                                {
                                    "0": "X181",
                                    "1": "XML(DOCUMENT(UNTYPED)) type",
                                    "2": "NULL",
                                    "3": "NULL",
                                    "4": "NO",
                                    "5": "NULL",
                                    "6": "NULL"
                                },
                                {
                                    "0": "X182",
                                    "1": "XML(DOCUMENT(ANY)) type",
                                    "2": "NULL",
                                    "3": "NULL",
                                    "4": "NO",
                                    "5": "NULL",
                                    "6": "NULL"
                                },
                                {
                                    "0": "X190",
                                    "1": "XML(SEQUENCE) type",
                                    "2": "NULL",
                                    "3": "NULL",
                                    "4": "NO",
                                    "5": "NULL",
                                    "6": "NULL"
                                },
                                {
                                    "0": "X191",
                                    "1": "XML(DOCUMENT(XMLSCHEMA)) type",
                                    "2": "NULL",
                                    "3": "NULL",
                                    "4": "NO",
                                    "5": "NULL",
                                    "6": "NULL"
                                },
                                {
                                    "0": "X192",
                                    "1": "XML(CONTENT(XMLSCHEMA)) type",
                                    "2": "NULL",
                                    "3": "NULL",
                                    "4": "NO",
                                    "5": "NULL",
                                    "6": "NULL"
                                },
                                {
                                    "0": "X200",
                                    "1": "XMLQuery",
                                    "2": "NULL",
                                    "3": "NULL",
                                    "4": "NO",
                                    "5": "NULL",
                                    "6": "NULL"
                                },
                                {
                                    "0": "X201",
                                    "1": "XMLQuery: RETURNING CONTENT",
                                    "2": "NULL",
                                    "3": "NULL",
                                    "4": "NO",
                                    "5": "NULL",
                                    "6": "NULL"
                                },
                                {
                                    "0": "X202",
                                    "1": "XMLQuery: RETURNING SEQUENCE",
                                    "2": "NULL",
                                    "3": "NULL",
                                    "4": "NO",
                                    "5": "NULL",
                                    "6": "NULL"
                                },
                                {
                                    "0": "X203",
                                    "1": "XMLQuery: passing a context item",
                                    "2": "NULL",
                                    "3": "NULL",
                                    "4": "NO",
                                    "5": "NULL",
                                    "6": "NULL"
                                },
                                {
                                    "0": "X204",
                                    "1": "XMLQuery: initializing an XQuery variable",
                                    "2": "NULL",
                                    "3": "NULL",
                                    "4": "NO",
                                    "5": "NULL",
                                    "6": "NULL"
                                },
                                {
                                    "0": "X205",
                                    "1": "XMLQuery: EMPTY ON EMPTY option",
                                    "2": "NULL",
                                    "3": "NULL",
                                    "4": "NO",
                                    "5": "NULL",
                                    "6": "NULL"
                                },
                                {
                                    "0": "X206",
                                    "1": "XMLQuery: NULL ON EMPTY option",
                                    "2": "NULL",
                                    "3": "NULL",
                                    "4": "NO",
                                    "5": "NULL",
                                    "6": "NULL"
                                },
                                {
                                    "0": "X211",
                                    "1": "XML 1.1 support",
                                    "2": "NULL",
                                    "3": "NULL",
                                    "4": "NO",
                                    "5": "NULL",
                                    "6": "NULL"
                                },
                                {
                                    "0": "X221",
                                    "1": "XML passing mechanism BY VALUE",
                                    "2": "NULL",
                                    "3": "NULL",
                                    "4": "YES",
                                    "5": "NULL",
                                    "6": "NULL"
                                },
                                {
                                    "0": "X222",
                                    "1": "XML passing mechanism BY REF",
                                    "2": "NULL",
                                    "3": "NULL",
                                    "4": "NO",
                                    "5": "NULL",
                                    "6": "parser accepts BY REF but ignores it; passing is always BY VALUE"
                                },
                                {
                                    "0": "X231",
                                    "1": "XML(CONTENT(UNTYPED)) type",
                                    "2": "NULL",
                                    "3": "NULL",
                                    "4": "NO",
                                    "5": "NULL",
                                    "6": "NULL"
                                },
                                {
                                    "0": "X232",
                                    "1": "XML(CONTENT(ANY)) type",
                                    "2": "NULL",
                                    "3": "NULL",
                                    "4": "NO",
                                    "5": "NULL",
                                    "6": "NULL"
                                },
                                {
                                    "0": "X241",
                                    "1": "RETURNING CONTENT in XML publishing",
                                    "2": "NULL",
                                    "3": "NULL",
                                    "4": "NO",
                                    "5": "NULL",
                                    "6": "NULL"
                                },
                                {
                                    "0": "X242",
                                    "1": "RETURNING SEQUENCE in XML publishing",
                                    "2": "NULL",
                                    "3": "NULL",
                                    "4": "NO",
                                    "5": "NULL",
                                    "6": "NULL"
                                },
                                {
                                    "0": "X251",
                                    "1": "Persistent XML values of XML(DOCUMENT(UNTYPED)) type",
                                    "2": "NULL",
                                    "3": "NULL",
                                    "4": "NO",
                                    "5": "NULL",
                                    "6": "NULL"
                                },
                                {
                                    "0": "X252",
                                    "1": "Persistent XML values of XML(DOCUMENT(ANY)) type",
                                    "2": "NULL",
                                    "3": "NULL",
                                    "4": "NO",
                                    "5": "NULL",
                                    "6": "NULL"
                                },
                                {
                                    "0": "X253",
                                    "1": "Persistent XML values of XML(CONTENT(UNTYPED)) type",
                                    "2": "NULL",
                                    "3": "NULL",
                                    "4": "NO",
                                    "5": "NULL",
                                    "6": "NULL"
                                },
                                {
                                    "0": "X254",
                                    "1": "Persistent XML values of XML(CONTENT(ANY)) type",
                                    "2": "NULL",
                                    "3": "NULL",
                                    "4": "NO",
                                    "5": "NULL",
                                    "6": "NULL"
                                },
                                {
                                    "0": "X255",
                                    "1": "Persistent XML values of XML(SEQUENCE) type",
                                    "2": "NULL",
                                    "3": "NULL",
                                    "4": "NO",
                                    "5": "NULL",
                                    "6": "NULL"
                                },
                                {
                                    "0": "X256",
                                    "1": "Persistent XML values of XML(DOCUMENT(XMLSCHEMA)) type",
                                    "2": "NULL",
                                    "3": "NULL",
                                    "4": "NO",
                                    "5": "NULL",
                                    "6": "NULL"
                                },
                                {
                                    "0": "X257",
                                    "1": "Persistent XML values of XML(CONTENT(XMLSCHEMA)) type",
                                    "2": "NULL",
                                    "3": "NULL",
                                    "4": "NO",
                                    "5": "NULL",
                                    "6": "NULL"
                                },
                                {
                                    "0": "X260",
                                    "1": "XML type: ELEMENT clause",
                                    "2": "NULL",
                                    "3": "NULL",
                                    "4": "NO",
                                    "5": "NULL",
                                    "6": "NULL"
                                },
                                {
                                    "0": "X261",
                                    "1": "XML type: NAMESPACE without ELEMENT clause",
                                    "2": "NULL",
                                    "3": "NULL",
                                    "4": "NO",
                                    "5": "NULL",
                                    "6": "NULL"
                                },
                                {
                                    "0": "X263",
                                    "1": "XML type: NO NAMESPACE with ELEMENT clause",
                                    "2": "NULL",
                                    "3": "NULL",
                                    "4": "NO",
                                    "5": "NULL",
                                    "6": "NULL"
                                },
                                {
                                    "0": "X264",
                                    "1": "XML type: schema location",
                                    "2": "NULL",
                                    "3": "NULL",
                                    "4": "NO",
                                    "5": "NULL",
                                    "6": "NULL"
                                },
                                {
                                    "0": "X271",
                                    "1": "XMLValidate: data-driven case",
                                    "2": "NULL",
                                    "3": "NULL",
                                    "4": "NO",
                                    "5": "NULL",
                                    "6": "NULL"
                                },
                                {
                                    "0": "X272",
                                    "1": "XMLValidate: ACCORDING TO clause",
                                    "2": "NULL",
                                    "3": "NULL",
                                    "4": "NO",
                                    "5": "NULL",
                                    "6": "NULL"
                                },
                                {
                                    "0": "X273",
                                    "1": "XMLValidate: ELEMENT clause",
                                    "2": "NULL",
                                    "3": "NULL",
                                    "4": "NO",
                                    "5": "NULL",
                                    "6": "NULL"
                                },
                                {
                                    "0": "X274",
                                    "1": "XMLValidate: schema location",
                                    "2": "NULL",
                                    "3": "NULL",
                                    "4": "NO",
                                    "5": "NULL",
                                    "6": "NULL"
                                },
                                {
                                    "0": "X281",
                                    "1": "XMLValidate with DOCUMENT option",
                                    "2": "NULL",
                                    "3": "NULL",
                                    "4": "NO",
                                    "5": "NULL",
                                    "6": "NULL"
                                },
                                {
                                    "0": "X282",
                                    "1": "XMLValidate with CONTENT option",
                                    "2": "NULL",
                                    "3": "NULL",
                                    "4": "NO",
                                    "5": "NULL",
                                    "6": "NULL"
                                },
                                {
                                    "0": "X283",
                                    "1": "XMLValidate with SEQUENCE option",
                                    "2": "NULL",
                                    "3": "NULL",
                                    "4": "NO",
                                    "5": "NULL",
                                    "6": "NULL"
                                },
                                {
                                    "0": "X284",
                                    "1": "XMLValidate: NAMESPACE without ELEMENT clause",
                                    "2": "NULL",
                                    "3": "NULL",
                                    "4": "NO",
                                    "5": "NULL",
                                    "6": "NULL"
                                },
                                {
                                    "0": "X286",
                                    "1": "XMLValidate: NO NAMESPACE with ELEMENT clause",
                                    "2": "NULL",
                                    "3": "NULL",
                                    "4": "NO",
                                    "5": "NULL",
                                    "6": "NULL"
                                },
                                {
                                    "0": "X300",
                                    "1": "XMLTable",
                                    "2": "NULL",
                                    "3": "NULL",
                                    "4": "NO",
                                    "5": "NULL",
                                    "6": "XPath 1.0 only"
                                },
                                {
                                    "0": "X301",
                                    "1": "XMLTable: derived column list option",
                                    "2": "NULL",
                                    "3": "NULL",
                                    "4": "YES",
                                    "5": "NULL",
                                    "6": "NULL"
                                },
                                {
                                    "0": "X302",
                                    "1": "XMLTable: ordinality column option",
                                    "2": "NULL",
                                    "3": "NULL",
                                    "4": "YES",
                                    "5": "NULL",
                                    "6": "NULL"
                                },
                                {
                                    "0": "X303",
                                    "1": "XMLTable: column default option",
                                    "2": "NULL",
                                    "3": "NULL",
                                    "4": "YES",
                                    "5": "NULL",
                                    "6": "NULL"
                                },
                                {
                                    "0": "X304",
                                    "1": "XMLTable: passing a context item",
                                    "2": "NULL",
                                    "3": "NULL",
                                    "4": "YES",
                                    "5": "NULL",
                                    "6": "must be XML DOCUMENT"
                                },
                                {
                                    "0": "X305",
                                    "1": "XMLTable: initializing an XQuery variable",
                                    "2": "NULL",
                                    "3": "NULL",
                                    "4": "NO",
                                    "5": "NULL",
                                    "6": "NULL"
                                },
                                {
                                    "0": "X400",
                                    "1": "Name and identifier mapping",
                                    "2": "NULL",
                                    "3": "NULL",
                                    "4": "YES",
                                    "5": "NULL",
                                    "6": "NULL"
                                },
                                {
                                    "0": "X410",
                                    "1": "Alter column data type: XML type",
                                    "2": "NULL",
                                    "3": "NULL",
                                    "4": "YES",
                                    "5": "NULL",
                                    "6": "NULL"
                                }
                            ]
                        },
                        "text/html": [
                            "<table>",
                            "<tr><th>feature_id</th><th>feature_name</th><th>sub_feature_id</th><th>sub_feature_name</th><th>is_supported</th><th>is_verified_by</th><th>comments</th></tr>",
                            "<tr><td>B011</td><td>Embedded Ada</td><td>NULL</td><td>NULL</td><td>NO</td><td>NULL</td><td>NULL</td></tr>",
                            "<tr><td>B012</td><td>Embedded C</td><td>NULL</td><td>NULL</td><td>YES</td><td>NULL</td><td>NULL</td></tr>",
                            "<tr><td>B013</td><td>Embedded COBOL</td><td>NULL</td><td>NULL</td><td>NO</td><td>NULL</td><td>NULL</td></tr>",
                            "<tr><td>B014</td><td>Embedded Fortran</td><td>NULL</td><td>NULL</td><td>NO</td><td>NULL</td><td>NULL</td></tr>",
                            "<tr><td>B015</td><td>Embedded MUMPS</td><td>NULL</td><td>NULL</td><td>NO</td><td>NULL</td><td>NULL</td></tr>",
                            "<tr><td>B016</td><td>Embedded Pascal</td><td>NULL</td><td>NULL</td><td>NO</td><td>NULL</td><td>NULL</td></tr>",
                            "<tr><td>B017</td><td>Embedded PL/I</td><td>NULL</td><td>NULL</td><td>NO</td><td>NULL</td><td>NULL</td></tr>",
                            "<tr><td>B021</td><td>Direct SQL</td><td>NULL</td><td>NULL</td><td>YES</td><td>NULL</td><td>NULL</td></tr>",
                            "<tr><td>B031</td><td>Basic dynamic SQL</td><td>NULL</td><td>NULL</td><td>NO</td><td>NULL</td><td>NULL</td></tr>",
                            "<tr><td>B032</td><td>Extended dynamic SQL</td><td>NULL</td><td>NULL</td><td>NO</td><td>NULL</td><td>NULL</td></tr>",
                            "<tr><td>B032</td><td>Extended dynamic SQL</td><td>01</td><td>&lt;describe input statement&gt;</td><td>NO</td><td>NULL</td><td>NULL</td></tr>",
                            "<tr><td>B033</td><td>Untyped SQL-invoked function arguments</td><td>NULL</td><td>NULL</td><td>NO</td><td>NULL</td><td>NULL</td></tr>",
                            "<tr><td>B034</td><td>Dynamic specification of cursor attributes</td><td>NULL</td><td>NULL</td><td>NO</td><td>NULL</td><td>NULL</td></tr>",
                            "<tr><td>B035</td><td>Non-extended descriptor names</td><td>NULL</td><td>NULL</td><td>NO</td><td>NULL</td><td>NULL</td></tr>",
                            "<tr><td>B041</td><td>Extensions to embedded SQL exception declarations</td><td>NULL</td><td>NULL</td><td>NO</td><td>NULL</td><td>NULL</td></tr>",
                            "<tr><td>B051</td><td>Enhanced execution rights</td><td>NULL</td><td>NULL</td><td>NO</td><td>NULL</td><td>NULL</td></tr>",
                            "<tr><td>B111</td><td>Module language Ada</td><td>NULL</td><td>NULL</td><td>NO</td><td>NULL</td><td>NULL</td></tr>",
                            "<tr><td>B112</td><td>Module language C</td><td>NULL</td><td>NULL</td><td>NO</td><td>NULL</td><td>NULL</td></tr>",
                            "<tr><td>B113</td><td>Module language COBOL</td><td>NULL</td><td>NULL</td><td>NO</td><td>NULL</td><td>NULL</td></tr>",
                            "<tr><td>B114</td><td>Module language Fortran</td><td>NULL</td><td>NULL</td><td>NO</td><td>NULL</td><td>NULL</td></tr>",
                            "<tr><td>B115</td><td>Module language MUMPS</td><td>NULL</td><td>NULL</td><td>NO</td><td>NULL</td><td>NULL</td></tr>",
                            "<tr><td>B116</td><td>Module language Pascal</td><td>NULL</td><td>NULL</td><td>NO</td><td>NULL</td><td>NULL</td></tr>",
                            "<tr><td>B117</td><td>Module language PL/I</td><td>NULL</td><td>NULL</td><td>NO</td><td>NULL</td><td>NULL</td></tr>",
                            "<tr><td>B121</td><td>Routine language Ada</td><td>NULL</td><td>NULL</td><td>NO</td><td>NULL</td><td>NULL</td></tr>",
                            "<tr><td>B122</td><td>Routine language C</td><td>NULL</td><td>NULL</td><td>NO</td><td>NULL</td><td>NULL</td></tr>",
                            "<tr><td>B123</td><td>Routine language COBOL</td><td>NULL</td><td>NULL</td><td>NO</td><td>NULL</td><td>NULL</td></tr>",
                            "<tr><td>B124</td><td>Routine language Fortran</td><td>NULL</td><td>NULL</td><td>NO</td><td>NULL</td><td>NULL</td></tr>",
                            "<tr><td>B125</td><td>Routine language MUMPS</td><td>NULL</td><td>NULL</td><td>NO</td><td>NULL</td><td>NULL</td></tr>",
                            "<tr><td>B126</td><td>Routine language Pascal</td><td>NULL</td><td>NULL</td><td>NO</td><td>NULL</td><td>NULL</td></tr>",
                            "<tr><td>B127</td><td>Routine language PL/I</td><td>NULL</td><td>NULL</td><td>NO</td><td>NULL</td><td>NULL</td></tr>",
                            "<tr><td>B128</td><td>Routine language SQL</td><td>NULL</td><td>NULL</td><td>NO</td><td>NULL</td><td>NULL</td></tr>",
                            "<tr><td>B200</td><td>Polymorphic table functions</td><td>NULL</td><td>NULL</td><td>NO</td><td>NULL</td><td>NULL</td></tr>",
                            "<tr><td>B201</td><td>More than one PTF generic table parameter</td><td>NULL</td><td>NULL</td><td>NO</td><td>NULL</td><td>NULL</td></tr>",
                            "<tr><td>B202</td><td>PTF Copartitioning</td><td>NULL</td><td>NULL</td><td>NO</td><td>NULL</td><td>NULL</td></tr>",
                            "<tr><td>B203</td><td>More than one copartition specification</td><td>NULL</td><td>NULL</td><td>NO</td><td>NULL</td><td>NULL</td></tr>",
                            "<tr><td>B204</td><td>PRUNE WHEN EMPTY</td><td>NULL</td><td>NULL</td><td>NO</td><td>NULL</td><td>NULL</td></tr>",
                            "<tr><td>B205</td><td>Pass-through columns</td><td>NULL</td><td>NULL</td><td>NO</td><td>NULL</td><td>NULL</td></tr>",
                            "<tr><td>B206</td><td>PTF descriptor parameters</td><td>NULL</td><td>NULL</td><td>NO</td><td>NULL</td><td>NULL</td></tr>",
                            "<tr><td>B207</td><td>Cross products of partitionings</td><td>NULL</td><td>NULL</td><td>NO</td><td>NULL</td><td>NULL</td></tr>",
                            "<tr><td>B208</td><td>PTF component procedure interface</td><td>NULL</td><td>NULL</td><td>NO</td><td>NULL</td><td>NULL</td></tr>",
                            "<tr><td>B209</td><td>PTF extended names</td><td>NULL</td><td>NULL</td><td>NO</td><td>NULL</td><td>NULL</td></tr>",
                            "<tr><td>B211</td><td>Module language Ada: VARCHAR and NUMERIC support</td><td>NULL</td><td>NULL</td><td>NO</td><td>NULL</td><td>NULL</td></tr>",
                            "<tr><td>B221</td><td>Routine language Ada: VARCHAR and NUMERIC support</td><td>NULL</td><td>NULL</td><td>NO</td><td>NULL</td><td>NULL</td></tr>",
                            "<tr><td>E011</td><td>Numeric data types</td><td>NULL</td><td>NULL</td><td>YES</td><td>NULL</td><td>NULL</td></tr>",
                            "<tr><td>E011</td><td>Numeric data types</td><td>01</td><td>INTEGER and SMALLINT data types</td><td>YES</td><td>NULL</td><td>NULL</td></tr>",
                            "<tr><td>E011</td><td>Numeric data types</td><td>02</td><td>REAL, DOUBLE PRECISION, and FLOAT data types</td><td>YES</td><td>NULL</td><td>NULL</td></tr>",
                            "<tr><td>E011</td><td>Numeric data types</td><td>03</td><td>DECIMAL and NUMERIC data types</td><td>YES</td><td>NULL</td><td>NULL</td></tr>",
                            "<tr><td>E011</td><td>Numeric data types</td><td>04</td><td>Arithmetic operators</td><td>YES</td><td>NULL</td><td>NULL</td></tr>",
                            "<tr><td>E011</td><td>Numeric data types</td><td>05</td><td>Numeric comparison</td><td>YES</td><td>NULL</td><td>NULL</td></tr>",
                            "<tr><td>E011</td><td>Numeric data types</td><td>06</td><td>Implicit casting among the numeric data types</td><td>YES</td><td>NULL</td><td>NULL</td></tr>",
                            "<tr><td>E021</td><td>Character data types</td><td>NULL</td><td>NULL</td><td>YES</td><td>NULL</td><td>NULL</td></tr>",
                            "<tr><td>E021</td><td>Character string types</td><td>01</td><td>CHARACTER data type</td><td>YES</td><td>NULL</td><td>NULL</td></tr>",
                            "<tr><td>E021</td><td>Character string types</td><td>02</td><td>CHARACTER VARYING data type</td><td>YES</td><td>NULL</td><td>NULL</td></tr>",
                            "<tr><td>E021</td><td>Character string types</td><td>03</td><td>Character literals</td><td>YES</td><td>NULL</td><td>NULL</td></tr>",
                            "<tr><td>E021</td><td>Character string types</td><td>04</td><td>CHARACTER_LENGTH function</td><td>YES</td><td>NULL</td><td>trims trailing spaces from CHARACTER values before counting</td></tr>",
                            "<tr><td>E021</td><td>Character string types</td><td>05</td><td>OCTET_LENGTH function</td><td>YES</td><td>NULL</td><td>NULL</td></tr>",
                            "<tr><td>E021</td><td>Character string types</td><td>06</td><td>SUBSTRING function</td><td>YES</td><td>NULL</td><td>NULL</td></tr>",
                            "<tr><td>E021</td><td>Character string types</td><td>07</td><td>Character concatenation</td><td>YES</td><td>NULL</td><td>NULL</td></tr>",
                            "<tr><td>E021</td><td>Character string types</td><td>08</td><td>UPPER and LOWER functions</td><td>YES</td><td>NULL</td><td>NULL</td></tr>",
                            "<tr><td>E021</td><td>Character string types</td><td>09</td><td>TRIM function</td><td>YES</td><td>NULL</td><td>NULL</td></tr>",
                            "<tr><td>E021</td><td>Character string types</td><td>10</td><td>Implicit casting among the character string types</td><td>YES</td><td>NULL</td><td>NULL</td></tr>",
                            "<tr><td>E021</td><td>Character string types</td><td>11</td><td>POSITION function</td><td>YES</td><td>NULL</td><td>NULL</td></tr>",
                            "<tr><td>E021</td><td>Character string types</td><td>12</td><td>Character comparison</td><td>YES</td><td>NULL</td><td>NULL</td></tr>",
                            "<tr><td>E031</td><td>Identifiers</td><td>NULL</td><td>NULL</td><td>YES</td><td>NULL</td><td>NULL</td></tr>",
                            "<tr><td>E031</td><td>Identifiers</td><td>01</td><td>Delimited identifiers</td><td>YES</td><td>NULL</td><td>NULL</td></tr>",
                            "<tr><td>E031</td><td>Identifiers</td><td>02</td><td>Lower case identifiers</td><td>YES</td><td>NULL</td><td>NULL</td></tr>",
                            "<tr><td>E031</td><td>Identifiers</td><td>03</td><td>Trailing underscore</td><td>YES</td><td>NULL</td><td>NULL</td></tr>",
                            "<tr><td>E051</td><td>Basic query specification</td><td>NULL</td><td>NULL</td><td>YES</td><td>NULL</td><td>NULL</td></tr>",
                            "<tr><td>E051</td><td>Basic query specification</td><td>01</td><td>SELECT DISTINCT</td><td>YES</td><td>NULL</td><td>NULL</td></tr>",
                            "<tr><td>E051</td><td>Basic query specification</td><td>02</td><td>GROUP BY clause</td><td>YES</td><td>NULL</td><td>NULL</td></tr>",
                            "<tr><td>E051</td><td>Basic query specification</td><td>04</td><td>GROUP BY can contain columns not in &lt;select list&gt;</td><td>YES</td><td>NULL</td><td>NULL</td></tr>",
                            "<tr><td>E051</td><td>Basic query specification</td><td>05</td><td>Select list items can be renamed</td><td>YES</td><td>NULL</td><td>NULL</td></tr>",
                            "<tr><td>E051</td><td>Basic query specification</td><td>06</td><td>HAVING clause</td><td>YES</td><td>NULL</td><td>NULL</td></tr>",
                            "<tr><td>E051</td><td>Basic query specification</td><td>07</td><td>Qualified * in select list</td><td>YES</td><td>NULL</td><td>NULL</td></tr>",
                            "<tr><td>E051</td><td>Basic query specification</td><td>08</td><td>Correlation names in the FROM clause</td><td>YES</td><td>NULL</td><td>NULL</td></tr>",
                            "<tr><td>E051</td><td>Basic query specification</td><td>09</td><td>Rename columns in the FROM clause</td><td>YES</td><td>NULL</td><td>NULL</td></tr>",
                            "<tr><td>E061</td><td>Basic predicates and search conditions</td><td>NULL</td><td>NULL</td><td>YES</td><td>NULL</td><td>NULL</td></tr>",
                            "<tr><td>E061</td><td>Basic predicates and search conditions</td><td>01</td><td>Comparison predicate</td><td>YES</td><td>NULL</td><td>NULL</td></tr>",
                            "<tr><td>E061</td><td>Basic predicates and search conditions</td><td>02</td><td>BETWEEN predicate</td><td>YES</td><td>NULL</td><td>NULL</td></tr>",
                            "<tr><td>E061</td><td>Basic predicates and search conditions</td><td>03</td><td>IN predicate with list of values</td><td>YES</td><td>NULL</td><td>NULL</td></tr>",
                            "<tr><td>E061</td><td>Basic predicates and search conditions</td><td>04</td><td>LIKE predicate</td><td>YES</td><td>NULL</td><td>NULL</td></tr>",
                            "<tr><td>E061</td><td>Basic predicates and search conditions</td><td>05</td><td>LIKE predicate ESCAPE clause</td><td>YES</td><td>NULL</td><td>NULL</td></tr>",
                            "<tr><td>E061</td><td>Basic predicates and search conditions</td><td>06</td><td>NULL predicate</td><td>YES</td><td>NULL</td><td>NULL</td></tr>",
                            "<tr><td>E061</td><td>Basic predicates and search conditions</td><td>07</td><td>Quantified comparison predicate</td><td>YES</td><td>NULL</td><td>NULL</td></tr>",
                            "<tr><td>E061</td><td>Basic predicates and search conditions</td><td>08</td><td>EXISTS predicate</td><td>YES</td><td>NULL</td><td>NULL</td></tr>",
                            "<tr><td>E061</td><td>Basic predicates and search conditions</td><td>09</td><td>Subqueries in comparison predicate</td><td>YES</td><td>NULL</td><td>NULL</td></tr>",
                            "<tr><td>E061</td><td>Basic predicates and search conditions</td><td>11</td><td>Subqueries in IN predicate</td><td>YES</td><td>NULL</td><td>NULL</td></tr>",
                            "<tr><td>E061</td><td>Basic predicates and search conditions</td><td>12</td><td>Subqueries in quantified comparison predicate</td><td>YES</td><td>NULL</td><td>NULL</td></tr>",
                            "<tr><td>E061</td><td>Basic predicates and search conditions</td><td>13</td><td>Correlated subqueries</td><td>YES</td><td>NULL</td><td>NULL</td></tr>",
                            "<tr><td>E061</td><td>Basic predicates and search conditions</td><td>14</td><td>Search condition</td><td>YES</td><td>NULL</td><td>NULL</td></tr>",
                            "<tr><td>E071</td><td>Basic query expressions</td><td>NULL</td><td>NULL</td><td>YES</td><td>NULL</td><td>NULL</td></tr>",
                            "<tr><td>E071</td><td>Basic query expressions</td><td>01</td><td>UNION DISTINCT table operator</td><td>YES</td><td>NULL</td><td>NULL</td></tr>",
                            "<tr><td>E071</td><td>Basic query expressions</td><td>02</td><td>UNION ALL table operator</td><td>YES</td><td>NULL</td><td>NULL</td></tr>",
                            "<tr><td>E071</td><td>Basic query expressions</td><td>03</td><td>EXCEPT DISTINCT table operator</td><td>YES</td><td>NULL</td><td>NULL</td></tr>",
                            "<tr><td>E071</td><td>Basic query expressions</td><td>05</td><td>Columns combined via table operators need not have exactly the same data type</td><td>YES</td><td>NULL</td><td>NULL</td></tr>",
                            "<tr><td>E071</td><td>Basic query expressions</td><td>06</td><td>Table operators in subqueries</td><td>YES</td><td>NULL</td><td>NULL</td></tr>",
                            "<tr><td>E081</td><td>Basic Privileges</td><td>NULL</td><td>NULL</td><td>YES</td><td>NULL</td><td>NULL</td></tr>",
                            "<tr><td>E081</td><td>Basic Privileges</td><td>01</td><td>SELECT privilege</td><td>YES</td><td>NULL</td><td>NULL</td></tr>",
                            "<tr><td>E081</td><td>Basic Privileges</td><td>02</td><td>DELETE privilege</td><td>YES</td><td>NULL</td><td>NULL</td></tr>",
                            "<tr><td>E081</td><td>Basic Privileges</td><td>03</td><td>INSERT privilege at the table level</td><td>YES</td><td>NULL</td><td>NULL</td></tr>",
                            "<tr><td>E081</td><td>Basic Privileges</td><td>04</td><td>UPDATE privilege at the table level</td><td>YES</td><td>NULL</td><td>NULL</td></tr>",
                            "<tr><td>E081</td><td>Basic Privileges</td><td>05</td><td>UPDATE privilege at the column level</td><td>YES</td><td>NULL</td><td>NULL</td></tr>",
                            "<tr><td>E081</td><td>Basic Privileges</td><td>06</td><td>REFERENCES privilege at the table level</td><td>YES</td><td>NULL</td><td>NULL</td></tr>",
                            "<tr><td>E081</td><td>Basic Privileges</td><td>07</td><td>REFERENCES privilege at the column level</td><td>YES</td><td>NULL</td><td>NULL</td></tr>",
                            "<tr><td>E081</td><td>Basic Privileges</td><td>08</td><td>WITH GRANT OPTION</td><td>YES</td><td>NULL</td><td>NULL</td></tr>",
                            "<tr><td>E081</td><td>Basic Privileges</td><td>09</td><td>USAGE privilege</td><td>YES</td><td>NULL</td><td>NULL</td></tr>",
                            "<tr><td>E081</td><td>Basic Privileges</td><td>10</td><td>EXECUTE privilege</td><td>YES</td><td>NULL</td><td>NULL</td></tr>",
                            "<tr><td>E091</td><td>Set functions</td><td>NULL</td><td>NULL</td><td>YES</td><td>NULL</td><td>NULL</td></tr>",
                            "<tr><td>E091</td><td>Set functions</td><td>01</td><td>AVG</td><td>YES</td><td>NULL</td><td>NULL</td></tr>",
                            "<tr><td>E091</td><td>Set functions</td><td>02</td><td>COUNT</td><td>YES</td><td>NULL</td><td>NULL</td></tr>",
                            "<tr><td>E091</td><td>Set functions</td><td>03</td><td>MAX</td><td>YES</td><td>NULL</td><td>NULL</td></tr>",
                            "<tr><td>E091</td><td>Set functions</td><td>04</td><td>MIN</td><td>YES</td><td>NULL</td><td>NULL</td></tr>",
                            "<tr><td>E091</td><td>Set functions</td><td>05</td><td>SUM</td><td>YES</td><td>NULL</td><td>NULL</td></tr>",
                            "<tr><td>E091</td><td>Set functions</td><td>06</td><td>ALL quantifier</td><td>YES</td><td>NULL</td><td>NULL</td></tr>",
                            "<tr><td>E091</td><td>Set functions</td><td>07</td><td>DISTINCT quantifier</td><td>YES</td><td>NULL</td><td>NULL</td></tr>",
                            "<tr><td>E101</td><td>Basic data manipulation</td><td>NULL</td><td>NULL</td><td>YES</td><td>NULL</td><td>NULL</td></tr>",
                            "<tr><td>E101</td><td>Basic data manipulation</td><td>01</td><td>INSERT statement</td><td>YES</td><td>NULL</td><td>NULL</td></tr>",
                            "<tr><td>E101</td><td>Basic data manipulation</td><td>03</td><td>Searched UPDATE statement</td><td>YES</td><td>NULL</td><td>NULL</td></tr>",
                            "<tr><td>E101</td><td>Basic data manipulation</td><td>04</td><td>Searched DELETE statement</td><td>YES</td><td>NULL</td><td>NULL</td></tr>",
                            "<tr><td>E111</td><td>Single row SELECT statement</td><td>NULL</td><td>NULL</td><td>YES</td><td>NULL</td><td>NULL</td></tr>",
                            "<tr><td>E121</td><td>Basic cursor support</td><td>NULL</td><td>NULL</td><td>YES</td><td>NULL</td><td>NULL</td></tr>",
                            "<tr><td>E121</td><td>Basic cursor support</td><td>01</td><td>DECLARE CURSOR</td><td>YES</td><td>NULL</td><td>NULL</td></tr>",
                            "<tr><td>E121</td><td>Basic cursor support</td><td>02</td><td>ORDER BY columns need not be in select list</td><td>YES</td><td>NULL</td><td>NULL</td></tr>",
                            "<tr><td>E121</td><td>Basic cursor support</td><td>03</td><td>Value expressions in ORDER BY clause</td><td>YES</td><td>NULL</td><td>NULL</td></tr>",
                            "<tr><td>E121</td><td>Basic cursor support</td><td>04</td><td>OPEN statement</td><td>YES</td><td>NULL</td><td>NULL</td></tr>",
                            "<tr><td>E121</td><td>Basic cursor support</td><td>06</td><td>Positioned UPDATE statement</td><td>YES</td><td>NULL</td><td>NULL</td></tr>",
                            "<tr><td>E121</td><td>Basic cursor support</td><td>07</td><td>Positioned DELETE statement</td><td>YES</td><td>NULL</td><td>NULL</td></tr>",
                            "<tr><td>E121</td><td>Basic cursor support</td><td>08</td><td>CLOSE statement</td><td>YES</td><td>NULL</td><td>NULL</td></tr>",
                            "<tr><td>E121</td><td>Basic cursor support</td><td>10</td><td>FETCH statement implicit NEXT</td><td>YES</td><td>NULL</td><td>NULL</td></tr>",
                            "<tr><td>E121</td><td>Basic cursor support</td><td>17</td><td>WITH HOLD cursors</td><td>YES</td><td>NULL</td><td>NULL</td></tr>",
                            "<tr><td>E131</td><td>Null value support (nulls in lieu of values)</td><td>NULL</td><td>NULL</td><td>YES</td><td>NULL</td><td>NULL</td></tr>",
                            "<tr><td>E141</td><td>Basic integrity constraints</td><td>NULL</td><td>NULL</td><td>YES</td><td>NULL</td><td>NULL</td></tr>",
                            "<tr><td>E141</td><td>Basic integrity constraints</td><td>01</td><td>NOT NULL constraints</td><td>YES</td><td>NULL</td><td>NULL</td></tr>",
                            "<tr><td>E141</td><td>Basic integrity constraints</td><td>02</td><td>UNIQUE constraints of NOT NULL columns</td><td>YES</td><td>NULL</td><td>NULL</td></tr>",
                            "<tr><td>E141</td><td>Basic integrity constraints</td><td>03</td><td>PRIMARY KEY constraints</td><td>YES</td><td>NULL</td><td>NULL</td></tr>",
                            "<tr><td>E141</td><td>Basic integrity constraints</td><td>04</td><td>Basic FOREIGN KEY constraint with the NO ACTION default for both referential delete action and referential update action</td><td>YES</td><td>NULL</td><td>NULL</td></tr>",
                            "<tr><td>E141</td><td>Basic integrity constraints</td><td>06</td><td>CHECK constraints</td><td>YES</td><td>NULL</td><td>NULL</td></tr>",
                            "<tr><td>E141</td><td>Basic integrity constraints</td><td>07</td><td>Column defaults</td><td>YES</td><td>NULL</td><td>NULL</td></tr>",
                            "<tr><td>E141</td><td>Basic integrity constraints</td><td>08</td><td>NOT NULL inferred on PRIMARY KEY</td><td>YES</td><td>NULL</td><td>NULL</td></tr>",
                            "<tr><td>E141</td><td>Basic integrity constraints</td><td>10</td><td>Names in a foreign key can be specified in any order</td><td>YES</td><td>NULL</td><td>NULL</td></tr>",
                            "<tr><td>E151</td><td>Transaction support</td><td>NULL</td><td>NULL</td><td>YES</td><td>NULL</td><td>NULL</td></tr>",
                            "<tr><td>E151</td><td>Transaction support</td><td>01</td><td>COMMIT statement</td><td>YES</td><td>NULL</td><td>NULL</td></tr>",
                            "<tr><td>E151</td><td>Transaction support</td><td>02</td><td>ROLLBACK statement</td><td>YES</td><td>NULL</td><td>NULL</td></tr>",
                            "<tr><td>E152</td><td>Basic SET TRANSACTION statement</td><td>NULL</td><td>NULL</td><td>YES</td><td>NULL</td><td>NULL</td></tr>",
                            "<tr><td>E152</td><td>Basic SET TRANSACTION statement</td><td>01</td><td>SET TRANSACTION statement: ISOLATION LEVEL SERIALIZABLE clause</td><td>YES</td><td>NULL</td><td>NULL</td></tr>",
                            "<tr><td>E152</td><td>Basic SET TRANSACTION statement</td><td>02</td><td>SET TRANSACTION statement: READ ONLY and READ WRITE clauses</td><td>YES</td><td>NULL</td><td>NULL</td></tr>",
                            "<tr><td>E153</td><td>Updatable queries with subqueries</td><td>NULL</td><td>NULL</td><td>YES</td><td>NULL</td><td>NULL</td></tr>",
                            "<tr><td>E161</td><td>SQL comments using leading double minus</td><td>NULL</td><td>NULL</td><td>YES</td><td>NULL</td><td>NULL</td></tr>",
                            "<tr><td>E171</td><td>SQLSTATE support</td><td>NULL</td><td>NULL</td><td>YES</td><td>NULL</td><td>NULL</td></tr>",
                            "<tr><td>E182</td><td>Module language</td><td>NULL</td><td>NULL</td><td>NO</td><td>NULL</td><td>NULL</td></tr>",
                            "<tr><td>F021</td><td>Basic information schema</td><td>NULL</td><td>NULL</td><td>YES</td><td>NULL</td><td>NULL</td></tr>",
                            "<tr><td>F021</td><td>Basic information schema</td><td>01</td><td>COLUMNS view</td><td>YES</td><td>NULL</td><td>NULL</td></tr>",
                            "<tr><td>F021</td><td>Basic information schema</td><td>02</td><td>TABLES view</td><td>YES</td><td>NULL</td><td>NULL</td></tr>",
                            "<tr><td>F021</td><td>Basic information schema</td><td>03</td><td>VIEWS view</td><td>YES</td><td>NULL</td><td>NULL</td></tr>",
                            "<tr><td>F021</td><td>Basic information schema</td><td>04</td><td>TABLE_CONSTRAINTS view</td><td>YES</td><td>NULL</td><td>NULL</td></tr>",
                            "<tr><td>F021</td><td>Basic information schema</td><td>05</td><td>REFERENTIAL_CONSTRAINTS view</td><td>YES</td><td>NULL</td><td>NULL</td></tr>",
                            "<tr><td>F021</td><td>Basic information schema</td><td>06</td><td>CHECK_CONSTRAINTS view</td><td>YES</td><td>NULL</td><td>NULL</td></tr>",
                            "<tr><td>F031</td><td>Basic schema manipulation</td><td>NULL</td><td>NULL</td><td>YES</td><td>NULL</td><td>NULL</td></tr>",
                            "<tr><td>F031</td><td>Basic schema manipulation</td><td>01</td><td>CREATE TABLE statement to create persistent base tables</td><td>YES</td><td>NULL</td><td>NULL</td></tr>",
                            "<tr><td>F031</td><td>Basic schema manipulation</td><td>02</td><td>CREATE VIEW statement</td><td>YES</td><td>NULL</td><td>NULL</td></tr>",
                            "<tr><td>F031</td><td>Basic schema manipulation</td><td>03</td><td>GRANT statement</td><td>YES</td><td>NULL</td><td>NULL</td></tr>",
                            "<tr><td>F031</td><td>Basic schema manipulation</td><td>04</td><td>ALTER TABLE statement: ADD COLUMN clause</td><td>YES</td><td>NULL</td><td>NULL</td></tr>",
                            "<tr><td>F031</td><td>Basic schema manipulation</td><td>13</td><td>DROP TABLE statement: RESTRICT clause</td><td>YES</td><td>NULL</td><td>NULL</td></tr>",
                            "<tr><td>F031</td><td>Basic schema manipulation</td><td>16</td><td>DROP VIEW statement: RESTRICT clause</td><td>YES</td><td>NULL</td><td>NULL</td></tr>",
                            "<tr><td>F031</td><td>Basic schema manipulation</td><td>19</td><td>REVOKE statement: RESTRICT clause</td><td>YES</td><td>NULL</td><td>NULL</td></tr>",
                            "<tr><td>F032</td><td>CASCADE drop behavior</td><td>NULL</td><td>NULL</td><td>YES</td><td>NULL</td><td>NULL</td></tr>",
                            "<tr><td>F033</td><td>ALTER TABLE statement: DROP COLUMN clause</td><td>NULL</td><td>NULL</td><td>YES</td><td>NULL</td><td>NULL</td></tr>",
                            "<tr><td>F034</td><td>Extended REVOKE statement</td><td>NULL</td><td>NULL</td><td>YES</td><td>NULL</td><td>NULL</td></tr>",
                            "<tr><td>F034</td><td>Extended REVOKE statement</td><td>01</td><td>REVOKE statement performed by other than the owner of a schema object</td><td>YES</td><td>NULL</td><td>NULL</td></tr>",
                            "<tr><td>F034</td><td>Extended REVOKE statement</td><td>02</td><td>REVOKE statement: GRANT OPTION FOR clause</td><td>YES</td><td>NULL</td><td>NULL</td></tr>",
                            "<tr><td>F034</td><td>Extended REVOKE statement</td><td>03</td><td>REVOKE statement to revoke a privilege that the grantee has WITH GRANT OPTION</td><td>YES</td><td>NULL</td><td>NULL</td></tr>",
                            "<tr><td>F041</td><td>Basic joined table</td><td>NULL</td><td>NULL</td><td>YES</td><td>NULL</td><td>NULL</td></tr>",
                            "<tr><td>F041</td><td>Basic joined table</td><td>01</td><td>Inner join (but not necessarily the INNER keyword)</td><td>YES</td><td>NULL</td><td>NULL</td></tr>",
                            "<tr><td>F041</td><td>Basic joined table</td><td>02</td><td>INNER keyword</td><td>YES</td><td>NULL</td><td>NULL</td></tr>",
                            "<tr><td>F041</td><td>Basic joined table</td><td>03</td><td>LEFT OUTER JOIN</td><td>YES</td><td>NULL</td><td>NULL</td></tr>",
                            "<tr><td>F041</td><td>Basic joined table</td><td>04</td><td>RIGHT OUTER JOIN</td><td>YES</td><td>NULL</td><td>NULL</td></tr>",
                            "<tr><td>F041</td><td>Basic joined table</td><td>05</td><td>Outer joins can be nested</td><td>YES</td><td>NULL</td><td>NULL</td></tr>",
                            "<tr><td>F041</td><td>Basic joined table</td><td>07</td><td>The inner table in a left or right outer join can also be used in an inner join</td><td>YES</td><td>NULL</td><td>NULL</td></tr>",
                            "<tr><td>F041</td><td>Basic joined table</td><td>08</td><td>All comparison operators are supported (rather than just =)</td><td>YES</td><td>NULL</td><td>NULL</td></tr>",
                            "<tr><td>F051</td><td>Basic date and time</td><td>NULL</td><td>NULL</td><td>YES</td><td>NULL</td><td>NULL</td></tr>",
                            "<tr><td>F051</td><td>Basic date and time</td><td>01</td><td>DATE data type (including support of DATE literal)</td><td>YES</td><td>NULL</td><td>NULL</td></tr>",
                            "<tr><td>F051</td><td>Basic date and time</td><td>02</td><td>TIME data type (including support of TIME literal) with fractional seconds precision of at least 0</td><td>YES</td><td>NULL</td><td>NULL</td></tr>",
                            "<tr><td>F051</td><td>Basic date and time</td><td>03</td><td>TIMESTAMP data type (including support of TIMESTAMP literal) with fractional seconds precision of at least 0 and 6</td><td>YES</td><td>NULL</td><td>NULL</td></tr>",
                            "<tr><td>F051</td><td>Basic date and time</td><td>04</td><td>Comparison predicate on DATE, TIME, and TIMESTAMP data types</td><td>YES</td><td>NULL</td><td>NULL</td></tr>",
                            "<tr><td>F051</td><td>Basic date and time</td><td>05</td><td>Explicit CAST between datetime types and character string types</td><td>YES</td><td>NULL</td><td>NULL</td></tr>",
                            "<tr><td>F051</td><td>Basic date and time</td><td>06</td><td>CURRENT_DATE</td><td>YES</td><td>NULL</td><td>NULL</td></tr>",
                            "<tr><td>F051</td><td>Basic date and time</td><td>07</td><td>LOCALTIME</td><td>YES</td><td>NULL</td><td>NULL</td></tr>",
                            "<tr><td>F051</td><td>Basic date and time</td><td>08</td><td>LOCALTIMESTAMP</td><td>YES</td><td>NULL</td><td>NULL</td></tr>",
                            "<tr><td>F052</td><td>Intervals and datetime arithmetic</td><td>NULL</td><td>NULL</td><td>YES</td><td>NULL</td><td>NULL</td></tr>",
                            "<tr><td>F053</td><td>OVERLAPS predicate</td><td>NULL</td><td>NULL</td><td>YES</td><td>NULL</td><td>NULL</td></tr>",
                            "<tr><td>F054</td><td>TIMESTAMP in DATE type precedence list</td><td>NULL</td><td>NULL</td><td>NO</td><td>NULL</td><td>NULL</td></tr>",
                            "<tr><td>F081</td><td>UNION and EXCEPT in views</td><td>NULL</td><td>NULL</td><td>YES</td><td>NULL</td><td>NULL</td></tr>",
                            "<tr><td>F111</td><td>Isolation levels other than SERIALIZABLE</td><td>NULL</td><td>NULL</td><td>YES</td><td>NULL</td><td>NULL</td></tr>",
                            "<tr><td>F111</td><td>Isolation levels other than SERIALIZABLE</td><td>01</td><td>READ UNCOMMITTED isolation level</td><td>YES</td><td>NULL</td><td>NULL</td></tr>",
                            "<tr><td>F111</td><td>Isolation levels other than SERIALIZABLE</td><td>02</td><td>READ COMMITTED isolation level</td><td>YES</td><td>NULL</td><td>NULL</td></tr>",
                            "<tr><td>F111</td><td>Isolation levels other than SERIALIZABLE</td><td>03</td><td>REPEATABLE READ isolation level</td><td>YES</td><td>NULL</td><td>NULL</td></tr>",
                            "<tr><td>F121</td><td>Basic diagnostics management</td><td>NULL</td><td>NULL</td><td>NO</td><td>NULL</td><td>NULL</td></tr>",
                            "<tr><td>F121</td><td>Basic diagnostics management</td><td>01</td><td>GET DIAGNOSTICS statement</td><td>NO</td><td>NULL</td><td>NULL</td></tr>",
                            "<tr><td>F121</td><td>Basic diagnostics management</td><td>02</td><td>SET TRANSACTION statement: DIAGNOSTICS SIZE clause</td><td>NO</td><td>NULL</td><td>NULL</td></tr>",
                            "<tr><td>F122</td><td>Enhanced diagnostics management</td><td>NULL</td><td>NULL</td><td>NO</td><td>NULL</td><td>NULL</td></tr>",
                            "<tr><td>F123</td><td>All diagnostics</td><td>NULL</td><td>NULL</td><td>NO</td><td>NULL</td><td>NULL</td></tr>",
                            "<tr><td>F131</td><td>Grouped operations</td><td>NULL</td><td>NULL</td><td>YES</td><td>NULL</td><td>NULL</td></tr>",
                            "<tr><td>F131</td><td>Grouped operations</td><td>01</td><td>WHERE, GROUP BY, and HAVING clauses supported in queries with grouped views</td><td>YES</td><td>NULL</td><td>NULL</td></tr>",
                            "<tr><td>F131</td><td>Grouped operations</td><td>02</td><td>Multiple tables supported in queries with grouped views</td><td>YES</td><td>NULL</td><td>NULL</td></tr>",
                            "<tr><td>F131</td><td>Grouped operations</td><td>03</td><td>Set functions supported in queries with grouped views</td><td>YES</td><td>NULL</td><td>NULL</td></tr>",
                            "<tr><td>F131</td><td>Grouped operations</td><td>04</td><td>Subqueries with GROUP BY and HAVING clauses and grouped views</td><td>YES</td><td>NULL</td><td>NULL</td></tr>",
                            "<tr><td>F131</td><td>Grouped operations</td><td>05</td><td>Single row SELECT with GROUP BY and HAVING clauses and grouped views</td><td>YES</td><td>NULL</td><td>NULL</td></tr>",
                            "<tr><td>F171</td><td>Multiple schemas per user</td><td>NULL</td><td>NULL</td><td>YES</td><td>NULL</td><td>NULL</td></tr>",
                            "<tr><td>F181</td><td>Multiple module support</td><td>NULL</td><td>NULL</td><td>NO</td><td>NULL</td><td>NULL</td></tr>",
                            "<tr><td>F191</td><td>Referential delete actions</td><td>NULL</td><td>NULL</td><td>YES</td><td>NULL</td><td>NULL</td></tr>",
                            "<tr><td>F200</td><td>TRUNCATE TABLE statement</td><td>NULL</td><td>NULL</td><td>YES</td><td>NULL</td><td>NULL</td></tr>",
                            "<tr><td>F201</td><td>CAST function</td><td>NULL</td><td>NULL</td><td>YES</td><td>NULL</td><td>NULL</td></tr>",
                            "<tr><td>F202</td><td>TRUNCATE TABLE: identity column restart option</td><td>NULL</td><td>NULL</td><td>YES</td><td>NULL</td><td>NULL</td></tr>",
                            "<tr><td>F221</td><td>Explicit defaults</td><td>NULL</td><td>NULL</td><td>YES</td><td>NULL</td><td>NULL</td></tr>",
                            "<tr><td>F222</td><td>INSERT statement: DEFAULT VALUES clause</td><td>NULL</td><td>NULL</td><td>YES</td><td>NULL</td><td>NULL</td></tr>",
                            "<tr><td>F231</td><td>Privilege tables</td><td>NULL</td><td>NULL</td><td>YES</td><td>NULL</td><td>NULL</td></tr>",
                            "<tr><td>F231</td><td>Privilege tables</td><td>01</td><td>TABLE_PRIVILEGES view</td><td>YES</td><td>NULL</td><td>NULL</td></tr>",
                            "<tr><td>F231</td><td>Privilege tables</td><td>02</td><td>COLUMN_PRIVILEGES view</td><td>YES</td><td>NULL</td><td>NULL</td></tr>",
                            "<tr><td>F231</td><td>Privilege tables</td><td>03</td><td>USAGE_PRIVILEGES view</td><td>YES</td><td>NULL</td><td>NULL</td></tr>",
                            "<tr><td>F251</td><td>Domain support</td><td>NULL</td><td>NULL</td><td>YES</td><td>NULL</td><td>NULL</td></tr>",
                            "<tr><td>F261</td><td>CASE expression</td><td>NULL</td><td>NULL</td><td>YES</td><td>NULL</td><td>NULL</td></tr>",
                            "<tr><td>F261</td><td>CASE expression</td><td>01</td><td>Simple CASE</td><td>YES</td><td>NULL</td><td>NULL</td></tr>",
                            "<tr><td>F261</td><td>CASE expression</td><td>02</td><td>Searched CASE</td><td>YES</td><td>NULL</td><td>NULL</td></tr>",
                            "<tr><td>F261</td><td>CASE expression</td><td>03</td><td>NULLIF</td><td>YES</td><td>NULL</td><td>NULL</td></tr>",
                            "<tr><td>F261</td><td>CASE expression</td><td>04</td><td>COALESCE</td><td>YES</td><td>NULL</td><td>NULL</td></tr>",
                            "<tr><td>F262</td><td>Extended CASE expression</td><td>NULL</td><td>NULL</td><td>YES</td><td>NULL</td><td>NULL</td></tr>",
                            "<tr><td>F263</td><td>Comma-separated predicates in simple CASE expression</td><td>NULL</td><td>NULL</td><td>NO</td><td>NULL</td><td>NULL</td></tr>",
                            "<tr><td>F271</td><td>Compound character literals</td><td>NULL</td><td>NULL</td><td>YES</td><td>NULL</td><td>NULL</td></tr>",
                            "<tr><td>F281</td><td>LIKE enhancements</td><td>NULL</td><td>NULL</td><td>YES</td><td>NULL</td><td>NULL</td></tr>",
                            "<tr><td>F291</td><td>UNIQUE predicate</td><td>NULL</td><td>NULL</td><td>NO</td><td>NULL</td><td>NULL</td></tr>",
                            "<tr><td>F301</td><td>CORRESPONDING in query expressions</td><td>NULL</td><td>NULL</td><td>NO</td><td>NULL</td><td>NULL</td></tr>",
                            "<tr><td>F302</td><td>INTERSECT table operator</td><td>NULL</td><td>NULL</td><td>YES</td><td>NULL</td><td>NULL</td></tr>",
                            "<tr><td>F302</td><td>INTERSECT table operator</td><td>01</td><td>INTERSECT DISTINCT table operator</td><td>YES</td><td>NULL</td><td>NULL</td></tr>",
                            "<tr><td>F302</td><td>INTERSECT table operator</td><td>02</td><td>INTERSECT ALL table operator</td><td>YES</td><td>NULL</td><td>NULL</td></tr>",
                            "<tr><td>F304</td><td>EXCEPT ALL table operator</td><td>NULL</td><td>NULL</td><td>YES</td><td>NULL</td><td>NULL</td></tr>",
                            "<tr><td>F311</td><td>Schema definition statement</td><td>NULL</td><td>NULL</td><td>NO</td><td>NULL</td><td>NULL</td></tr>",
                            "<tr><td>F311</td><td>Schema definition statement</td><td>01</td><td>CREATE SCHEMA</td><td>YES</td><td>NULL</td><td>NULL</td></tr>",
                            "<tr><td>F311</td><td>Schema definition statement</td><td>02</td><td>CREATE TABLE for persistent base tables</td><td>YES</td><td>NULL</td><td>NULL</td></tr>",
                            "<tr><td>F311</td><td>Schema definition statement</td><td>03</td><td>CREATE VIEW</td><td>YES</td><td>NULL</td><td>NULL</td></tr>",
                            "<tr><td>F311</td><td>Schema definition statement</td><td>04</td><td>CREATE VIEW: WITH CHECK OPTION</td><td>YES</td><td>NULL</td><td>NULL</td></tr>",
                            "<tr><td>F311</td><td>Schema definition statement</td><td>05</td><td>GRANT statement</td><td>YES</td><td>NULL</td><td>NULL</td></tr>",
                            "<tr><td>F312</td><td>MERGE statement</td><td>NULL</td><td>NULL</td><td>NO</td><td>NULL</td><td>consider INSERT ... ON CONFLICT DO UPDATE</td></tr>",
                            "<tr><td>F313</td><td>Enhanced MERGE statement</td><td>NULL</td><td>NULL</td><td>NO</td><td>NULL</td><td>NULL</td></tr>",
                            "<tr><td>F314</td><td>MERGE statement with DELETE branch</td><td>NULL</td><td>NULL</td><td>NO</td><td>NULL</td><td>NULL</td></tr>",
                            "<tr><td>F321</td><td>User authorization</td><td>NULL</td><td>NULL</td><td>YES</td><td>NULL</td><td>NULL</td></tr>",
                            "<tr><td>F341</td><td>Usage tables</td><td>NULL</td><td>NULL</td><td>NO</td><td>NULL</td><td>no ROUTINE_*_USAGE tables</td></tr>",
                            "<tr><td>F361</td><td>Subprogram support</td><td>NULL</td><td>NULL</td><td>YES</td><td>NULL</td><td>NULL</td></tr>",
                            "<tr><td>F381</td><td>Extended schema manipulation</td><td>NULL</td><td>NULL</td><td>YES</td><td>NULL</td><td>NULL</td></tr>",
                            "<tr><td>F381</td><td>Extended schema manipulation</td><td>01</td><td>ALTER TABLE statement: ALTER COLUMN clause</td><td>YES</td><td>NULL</td><td>NULL</td></tr>",
                            "<tr><td>F381</td><td>Extended schema manipulation</td><td>02</td><td>ALTER TABLE statement: ADD CONSTRAINT clause</td><td>YES</td><td>NULL</td><td>NULL</td></tr>",
                            "<tr><td>F381</td><td>Extended schema manipulation</td><td>03</td><td>ALTER TABLE statement: DROP CONSTRAINT clause</td><td>YES</td><td>NULL</td><td>NULL</td></tr>",
                            "<tr><td>F382</td><td>Alter column data type</td><td>NULL</td><td>NULL</td><td>YES</td><td>NULL</td><td>NULL</td></tr>",
                            "<tr><td>F383</td><td>Set column not null clause</td><td>NULL</td><td>NULL</td><td>YES</td><td>NULL</td><td>NULL</td></tr>",
                            "<tr><td>F384</td><td>Drop identity property clause</td><td>NULL</td><td>NULL</td><td>YES</td><td>NULL</td><td>NULL</td></tr>",
                            "<tr><td>F385</td><td>Drop column generation expression clause</td><td>NULL</td><td>NULL</td><td>NO</td><td>NULL</td><td>NULL</td></tr>",
                            "<tr><td>F386</td><td>Set identity column generation clause</td><td>NULL</td><td>NULL</td><td>YES</td><td>NULL</td><td>NULL</td></tr>",
                            "<tr><td>F391</td><td>Long identifiers</td><td>NULL</td><td>NULL</td><td>YES</td><td>NULL</td><td>NULL</td></tr>",
                            "<tr><td>F392</td><td>Unicode escapes in identifiers</td><td>NULL</td><td>NULL</td><td>YES</td><td>NULL</td><td>NULL</td></tr>",
                            "<tr><td>F393</td><td>Unicode escapes in literals</td><td>NULL</td><td>NULL</td><td>YES</td><td>NULL</td><td>NULL</td></tr>",
                            "<tr><td>F394</td><td>Optional normal form specification</td><td>NULL</td><td>NULL</td><td>NO</td><td>NULL</td><td>NULL</td></tr>",
                            "<tr><td>F401</td><td>Extended joined table</td><td>NULL</td><td>NULL</td><td>YES</td><td>NULL</td><td>NULL</td></tr>",
                            "<tr><td>F401</td><td>Extended joined table</td><td>01</td><td>NATURAL JOIN</td><td>YES</td><td>NULL</td><td>NULL</td></tr>",
                            "<tr><td>F401</td><td>Extended joined table</td><td>02</td><td>FULL OUTER JOIN</td><td>YES</td><td>NULL</td><td>NULL</td></tr>",
                            "<tr><td>F401</td><td>Extended joined table</td><td>04</td><td>CROSS JOIN</td><td>YES</td><td>NULL</td><td>NULL</td></tr>",
                            "<tr><td>F402</td><td>Named column joins for LOBs, arrays, and multisets</td><td>NULL</td><td>NULL</td><td>YES</td><td>NULL</td><td>NULL</td></tr>",
                            "<tr><td>F403</td><td>Partitioned joined tables</td><td>NULL</td><td>NULL</td><td>NO</td><td>NULL</td><td>NULL</td></tr>",
                            "<tr><td>F404</td><td>Range variable for common column names</td><td>NULL</td><td>NULL</td><td>NO</td><td>NULL</td><td>NULL</td></tr>",
                            "<tr><td>F411</td><td>Time zone specification</td><td>NULL</td><td>NULL</td><td>YES</td><td>NULL</td><td>differences regarding literal interpretation</td></tr>",
                            "<tr><td>F421</td><td>National character</td><td>NULL</td><td>NULL</td><td>YES</td><td>NULL</td><td>NULL</td></tr>",
                            "<tr><td>F431</td><td>Read-only scrollable cursors</td><td>NULL</td><td>NULL</td><td>YES</td><td>NULL</td><td>NULL</td></tr>",
                            "<tr><td>F431</td><td>Read-only scrollable cursors</td><td>01</td><td>FETCH with explicit NEXT</td><td>YES</td><td>NULL</td><td>NULL</td></tr>",
                            "<tr><td>F431</td><td>Read-only scrollable cursors</td><td>02</td><td>FETCH FIRST</td><td>YES</td><td>NULL</td><td>NULL</td></tr>",
                            "<tr><td>F431</td><td>Read-only scrollable cursors</td><td>03</td><td>FETCH LAST</td><td>YES</td><td>NULL</td><td>NULL</td></tr>",
                            "<tr><td>F431</td><td>Read-only scrollable cursors</td><td>04</td><td>FETCH PRIOR</td><td>YES</td><td>NULL</td><td>NULL</td></tr>",
                            "<tr><td>F431</td><td>Read-only scrollable cursors</td><td>05</td><td>FETCH ABSOLUTE</td><td>YES</td><td>NULL</td><td>NULL</td></tr>",
                            "<tr><td>F431</td><td>Read-only scrollable cursors</td><td>06</td><td>FETCH RELATIVE</td><td>YES</td><td>NULL</td><td>NULL</td></tr>",
                            "<tr><td>F441</td><td>Extended set function support</td><td>NULL</td><td>NULL</td><td>YES</td><td>NULL</td><td>NULL</td></tr>",
                            "<tr><td>F442</td><td>Mixed column references in set functions</td><td>NULL</td><td>NULL</td><td>YES</td><td>NULL</td><td>NULL</td></tr>",
                            "<tr><td>F451</td><td>Character set definition</td><td>NULL</td><td>NULL</td><td>NO</td><td>NULL</td><td>NULL</td></tr>",
                            "<tr><td>F461</td><td>Named character sets</td><td>NULL</td><td>NULL</td><td>NO</td><td>NULL</td><td>NULL</td></tr>",
                            "<tr><td>F471</td><td>Scalar subquery values</td><td>NULL</td><td>NULL</td><td>YES</td><td>NULL</td><td>NULL</td></tr>",
                            "<tr><td>F481</td><td>Expanded NULL predicate</td><td>NULL</td><td>NULL</td><td>YES</td><td>NULL</td><td>NULL</td></tr>",
                            "<tr><td>F491</td><td>Constraint management</td><td>NULL</td><td>NULL</td><td>YES</td><td>NULL</td><td>NULL</td></tr>",
                            "<tr><td>F492</td><td>Optional table constraint enforcement</td><td>NULL</td><td>NULL</td><td>NO</td><td>NULL</td><td>NULL</td></tr>",
                            "<tr><td>F501</td><td>Features and conformance views</td><td>NULL</td><td>NULL</td><td>YES</td><td>NULL</td><td>NULL</td></tr>",
                            "<tr><td>F501</td><td>Features and conformance views</td><td>01</td><td>SQL_FEATURES view</td><td>YES</td><td>NULL</td><td>NULL</td></tr>",
                            "<tr><td>F501</td><td>Features and conformance views</td><td>02</td><td>SQL_SIZING view</td><td>YES</td><td>NULL</td><td>NULL</td></tr>",
                            "<tr><td>F501</td><td>Features and conformance views</td><td>03</td><td>SQL_LANGUAGES view</td><td>YES</td><td>NULL</td><td>NULL</td></tr>",
                            "<tr><td>F502</td><td>Enhanced documentation tables</td><td>NULL</td><td>NULL</td><td>YES</td><td>NULL</td><td>NULL</td></tr>",
                            "<tr><td>F502</td><td>Enhanced documentation tables</td><td>01</td><td>SQL_SIZING_PROFILES view</td><td>YES</td><td>NULL</td><td>NULL</td></tr>",
                            "<tr><td>F502</td><td>Enhanced documentation tables</td><td>02</td><td>SQL_IMPLEMENTATION_INFO view</td><td>YES</td><td>NULL</td><td>NULL</td></tr>",
                            "<tr><td>F502</td><td>Enhanced documentation tables</td><td>03</td><td>SQL_PACKAGES view</td><td>YES</td><td>NULL</td><td>NULL</td></tr>",
                            "<tr><td>F521</td><td>Assertions</td><td>NULL</td><td>NULL</td><td>NO</td><td>NULL</td><td>NULL</td></tr>",
                            "<tr><td>F531</td><td>Temporary tables</td><td>NULL</td><td>NULL</td><td>YES</td><td>NULL</td><td>NULL</td></tr>",
                            "<tr><td>F555</td><td>Enhanced seconds precision</td><td>NULL</td><td>NULL</td><td>YES</td><td>NULL</td><td>NULL</td></tr>",
                            "<tr><td>F561</td><td>Full value expressions</td><td>NULL</td><td>NULL</td><td>YES</td><td>NULL</td><td>NULL</td></tr>",
                            "<tr><td>F571</td><td>Truth value tests</td><td>NULL</td><td>NULL</td><td>YES</td><td>NULL</td><td>NULL</td></tr>",
                            "<tr><td>F591</td><td>Derived tables</td><td>NULL</td><td>NULL</td><td>YES</td><td>NULL</td><td>NULL</td></tr>",
                            "<tr><td>F611</td><td>Indicator data types</td><td>NULL</td><td>NULL</td><td>YES</td><td>NULL</td><td>NULL</td></tr>",
                            "<tr><td>F641</td><td>Row and table constructors</td><td>NULL</td><td>NULL</td><td>YES</td><td>NULL</td><td>NULL</td></tr>",
                            "<tr><td>F651</td><td>Catalog name qualifiers</td><td>NULL</td><td>NULL</td><td>YES</td><td>NULL</td><td>NULL</td></tr>",
                            "<tr><td>F661</td><td>Simple tables</td><td>NULL</td><td>NULL</td><td>YES</td><td>NULL</td><td>NULL</td></tr>",
                            "<tr><td>F671</td><td>Subqueries in CHECK</td><td>NULL</td><td>NULL</td><td>NO</td><td>NULL</td><td>intentionally omitted</td></tr>",
                            "<tr><td>F672</td><td>Retrospective check constraints</td><td>NULL</td><td>NULL</td><td>YES</td><td>NULL</td><td>NULL</td></tr>",
                            "<tr><td>F673</td><td>Reads SQL-data routine invocations in CHECK constraints</td><td>NULL</td><td>NULL</td><td>NO</td><td>NULL</td><td>NULL</td></tr>",
                            "<tr><td>F690</td><td>Collation support</td><td>NULL</td><td>NULL</td><td>YES</td><td>NULL</td><td>but no character set support</td></tr>",
                            "<tr><td>F692</td><td>Extended collation support</td><td>NULL</td><td>NULL</td><td>YES</td><td>NULL</td><td>NULL</td></tr>",
                            "<tr><td>F693</td><td>SQL-session and client module collations</td><td>NULL</td><td>NULL</td><td>NO</td><td>NULL</td><td>NULL</td></tr>",
                            "<tr><td>F695</td><td>Translation support</td><td>NULL</td><td>NULL</td><td>NO</td><td>NULL</td><td>NULL</td></tr>",
                            "<tr><td>F696</td><td>Additional translation documentation</td><td>NULL</td><td>NULL</td><td>NO</td><td>NULL</td><td>NULL</td></tr>",
                            "<tr><td>F701</td><td>Referential update actions</td><td>NULL</td><td>NULL</td><td>YES</td><td>NULL</td><td>NULL</td></tr>",
                            "<tr><td>F711</td><td>ALTER domain</td><td>NULL</td><td>NULL</td><td>YES</td><td>NULL</td><td>NULL</td></tr>",
                            "<tr><td>F721</td><td>Deferrable constraints</td><td>NULL</td><td>NULL</td><td>NO</td><td>NULL</td><td>foreign and unique keys only</td></tr>",
                            "<tr><td>F731</td><td>INSERT column privileges</td><td>NULL</td><td>NULL</td><td>YES</td><td>NULL</td><td>NULL</td></tr>",
                            "<tr><td>F741</td><td>Referential MATCH types</td><td>NULL</td><td>NULL</td><td>NO</td><td>NULL</td><td>no partial match yet</td></tr>",
                            "<tr><td>F751</td><td>View CHECK enhancements</td><td>NULL</td><td>NULL</td><td>YES</td><td>NULL</td><td>NULL</td></tr>",
                            "<tr><td>F761</td><td>Session management</td><td>NULL</td><td>NULL</td><td>YES</td><td>NULL</td><td>NULL</td></tr>",
                            "<tr><td>F762</td><td>CURRENT_CATALOG</td><td>NULL</td><td>NULL</td><td>YES</td><td>NULL</td><td>NULL</td></tr>",
                            "<tr><td>F763</td><td>CURRENT_SCHEMA</td><td>NULL</td><td>NULL</td><td>YES</td><td>NULL</td><td>NULL</td></tr>",
                            "<tr><td>F771</td><td>Connection management</td><td>NULL</td><td>NULL</td><td>YES</td><td>NULL</td><td>NULL</td></tr>",
                            "<tr><td>F781</td><td>Self-referencing operations</td><td>NULL</td><td>NULL</td><td>YES</td><td>NULL</td><td>NULL</td></tr>",
                            "<tr><td>F791</td><td>Insensitive cursors</td><td>NULL</td><td>NULL</td><td>YES</td><td>NULL</td><td>NULL</td></tr>",
                            "<tr><td>F801</td><td>Full set function</td><td>NULL</td><td>NULL</td><td>YES</td><td>NULL</td><td>NULL</td></tr>",
                            "<tr><td>F812</td><td>Basic flagging</td><td>NULL</td><td>NULL</td><td>NO</td><td>NULL</td><td>NULL</td></tr>",
                            "<tr><td>F813</td><td>Extended flagging</td><td>NULL</td><td>NULL</td><td>NO</td><td>NULL</td><td>NULL</td></tr>",
                            "<tr><td>F821</td><td>Local table references</td><td>NULL</td><td>NULL</td><td>NO</td><td>NULL</td><td>NULL</td></tr>",
                            "<tr><td>F831</td><td>Full cursor update</td><td>NULL</td><td>NULL</td><td>NO</td><td>NULL</td><td>NULL</td></tr>",
                            "<tr><td>F831</td><td>Full cursor update</td><td>01</td><td>Updatable scrollable cursors</td><td>NO</td><td>NULL</td><td>NULL</td></tr>",
                            "<tr><td>F831</td><td>Full cursor update</td><td>02</td><td>Updatable ordered cursors</td><td>NO</td><td>NULL</td><td>NULL</td></tr>",
                            "<tr><td>F841</td><td>LIKE_REGEX predicate</td><td>NULL</td><td>NULL</td><td>NO</td><td>NULL</td><td>NULL</td></tr>",
                            "<tr><td>F842</td><td>OCCURRENCES_REGEX function</td><td>NULL</td><td>NULL</td><td>NO</td><td>NULL</td><td>NULL</td></tr>",
                            "<tr><td>F843</td><td>POSITION_REGEX function</td><td>NULL</td><td>NULL</td><td>NO</td><td>NULL</td><td>NULL</td></tr>",
                            "<tr><td>F844</td><td>SUBSTRING_REGEX function</td><td>NULL</td><td>NULL</td><td>NO</td><td>NULL</td><td>NULL</td></tr>",
                            "<tr><td>F845</td><td>TRANSLATE_REGEX function</td><td>NULL</td><td>NULL</td><td>NO</td><td>NULL</td><td>NULL</td></tr>",
                            "<tr><td>F846</td><td>Octet support in regular expression operators</td><td>NULL</td><td>NULL</td><td>NO</td><td>NULL</td><td>NULL</td></tr>",
                            "<tr><td>F847</td><td>Nonconstant regular expressions</td><td>NULL</td><td>NULL</td><td>NO</td><td>NULL</td><td>NULL</td></tr>",
                            "<tr><td>F850</td><td>Top-level &lt;order by clause&gt; in &lt;query expression&gt;</td><td>NULL</td><td>NULL</td><td>YES</td><td>NULL</td><td>NULL</td></tr>",
                            "<tr><td>F851</td><td>&lt;order by clause&gt; in subqueries</td><td>NULL</td><td>NULL</td><td>YES</td><td>NULL</td><td>NULL</td></tr>",
                            "<tr><td>F852</td><td>Top-level &lt;order by clause&gt; in views</td><td>NULL</td><td>NULL</td><td>YES</td><td>NULL</td><td>NULL</td></tr>",
                            "<tr><td>F855</td><td>Nested &lt;order by clause&gt; in &lt;query expression&gt;</td><td>NULL</td><td>NULL</td><td>YES</td><td>NULL</td><td>NULL</td></tr>",
                            "<tr><td>F856</td><td>Nested &lt;fetch first clause&gt; in &lt;query expression&gt;</td><td>NULL</td><td>NULL</td><td>YES</td><td>NULL</td><td>NULL</td></tr>",
                            "<tr><td>F857</td><td>Top-level &lt;fetch first clause&gt; in &lt;query expression&gt;</td><td>NULL</td><td>NULL</td><td>YES</td><td>NULL</td><td>NULL</td></tr>",
                            "<tr><td>F858</td><td>&lt;fetch first clause&gt; in subqueries</td><td>NULL</td><td>NULL</td><td>YES</td><td>NULL</td><td>NULL</td></tr>",
                            "<tr><td>F859</td><td>Top-level &lt;fetch first clause&gt; in views</td><td>NULL</td><td>NULL</td><td>YES</td><td>NULL</td><td>NULL</td></tr>",
                            "<tr><td>F860</td><td>&lt;fetch first row count&gt; in &lt;fetch first clause&gt;</td><td>NULL</td><td>NULL</td><td>YES</td><td>NULL</td><td>NULL</td></tr>",
                            "<tr><td>F861</td><td>Top-level &lt;result offset clause&gt; in &lt;query expression&gt;</td><td>NULL</td><td>NULL</td><td>YES</td><td>NULL</td><td>NULL</td></tr>",
                            "<tr><td>F862</td><td>&lt;result offset clause&gt; in subqueries</td><td>NULL</td><td>NULL</td><td>YES</td><td>NULL</td><td>NULL</td></tr>",
                            "<tr><td>F863</td><td>Nested &lt;result offset clause&gt; in &lt;query expression&gt;</td><td>NULL</td><td>NULL</td><td>YES</td><td>NULL</td><td>NULL</td></tr>",
                            "<tr><td>F864</td><td>Top-level &lt;result offset clause&gt; in views</td><td>NULL</td><td>NULL</td><td>YES</td><td>NULL</td><td>NULL</td></tr>",
                            "<tr><td>F865</td><td>&lt;offset row count&gt; in &lt;result offset clause&gt;</td><td>NULL</td><td>NULL</td><td>YES</td><td>NULL</td><td>NULL</td></tr>",
                            "<tr><td>F866</td><td>FETCH FIRST clause: PERCENT option</td><td>NULL</td><td>NULL</td><td>NO</td><td>NULL</td><td>NULL</td></tr>",
                            "<tr><td>F867</td><td>FETCH FIRST clause: WITH TIES option</td><td>NULL</td><td>NULL</td><td>NO</td><td>NULL</td><td>NULL</td></tr>",
                            "<tr><td>R010</td><td>Row pattern recognition: FROM clause</td><td>NULL</td><td>NULL</td><td>NO</td><td>NULL</td><td>NULL</td></tr>",
                            "<tr><td>R020</td><td>Row pattern recognition: WINDOW clause</td><td>NULL</td><td>NULL</td><td>NO</td><td>NULL</td><td>NULL</td></tr>",
                            "<tr><td>R030</td><td>Row pattern recognition: full aggregate support</td><td>NULL</td><td>NULL</td><td>NO</td><td>NULL</td><td>NULL</td></tr>",
                            "<tr><td>S011</td><td>Distinct data types</td><td>NULL</td><td>NULL</td><td>NO</td><td>NULL</td><td>NULL</td></tr>",
                            "<tr><td>S011</td><td>Distinct data types</td><td>01</td><td>USER_DEFINED_TYPES view</td><td>NO</td><td>NULL</td><td>NULL</td></tr>",
                            "<tr><td>S023</td><td>Basic structured types</td><td>NULL</td><td>NULL</td><td>NO</td><td>NULL</td><td>NULL</td></tr>",
                            "<tr><td>S024</td><td>Enhanced structured types</td><td>NULL</td><td>NULL</td><td>NO</td><td>NULL</td><td>NULL</td></tr>",
                            "<tr><td>S025</td><td>Final structured types</td><td>NULL</td><td>NULL</td><td>NO</td><td>NULL</td><td>NULL</td></tr>",
                            "<tr><td>S026</td><td>Self-referencing structured types</td><td>NULL</td><td>NULL</td><td>NO</td><td>NULL</td><td>NULL</td></tr>",
                            "<tr><td>S027</td><td>Create method by specific method name</td><td>NULL</td><td>NULL</td><td>NO</td><td>NULL</td><td>NULL</td></tr>",
                            "<tr><td>S028</td><td>Permutable UDT options list</td><td>NULL</td><td>NULL</td><td>NO</td><td>NULL</td><td>NULL</td></tr>",
                            "<tr><td>S041</td><td>Basic reference types</td><td>NULL</td><td>NULL</td><td>NO</td><td>NULL</td><td>NULL</td></tr>",
                            "<tr><td>S043</td><td>Enhanced reference types</td><td>NULL</td><td>NULL</td><td>NO</td><td>NULL</td><td>NULL</td></tr>",
                            "<tr><td>S051</td><td>Create table of type</td><td>NULL</td><td>NULL</td><td>NO</td><td>NULL</td><td>partially supported</td></tr>",
                            "<tr><td>S071</td><td>SQL paths in function and type name resolution</td><td>NULL</td><td>NULL</td><td>YES</td><td>NULL</td><td>NULL</td></tr>",
                            "<tr><td>S081</td><td>Subtables</td><td>NULL</td><td>NULL</td><td>NO</td><td>NULL</td><td>NULL</td></tr>",
                            "<tr><td>S091</td><td>Basic array support</td><td>NULL</td><td>NULL</td><td>NO</td><td>NULL</td><td>partially supported</td></tr>",
                            "<tr><td>S091</td><td>Basic array support</td><td>01</td><td>Arrays of built-in data types</td><td>NO</td><td>NULL</td><td>NULL</td></tr>",
                            "<tr><td>S091</td><td>Basic array support</td><td>02</td><td>Arrays of distinct types</td><td>NO</td><td>NULL</td><td>NULL</td></tr>",
                            "<tr><td>S091</td><td>Basic array support</td><td>03</td><td>Array expressions</td><td>NO</td><td>NULL</td><td>NULL</td></tr>",
                            "<tr><td>S092</td><td>Arrays of user-defined types</td><td>NULL</td><td>NULL</td><td>YES</td><td>NULL</td><td>NULL</td></tr>",
                            "<tr><td>S094</td><td>Arrays of reference types</td><td>NULL</td><td>NULL</td><td>NO</td><td>NULL</td><td>NULL</td></tr>",
                            "<tr><td>S095</td><td>Array constructors by query</td><td>NULL</td><td>NULL</td><td>YES</td><td>NULL</td><td>NULL</td></tr>",
                            "<tr><td>S096</td><td>Optional array bounds</td><td>NULL</td><td>NULL</td><td>YES</td><td>NULL</td><td>NULL</td></tr>",
                            "<tr><td>S097</td><td>Array element assignment</td><td>NULL</td><td>NULL</td><td>NO</td><td>NULL</td><td>NULL</td></tr>",
                            "<tr><td>S098</td><td>ARRAY_AGG</td><td>NULL</td><td>NULL</td><td>YES</td><td>NULL</td><td>NULL</td></tr>",
                            "<tr><td>S111</td><td>ONLY in query expressions</td><td>NULL</td><td>NULL</td><td>YES</td><td>NULL</td><td>NULL</td></tr>",
                            "<tr><td>S151</td><td>Type predicate</td><td>NULL</td><td>NULL</td><td>NO</td><td>NULL</td><td>NULL</td></tr>",
                            "<tr><td>S161</td><td>Subtype treatment</td><td>NULL</td><td>NULL</td><td>NO</td><td>NULL</td><td>NULL</td></tr>",
                            "<tr><td>S162</td><td>Subtype treatment for references</td><td>NULL</td><td>NULL</td><td>NO</td><td>NULL</td><td>NULL</td></tr>",
                            "<tr><td>S201</td><td>SQL-invoked routines on arrays</td><td>NULL</td><td>NULL</td><td>YES</td><td>NULL</td><td>NULL</td></tr>",
                            "<tr><td>S201</td><td>SQL-invoked routines on arrays</td><td>01</td><td>Array parameters</td><td>YES</td><td>NULL</td><td>NULL</td></tr>",
                            "<tr><td>S201</td><td>SQL-invoked routines on arrays</td><td>02</td><td>Array as result type of functions</td><td>YES</td><td>NULL</td><td>NULL</td></tr>",
                            "<tr><td>S202</td><td>SQL-invoked routines on multisets</td><td>NULL</td><td>NULL</td><td>NO</td><td>NULL</td><td>NULL</td></tr>",
                            "<tr><td>S211</td><td>User-defined cast functions</td><td>NULL</td><td>NULL</td><td>YES</td><td>NULL</td><td>NULL</td></tr>",
                            "<tr><td>S231</td><td>Structured type locators</td><td>NULL</td><td>NULL</td><td>NO</td><td>NULL</td><td>NULL</td></tr>",
                            "<tr><td>S232</td><td>Array locators</td><td>NULL</td><td>NULL</td><td>NO</td><td>NULL</td><td>NULL</td></tr>",
                            "<tr><td>S233</td><td>Multiset locators</td><td>NULL</td><td>NULL</td><td>NO</td><td>NULL</td><td>NULL</td></tr>",
                            "<tr><td>S241</td><td>Transform functions</td><td>NULL</td><td>NULL</td><td>NO</td><td>NULL</td><td>NULL</td></tr>",
                            "<tr><td>S242</td><td>Alter transform statement</td><td>NULL</td><td>NULL</td><td>NO</td><td>NULL</td><td>NULL</td></tr>",
                            "<tr><td>S251</td><td>User-defined orderings</td><td>NULL</td><td>NULL</td><td>NO</td><td>NULL</td><td>NULL</td></tr>",
                            "<tr><td>S261</td><td>Specific type method</td><td>NULL</td><td>NULL</td><td>NO</td><td>NULL</td><td>NULL</td></tr>",
                            "<tr><td>S271</td><td>Basic multiset support</td><td>NULL</td><td>NULL</td><td>NO</td><td>NULL</td><td>NULL</td></tr>",
                            "<tr><td>S272</td><td>Multisets of user-defined types</td><td>NULL</td><td>NULL</td><td>NO</td><td>NULL</td><td>NULL</td></tr>",
                            "<tr><td>S274</td><td>Multisets of reference types</td><td>NULL</td><td>NULL</td><td>NO</td><td>NULL</td><td>NULL</td></tr>",
                            "<tr><td>S275</td><td>Advanced multiset support</td><td>NULL</td><td>NULL</td><td>NO</td><td>NULL</td><td>NULL</td></tr>",
                            "<tr><td>S281</td><td>Nested collection types</td><td>NULL</td><td>NULL</td><td>NO</td><td>NULL</td><td>NULL</td></tr>",
                            "<tr><td>S291</td><td>Unique constraint on entire row</td><td>NULL</td><td>NULL</td><td>NO</td><td>NULL</td><td>NULL</td></tr>",
                            "<tr><td>S301</td><td>Enhanced UNNEST</td><td>NULL</td><td>NULL</td><td>YES</td><td>NULL</td><td>NULL</td></tr>",
                            "<tr><td>S401</td><td>Distinct types based on array types</td><td>NULL</td><td>NULL</td><td>NO</td><td>NULL</td><td>NULL</td></tr>",
                            "<tr><td>S402</td><td>Distinct types based on distinct types</td><td>NULL</td><td>NULL</td><td>NO</td><td>NULL</td><td>NULL</td></tr>",
                            "<tr><td>S403</td><td>ARRAY_MAX_CARDINALITY</td><td>NULL</td><td>NULL</td><td>NO</td><td>NULL</td><td>NULL</td></tr>",
                            "<tr><td>S404</td><td>TRIM_ARRAY</td><td>NULL</td><td>NULL</td><td>NO</td><td>NULL</td><td>NULL</td></tr>",
                            "<tr><td>T011</td><td>Timestamp in Information Schema</td><td>NULL</td><td>NULL</td><td>NO</td><td>NULL</td><td>NULL</td></tr>",
                            "<tr><td>T021</td><td>BINARY and VARBINARY data types</td><td>NULL</td><td>NULL</td><td>NO</td><td>NULL</td><td>NULL</td></tr>",
                            "<tr><td>T022</td><td>Advanced support for BINARY and VARBINARY data types</td><td>NULL</td><td>NULL</td><td>NO</td><td>NULL</td><td>NULL</td></tr>",
                            "<tr><td>T023</td><td>Compound binary literal</td><td>NULL</td><td>NULL</td><td>NO</td><td>NULL</td><td>NULL</td></tr>",
                            "<tr><td>T024</td><td>Spaces in binary literals</td><td>NULL</td><td>NULL</td><td>NO</td><td>NULL</td><td>NULL</td></tr>",
                            "<tr><td>T031</td><td>BOOLEAN data type</td><td>NULL</td><td>NULL</td><td>YES</td><td>NULL</td><td>NULL</td></tr>",
                            "<tr><td>T041</td><td>Basic LOB data type support</td><td>NULL</td><td>NULL</td><td>NO</td><td>NULL</td><td>NULL</td></tr>",
                            "<tr><td>T041</td><td>Basic LOB data type support</td><td>01</td><td>BLOB data type</td><td>NO</td><td>NULL</td><td>NULL</td></tr>",
                            "<tr><td>T041</td><td>Basic LOB data type support</td><td>02</td><td>CLOB data type</td><td>NO</td><td>NULL</td><td>NULL</td></tr>",
                            "<tr><td>T041</td><td>Basic LOB data type support</td><td>03</td><td>POSITION, LENGTH, LOWER, TRIM, UPPER, and SUBSTRING functions for LOB data types</td><td>NO</td><td>NULL</td><td>NULL</td></tr>",
                            "<tr><td>T041</td><td>Basic LOB data type support</td><td>04</td><td>Concatenation of LOB data types</td><td>NO</td><td>NULL</td><td>NULL</td></tr>",
                            "<tr><td>T041</td><td>Basic LOB data type support</td><td>05</td><td>LOB locator: non-holdable</td><td>NO</td><td>NULL</td><td>NULL</td></tr>",
                            "<tr><td>T042</td><td>Extended LOB data type support</td><td>NULL</td><td>NULL</td><td>NO</td><td>NULL</td><td>NULL</td></tr>",
                            "<tr><td>T043</td><td>Multiplier T</td><td>NULL</td><td>NULL</td><td>NO</td><td>NULL</td><td>NULL</td></tr>",
                            "<tr><td>T044</td><td>Multiplier P</td><td>NULL</td><td>NULL</td><td>NO</td><td>NULL</td><td>NULL</td></tr>",
                            "<tr><td>T051</td><td>Row types</td><td>NULL</td><td>NULL</td><td>NO</td><td>NULL</td><td>NULL</td></tr>",
                            "<tr><td>T053</td><td>Explicit aliases for all-fields reference</td><td>NULL</td><td>NULL</td><td>NO</td><td>NULL</td><td>NULL</td></tr>",
                            "<tr><td>T061</td><td>UCS support</td><td>NULL</td><td>NULL</td><td>NO</td><td>NULL</td><td>NULL</td></tr>",
                            "<tr><td>T071</td><td>BIGINT data type</td><td>NULL</td><td>NULL</td><td>YES</td><td>NULL</td><td>NULL</td></tr>",
                            "<tr><td>T076</td><td>DECFLOAT data type</td><td>NULL</td><td>NULL</td><td>NO</td><td>NULL</td><td>NULL</td></tr>",
                            "<tr><td>T101</td><td>Enhanced nullability determination</td><td>NULL</td><td>NULL</td><td>NO</td><td>NULL</td><td>NULL</td></tr>",
                            "<tr><td>T111</td><td>Updatable joins, unions, and columns</td><td>NULL</td><td>NULL</td><td>NO</td><td>NULL</td><td>NULL</td></tr>",
                            "<tr><td>T121</td><td>WITH (excluding RECURSIVE) in query expression</td><td>NULL</td><td>NULL</td><td>YES</td><td>NULL</td><td>NULL</td></tr>",
                            "<tr><td>T122</td><td>WITH (excluding RECURSIVE) in subquery</td><td>NULL</td><td>NULL</td><td>YES</td><td>NULL</td><td>NULL</td></tr>",
                            "<tr><td>T131</td><td>Recursive query</td><td>NULL</td><td>NULL</td><td>YES</td><td>NULL</td><td>NULL</td></tr>",
                            "<tr><td>T132</td><td>Recursive query in subquery</td><td>NULL</td><td>NULL</td><td>YES</td><td>NULL</td><td>NULL</td></tr>",
                            "<tr><td>T141</td><td>SIMILAR predicate</td><td>NULL</td><td>NULL</td><td>YES</td><td>NULL</td><td>NULL</td></tr>",
                            "<tr><td>T151</td><td>DISTINCT predicate</td><td>NULL</td><td>NULL</td><td>YES</td><td>NULL</td><td>NULL</td></tr>",
                            "<tr><td>T152</td><td>DISTINCT predicate with negation</td><td>NULL</td><td>NULL</td><td>YES</td><td>NULL</td><td>NULL</td></tr>",
                            "<tr><td>T171</td><td>LIKE clause in table definition</td><td>NULL</td><td>NULL</td><td>YES</td><td>NULL</td><td>NULL</td></tr>",
                            "<tr><td>T172</td><td>AS subquery clause in table definition</td><td>NULL</td><td>NULL</td><td>YES</td><td>NULL</td><td>NULL</td></tr>",
                            "<tr><td>T173</td><td>Extended LIKE clause in table definition</td><td>NULL</td><td>NULL</td><td>YES</td><td>NULL</td><td>NULL</td></tr>",
                            "<tr><td>T174</td><td>Identity columns</td><td>NULL</td><td>NULL</td><td>YES</td><td>NULL</td><td>NULL</td></tr>",
                            "<tr><td>T175</td><td>Generated columns</td><td>NULL</td><td>NULL</td><td>NO</td><td>NULL</td><td>NULL</td></tr>",
                            "<tr><td>T176</td><td>Sequence generator support</td><td>NULL</td><td>NULL</td><td>NO</td><td>NULL</td><td>NULL</td></tr>",
                            "<tr><td>T177</td><td>Sequence generator support: simple restart option</td><td>NULL</td><td>NULL</td><td>YES</td><td>NULL</td><td>NULL</td></tr>",
                            "<tr><td>T178</td><td>Identity columns:  simple restart option</td><td>NULL</td><td>NULL</td><td>YES</td><td>NULL</td><td>NULL</td></tr>",
                            "<tr><td>T180</td><td>System-versioned tables</td><td>NULL</td><td>NULL</td><td>NO</td><td>NULL</td><td>NULL</td></tr>",
                            "<tr><td>T181</td><td>Application-time period tables</td><td>NULL</td><td>NULL</td><td>NO</td><td>NULL</td><td>NULL</td></tr>",
                            "<tr><td>T191</td><td>Referential action RESTRICT</td><td>NULL</td><td>NULL</td><td>YES</td><td>NULL</td><td>NULL</td></tr>",
                            "<tr><td>T201</td><td>Comparable data types for referential constraints</td><td>NULL</td><td>NULL</td><td>YES</td><td>NULL</td><td>NULL</td></tr>",
                            "<tr><td>T211</td><td>Basic trigger capability</td><td>NULL</td><td>NULL</td><td>NO</td><td>NULL</td><td>NULL</td></tr>",
                            "<tr><td>T211</td><td>Basic trigger capability</td><td>01</td><td>Triggers activated on UPDATE, INSERT, or DELETE of one base table</td><td>YES</td><td>NULL</td><td>NULL</td></tr>",
                            "<tr><td>T211</td><td>Basic trigger capability</td><td>02</td><td>BEFORE triggers</td><td>YES</td><td>NULL</td><td>NULL</td></tr>",
                            "<tr><td>T211</td><td>Basic trigger capability</td><td>03</td><td>AFTER triggers</td><td>YES</td><td>NULL</td><td>NULL</td></tr>",
                            "<tr><td>T211</td><td>Basic trigger capability</td><td>04</td><td>FOR EACH ROW triggers</td><td>YES</td><td>NULL</td><td>NULL</td></tr>",
                            "<tr><td>T211</td><td>Basic trigger capability</td><td>05</td><td>Ability to specify a search condition that must be true before the trigger is invoked</td><td>YES</td><td>NULL</td><td>NULL</td></tr>",
                            "<tr><td>T211</td><td>Basic trigger capability</td><td>06</td><td>Support for run-time rules for the interaction of triggers and constraints</td><td>NO</td><td>NULL</td><td>NULL</td></tr>",
                            "<tr><td>T211</td><td>Basic trigger capability</td><td>07</td><td>TRIGGER privilege</td><td>YES</td><td>NULL</td><td>NULL</td></tr>",
                            "<tr><td>T211</td><td>Basic trigger capability</td><td>08</td><td>Multiple triggers for the same event are executed in the order in which they were created in the catalog</td><td>NO</td><td>NULL</td><td>intentionally omitted</td></tr>",
                            "<tr><td>T212</td><td>Enhanced trigger capability</td><td>NULL</td><td>NULL</td><td>YES</td><td>NULL</td><td>NULL</td></tr>",
                            "<tr><td>T213</td><td>INSTEAD OF triggers</td><td>NULL</td><td>NULL</td><td>YES</td><td>NULL</td><td>NULL</td></tr>",
                            "<tr><td>T231</td><td>Sensitive cursors</td><td>NULL</td><td>NULL</td><td>YES</td><td>NULL</td><td>NULL</td></tr>",
                            "<tr><td>T241</td><td>START TRANSACTION statement</td><td>NULL</td><td>NULL</td><td>YES</td><td>NULL</td><td>NULL</td></tr>",
                            "<tr><td>T251</td><td>SET TRANSACTION statement: LOCAL option</td><td>NULL</td><td>NULL</td><td>NO</td><td>NULL</td><td>NULL</td></tr>",
                            "<tr><td>T261</td><td>Chained transactions</td><td>NULL</td><td>NULL</td><td>YES</td><td>NULL</td><td>NULL</td></tr>",
                            "<tr><td>T271</td><td>Savepoints</td><td>NULL</td><td>NULL</td><td>YES</td><td>NULL</td><td>NULL</td></tr>",
                            "<tr><td>T272</td><td>Enhanced savepoint management</td><td>NULL</td><td>NULL</td><td>NO</td><td>NULL</td><td>NULL</td></tr>",
                            "<tr><td>T281</td><td>SELECT privilege with column granularity</td><td>NULL</td><td>NULL</td><td>YES</td><td>NULL</td><td>NULL</td></tr>",
                            "<tr><td>T285</td><td>Enhanced derived column names</td><td>NULL</td><td>NULL</td><td>YES</td><td>NULL</td><td>NULL</td></tr>",
                            "<tr><td>T301</td><td>Functional dependencies</td><td>NULL</td><td>NULL</td><td>NO</td><td>NULL</td><td>partially supported</td></tr>",
                            "<tr><td>T312</td><td>OVERLAY function</td><td>NULL</td><td>NULL</td><td>YES</td><td>NULL</td><td>NULL</td></tr>",
                            "<tr><td>T321</td><td>Basic SQL-invoked routines</td><td>NULL</td><td>NULL</td><td>NO</td><td>NULL</td><td>NULL</td></tr>",
                            "<tr><td>T321</td><td>Basic SQL-invoked routines</td><td>01</td><td>User-defined functions with no overloading</td><td>YES</td><td>NULL</td><td>NULL</td></tr>",
                            "<tr><td>T321</td><td>Basic SQL-invoked routines</td><td>02</td><td>User-defined stored procedures with no overloading</td><td>YES</td><td>NULL</td><td>NULL</td></tr>",
                            "<tr><td>T321</td><td>Basic SQL-invoked routines</td><td>03</td><td>Function invocation</td><td>YES</td><td>NULL</td><td>NULL</td></tr>",
                            "<tr><td>T321</td><td>Basic SQL-invoked routines</td><td>04</td><td>CALL statement</td><td>YES</td><td>NULL</td><td>NULL</td></tr>",
                            "<tr><td>T321</td><td>Basic SQL-invoked routines</td><td>05</td><td>RETURN statement</td><td>NO</td><td>NULL</td><td>NULL</td></tr>",
                            "<tr><td>T321</td><td>Basic SQL-invoked routines</td><td>06</td><td>ROUTINES view</td><td>YES</td><td>NULL</td><td>NULL</td></tr>",
                            "<tr><td>T321</td><td>Basic SQL-invoked routines</td><td>07</td><td>PARAMETERS view</td><td>YES</td><td>NULL</td><td>NULL</td></tr>",
                            "<tr><td>T322</td><td>Declared data type attributes</td><td>NULL</td><td>NULL</td><td>NO</td><td>NULL</td><td>NULL</td></tr>",
                            "<tr><td>T323</td><td>Explicit security for external routines</td><td>NULL</td><td>NULL</td><td>YES</td><td>NULL</td><td>NULL</td></tr>",
                            "<tr><td>T324</td><td>Explicit security for SQL routines</td><td>NULL</td><td>NULL</td><td>NO</td><td>NULL</td><td>NULL</td></tr>",
                            "<tr><td>T325</td><td>Qualified SQL parameter references</td><td>NULL</td><td>NULL</td><td>YES</td><td>NULL</td><td>NULL</td></tr>",
                            "<tr><td>T326</td><td>Table functions</td><td>NULL</td><td>NULL</td><td>NO</td><td>NULL</td><td>NULL</td></tr>",
                            "<tr><td>T331</td><td>Basic roles</td><td>NULL</td><td>NULL</td><td>YES</td><td>NULL</td><td>NULL</td></tr>",
                            "<tr><td>T332</td><td>Extended roles</td><td>NULL</td><td>NULL</td><td>NO</td><td>NULL</td><td>mostly supported</td></tr>",
                            "<tr><td>T341</td><td>Overloading of SQL-invoked functions and procedures</td><td>NULL</td><td>NULL</td><td>YES</td><td>NULL</td><td>NULL</td></tr>",
                            "<tr><td>T351</td><td>Bracketed SQL comments (/*...*/ comments)</td><td>NULL</td><td>NULL</td><td>YES</td><td>NULL</td><td>NULL</td></tr>",
                            "<tr><td>T431</td><td>Extended grouping capabilities</td><td>NULL</td><td>NULL</td><td>YES</td><td>NULL</td><td>NULL</td></tr>",
                            "<tr><td>T432</td><td>Nested and concatenated GROUPING SETS</td><td>NULL</td><td>NULL</td><td>YES</td><td>NULL</td><td>NULL</td></tr>",
                            "<tr><td>T433</td><td>Multiargument GROUPING function</td><td>NULL</td><td>NULL</td><td>YES</td><td>NULL</td><td>NULL</td></tr>",
                            "<tr><td>T434</td><td>GROUP BY DISTINCT</td><td>NULL</td><td>NULL</td><td>NO</td><td>NULL</td><td>NULL</td></tr>",
                            "<tr><td>T441</td><td>ABS and MOD functions</td><td>NULL</td><td>NULL</td><td>YES</td><td>NULL</td><td>NULL</td></tr>",
                            "<tr><td>T461</td><td>Symmetric BETWEEN predicate</td><td>NULL</td><td>NULL</td><td>YES</td><td>NULL</td><td>NULL</td></tr>",
                            "<tr><td>T471</td><td>Result sets return value</td><td>NULL</td><td>NULL</td><td>NO</td><td>NULL</td><td>NULL</td></tr>",
                            "<tr><td>T472</td><td>DESCRIBE CURSOR</td><td>NULL</td><td>NULL</td><td>NO</td><td>NULL</td><td>NULL</td></tr>",
                            "<tr><td>T491</td><td>LATERAL derived table</td><td>NULL</td><td>NULL</td><td>YES</td><td>NULL</td><td>NULL</td></tr>",
                            "<tr><td>T495</td><td>Combined data change and retrieval</td><td>NULL</td><td>NULL</td><td>NO</td><td>NULL</td><td>different syntax</td></tr>",
                            "<tr><td>T501</td><td>Enhanced EXISTS predicate</td><td>NULL</td><td>NULL</td><td>YES</td><td>NULL</td><td>NULL</td></tr>",
                            "<tr><td>T502</td><td>Period predicates</td><td>NULL</td><td>NULL</td><td>NO</td><td>NULL</td><td>NULL</td></tr>",
                            "<tr><td>T511</td><td>Transaction counts</td><td>NULL</td><td>NULL</td><td>NO</td><td>NULL</td><td>NULL</td></tr>",
                            "<tr><td>T521</td><td>Named arguments in CALL statement</td><td>NULL</td><td>NULL</td><td>YES</td><td>NULL</td><td>NULL</td></tr>",
                            "<tr><td>T522</td><td>Default values for IN parameters of SQL-invoked procedures</td><td>NULL</td><td>NULL</td><td>NO</td><td>NULL</td><td>supported except DEFAULT key word in invocation</td></tr>",
                            "<tr><td>T523</td><td>Default values for INOUT parameters of SQL-invoked procedures</td><td>NULL</td><td>NULL</td><td>YES</td><td>NULL</td><td>NULL</td></tr>",
                            "<tr><td>T524</td><td>Named arguments in routine invocations other than a CALL statement</td><td>NULL</td><td>NULL</td><td>YES</td><td>NULL</td><td>NULL</td></tr>",
                            "<tr><td>T525</td><td>Default values for parameters of SQL-invoked functions</td><td>NULL</td><td>NULL</td><td>YES</td><td>NULL</td><td>NULL</td></tr>",
                            "<tr><td>T551</td><td>Optional key words for default syntax</td><td>NULL</td><td>NULL</td><td>YES</td><td>NULL</td><td>NULL</td></tr>",
                            "<tr><td>T561</td><td>Holdable locators</td><td>NULL</td><td>NULL</td><td>NO</td><td>NULL</td><td>NULL</td></tr>",
                            "<tr><td>T571</td><td>Array-returning external SQL-invoked functions</td><td>NULL</td><td>NULL</td><td>NO</td><td>NULL</td><td>NULL</td></tr>",
                            "<tr><td>T572</td><td>Multiset-returning external SQL-invoked functions</td><td>NULL</td><td>NULL</td><td>NO</td><td>NULL</td><td>NULL</td></tr>",
                            "<tr><td>T581</td><td>Regular expression substring function</td><td>NULL</td><td>NULL</td><td>YES</td><td>NULL</td><td>NULL</td></tr>",
                            "<tr><td>T591</td><td>UNIQUE constraints of possibly null columns</td><td>NULL</td><td>NULL</td><td>YES</td><td>NULL</td><td>NULL</td></tr>",
                            "<tr><td>T601</td><td>Local cursor references</td><td>NULL</td><td>NULL</td><td>NO</td><td>NULL</td><td>NULL</td></tr>",
                            "<tr><td>T611</td><td>Elementary OLAP operations</td><td>NULL</td><td>NULL</td><td>YES</td><td>NULL</td><td>NULL</td></tr>",
                            "<tr><td>T612</td><td>Advanced OLAP operations</td><td>NULL</td><td>NULL</td><td>NO</td><td>NULL</td><td>some forms supported</td></tr>",
                            "<tr><td>T613</td><td>Sampling</td><td>NULL</td><td>NULL</td><td>YES</td><td>NULL</td><td>NULL</td></tr>",
                            "<tr><td>T614</td><td>NTILE function</td><td>NULL</td><td>NULL</td><td>YES</td><td>NULL</td><td>NULL</td></tr>",
                            "<tr><td>T615</td><td>LEAD and LAG functions</td><td>NULL</td><td>NULL</td><td>YES</td><td>NULL</td><td>NULL</td></tr>",
                            "<tr><td>T616</td><td>Null treatment option for LEAD and LAG functions</td><td>NULL</td><td>NULL</td><td>NO</td><td>NULL</td><td>NULL</td></tr>",
                            "<tr><td>T617</td><td>FIRST_VALUE and LAST_VALUE function</td><td>NULL</td><td>NULL</td><td>YES</td><td>NULL</td><td>NULL</td></tr>",
                            "<tr><td>T618</td><td>NTH_VALUE function</td><td>NULL</td><td>NULL</td><td>NO</td><td>NULL</td><td>function exists, but some options missing</td></tr>",
                            "<tr><td>T619</td><td>Nested window functions</td><td>NULL</td><td>NULL</td><td>NO</td><td>NULL</td><td>NULL</td></tr>",
                            "<tr><td>T620</td><td>WINDOW clause: GROUPS option</td><td>NULL</td><td>NULL</td><td>YES</td><td>NULL</td><td>NULL</td></tr>",
                            "<tr><td>T621</td><td>Enhanced numeric functions</td><td>NULL</td><td>NULL</td><td>YES</td><td>NULL</td><td>NULL</td></tr>",
                            "<tr><td>T622</td><td>Trigonometric functions</td><td>NULL</td><td>NULL</td><td>YES</td><td>NULL</td><td>NULL</td></tr>",
                            "<tr><td>T623</td><td>General logarithm functions</td><td>NULL</td><td>NULL</td><td>YES</td><td>NULL</td><td>NULL</td></tr>",
                            "<tr><td>T624</td><td>Common logarithm functions</td><td>NULL</td><td>NULL</td><td>YES</td><td>NULL</td><td>NULL</td></tr>",
                            "<tr><td>T625</td><td>LISTAGG</td><td>NULL</td><td>NULL</td><td>NO</td><td>NULL</td><td>NULL</td></tr>",
                            "<tr><td>T631</td><td>IN predicate with one list element</td><td>NULL</td><td>NULL</td><td>YES</td><td>NULL</td><td>NULL</td></tr>",
                            "<tr><td>T641</td><td>Multiple column assignment</td><td>NULL</td><td>NULL</td><td>NO</td><td>NULL</td><td>only some syntax variants supported</td></tr>",
                            "<tr><td>T651</td><td>SQL-schema statements in SQL routines</td><td>NULL</td><td>NULL</td><td>YES</td><td>NULL</td><td>NULL</td></tr>",
                            "<tr><td>T652</td><td>SQL-dynamic statements in SQL routines</td><td>NULL</td><td>NULL</td><td>NO</td><td>NULL</td><td>NULL</td></tr>",
                            "<tr><td>T653</td><td>SQL-schema statements in external routines</td><td>NULL</td><td>NULL</td><td>NO</td><td>NULL</td><td>NULL</td></tr>",
                            "<tr><td>T654</td><td>SQL-dynamic statements in external routines</td><td>NULL</td><td>NULL</td><td>NO</td><td>NULL</td><td>NULL</td></tr>",
                            "<tr><td>T655</td><td>Cyclically dependent routines</td><td>NULL</td><td>NULL</td><td>YES</td><td>NULL</td><td>NULL</td></tr>",
                            "<tr><td>T811</td><td>Basic SQL/JSON constructor functions</td><td>NULL</td><td>NULL</td><td>NO</td><td>NULL</td><td>NULL</td></tr>",
                            "<tr><td>T812</td><td>SQL/JSON: JSON_OBJECTAGG</td><td>NULL</td><td>NULL</td><td>NO</td><td>NULL</td><td>NULL</td></tr>",
                            "<tr><td>T813</td><td>SQL/JSON: JSON_ARRAYAGG with ORDER BY</td><td>NULL</td><td>NULL</td><td>NO</td><td>NULL</td><td>NULL</td></tr>",
                            "<tr><td>T814</td><td>Colon in JSON_OBJECT or JSON_OBJECTAGG</td><td>NULL</td><td>NULL</td><td>NO</td><td>NULL</td><td>NULL</td></tr>",
                            "<tr><td>T821</td><td>Basic SQL/JSON query operators</td><td>NULL</td><td>NULL</td><td>NO</td><td>NULL</td><td>NULL</td></tr>",
                            "<tr><td>T822</td><td>SQL/JSON: IS JSON WITH UNIQUE KEYS predicate</td><td>NULL</td><td>NULL</td><td>NO</td><td>NULL</td><td>NULL</td></tr>",
                            "<tr><td>T823</td><td>SQL/JSON: PASSING clause</td><td>NULL</td><td>NULL</td><td>NO</td><td>NULL</td><td>NULL</td></tr>",
                            "<tr><td>T824</td><td>JSON_TABLE: specific PLAN clause</td><td>NULL</td><td>NULL</td><td>NO</td><td>NULL</td><td>NULL</td></tr>",
                            "<tr><td>T825</td><td>SQL/JSON: ON EMPTY and ON ERROR clauses</td><td>NULL</td><td>NULL</td><td>NO</td><td>NULL</td><td>NULL</td></tr>",
                            "<tr><td>T826</td><td>General value expression in ON ERROR or ON EMPTY clauses</td><td>NULL</td><td>NULL</td><td>NO</td><td>NULL</td><td>NULL</td></tr>",
                            "<tr><td>T827</td><td>JSON_TABLE: sibling NESTED COLUMNS clauses</td><td>NULL</td><td>NULL</td><td>NO</td><td>NULL</td><td>NULL</td></tr>",
                            "<tr><td>T828</td><td>JSON_QUERY</td><td>NULL</td><td>NULL</td><td>NO</td><td>NULL</td><td>NULL</td></tr>",
                            "<tr><td>T829</td><td>JSON_QUERY: array wrapper options</td><td>NULL</td><td>NULL</td><td>NO</td><td>NULL</td><td>NULL</td></tr>",
                            "<tr><td>T830</td><td>Enforcing unique keys in SQL/JSON constructor functions</td><td>NULL</td><td>NULL</td><td>NO</td><td>NULL</td><td>NULL</td></tr>",
                            "<tr><td>T831</td><td>SQL/JSON path language: strict mode</td><td>NULL</td><td>NULL</td><td>YES</td><td>NULL</td><td>NULL</td></tr>",
                            "<tr><td>T832</td><td>SQL/JSON path language: item method</td><td>NULL</td><td>NULL</td><td>NO</td><td>NULL</td><td>datetime() not yet implemented</td></tr>",
                            "<tr><td>T833</td><td>SQL/JSON path language: multiple subscripts</td><td>NULL</td><td>NULL</td><td>YES</td><td>NULL</td><td>NULL</td></tr>",
                            "<tr><td>T834</td><td>SQL/JSON path language: wildcard member accessor</td><td>NULL</td><td>NULL</td><td>YES</td><td>NULL</td><td>NULL</td></tr>",
                            "<tr><td>T835</td><td>SQL/JSON path language: filter expressions</td><td>NULL</td><td>NULL</td><td>YES</td><td>NULL</td><td>NULL</td></tr>",
                            "<tr><td>T836</td><td>SQL/JSON path language: starts with predicate</td><td>NULL</td><td>NULL</td><td>YES</td><td>NULL</td><td>NULL</td></tr>",
                            "<tr><td>T837</td><td>SQL/JSON path language: regex_like predicate</td><td>NULL</td><td>NULL</td><td>YES</td><td>NULL</td><td>NULL</td></tr>",
                            "<tr><td>T838</td><td>JSON_TABLE: PLAN DEFAULT clause</td><td>NULL</td><td>NULL</td><td>NO</td><td>NULL</td><td>NULL</td></tr>",
                            "<tr><td>T839</td><td>Formatted cast of datetimes to/from character strings</td><td>NULL</td><td>NULL</td><td>NO</td><td>NULL</td><td>NULL</td></tr>",
                            "<tr><td>M001</td><td>Datalinks</td><td>NULL</td><td>NULL</td><td>NO</td><td>NULL</td><td>NULL</td></tr>",
                            "<tr><td>M002</td><td>Datalinks via SQL/CLI</td><td>NULL</td><td>NULL</td><td>NO</td><td>NULL</td><td>NULL</td></tr>",
                            "<tr><td>M003</td><td>Datalinks via Embedded SQL</td><td>NULL</td><td>NULL</td><td>NO</td><td>NULL</td><td>NULL</td></tr>",
                            "<tr><td>M004</td><td>Foreign data support</td><td>NULL</td><td>NULL</td><td>NO</td><td>NULL</td><td>partially supported</td></tr>",
                            "<tr><td>M005</td><td>Foreign schema support</td><td>NULL</td><td>NULL</td><td>NO</td><td>NULL</td><td>NULL</td></tr>",
                            "<tr><td>M006</td><td>GetSQLString routine</td><td>NULL</td><td>NULL</td><td>NO</td><td>NULL</td><td>NULL</td></tr>",
                            "<tr><td>M007</td><td>TransmitRequest</td><td>NULL</td><td>NULL</td><td>NO</td><td>NULL</td><td>NULL</td></tr>",
                            "<tr><td>M009</td><td>GetOpts and GetStatistics routines</td><td>NULL</td><td>NULL</td><td>NO</td><td>NULL</td><td>NULL</td></tr>",
                            "<tr><td>M010</td><td>Foreign data wrapper support</td><td>NULL</td><td>NULL</td><td>NO</td><td>NULL</td><td>different API</td></tr>",
                            "<tr><td>M011</td><td>Datalinks via Ada</td><td>NULL</td><td>NULL</td><td>NO</td><td>NULL</td><td>NULL</td></tr>",
                            "<tr><td>M012</td><td>Datalinks via C</td><td>NULL</td><td>NULL</td><td>NO</td><td>NULL</td><td>NULL</td></tr>",
                            "<tr><td>M013</td><td>Datalinks via COBOL</td><td>NULL</td><td>NULL</td><td>NO</td><td>NULL</td><td>NULL</td></tr>",
                            "<tr><td>M014</td><td>Datalinks via Fortran</td><td>NULL</td><td>NULL</td><td>NO</td><td>NULL</td><td>NULL</td></tr>",
                            "<tr><td>M015</td><td>Datalinks via M</td><td>NULL</td><td>NULL</td><td>NO</td><td>NULL</td><td>NULL</td></tr>",
                            "<tr><td>M016</td><td>Datalinks via Pascal</td><td>NULL</td><td>NULL</td><td>NO</td><td>NULL</td><td>NULL</td></tr>",
                            "<tr><td>M017</td><td>Datalinks via PL/I</td><td>NULL</td><td>NULL</td><td>NO</td><td>NULL</td><td>NULL</td></tr>",
                            "<tr><td>M018</td><td>Foreign data wrapper interface routines in Ada</td><td>NULL</td><td>NULL</td><td>NO</td><td>NULL</td><td>NULL</td></tr>",
                            "<tr><td>M019</td><td>Foreign data wrapper interface routines in C</td><td>NULL</td><td>NULL</td><td>NO</td><td>NULL</td><td>different API</td></tr>",
                            "<tr><td>M020</td><td>Foreign data wrapper interface routines in COBOL</td><td>NULL</td><td>NULL</td><td>NO</td><td>NULL</td><td>NULL</td></tr>",
                            "<tr><td>M021</td><td>Foreign data wrapper interface routines in Fortran</td><td>NULL</td><td>NULL</td><td>NO</td><td>NULL</td><td>NULL</td></tr>",
                            "<tr><td>M022</td><td>Foreign data wrapper interface routines in MUMPS</td><td>NULL</td><td>NULL</td><td>NO</td><td>NULL</td><td>NULL</td></tr>",
                            "<tr><td>M023</td><td>Foreign data wrapper interface routines in Pascal</td><td>NULL</td><td>NULL</td><td>NO</td><td>NULL</td><td>NULL</td></tr>",
                            "<tr><td>M024</td><td>Foreign data wrapper interface routines in PL/I</td><td>NULL</td><td>NULL</td><td>NO</td><td>NULL</td><td>NULL</td></tr>",
                            "<tr><td>M030</td><td>SQL-server foreign data support</td><td>NULL</td><td>NULL</td><td>NO</td><td>NULL</td><td>NULL</td></tr>",
                            "<tr><td>M031</td><td>Foreign data wrapper general routines</td><td>NULL</td><td>NULL</td><td>NO</td><td>NULL</td><td>NULL</td></tr>",
                            "<tr><td>X010</td><td>XML type</td><td>NULL</td><td>NULL</td><td>YES</td><td>NULL</td><td>NULL</td></tr>",
                            "<tr><td>X011</td><td>Arrays of XML type</td><td>NULL</td><td>NULL</td><td>YES</td><td>NULL</td><td>NULL</td></tr>",
                            "<tr><td>X012</td><td>Multisets of XML type</td><td>NULL</td><td>NULL</td><td>NO</td><td>NULL</td><td>NULL</td></tr>",
                            "<tr><td>X013</td><td>Distinct types of XML type</td><td>NULL</td><td>NULL</td><td>NO</td><td>NULL</td><td>NULL</td></tr>",
                            "<tr><td>X014</td><td>Attributes of XML type</td><td>NULL</td><td>NULL</td><td>YES</td><td>NULL</td><td>NULL</td></tr>",
                            "<tr><td>X015</td><td>Fields of XML type</td><td>NULL</td><td>NULL</td><td>NO</td><td>NULL</td><td>NULL</td></tr>",
                            "<tr><td>X016</td><td>Persistent XML values</td><td>NULL</td><td>NULL</td><td>YES</td><td>NULL</td><td>NULL</td></tr>",
                            "<tr><td>X020</td><td>XMLConcat</td><td>NULL</td><td>NULL</td><td>YES</td><td>NULL</td><td>NULL</td></tr>",
                            "<tr><td>X025</td><td>XMLCast</td><td>NULL</td><td>NULL</td><td>NO</td><td>NULL</td><td>NULL</td></tr>",
                            "<tr><td>X030</td><td>XMLDocument</td><td>NULL</td><td>NULL</td><td>NO</td><td>NULL</td><td>NULL</td></tr>",
                            "<tr><td>X031</td><td>XMLElement</td><td>NULL</td><td>NULL</td><td>YES</td><td>NULL</td><td>NULL</td></tr>",
                            "<tr><td>X032</td><td>XMLForest</td><td>NULL</td><td>NULL</td><td>YES</td><td>NULL</td><td>NULL</td></tr>",
                            "<tr><td>X034</td><td>XMLAgg</td><td>NULL</td><td>NULL</td><td>YES</td><td>NULL</td><td>NULL</td></tr>",
                            "<tr><td>X035</td><td>XMLAgg: ORDER BY option</td><td>NULL</td><td>NULL</td><td>YES</td><td>NULL</td><td>NULL</td></tr>",
                            "<tr><td>X036</td><td>XMLComment</td><td>NULL</td><td>NULL</td><td>YES</td><td>NULL</td><td>NULL</td></tr>",
                            "<tr><td>X037</td><td>XMLPI</td><td>NULL</td><td>NULL</td><td>YES</td><td>NULL</td><td>NULL</td></tr>",
                            "<tr><td>X038</td><td>XMLText</td><td>NULL</td><td>NULL</td><td>NO</td><td>NULL</td><td>NULL</td></tr>",
                            "<tr><td>X040</td><td>Basic table mapping</td><td>NULL</td><td>NULL</td><td>YES</td><td>NULL</td><td>NULL</td></tr>",
                            "<tr><td>X041</td><td>Basic table mapping: nulls absent</td><td>NULL</td><td>NULL</td><td>YES</td><td>NULL</td><td>NULL</td></tr>",
                            "<tr><td>X042</td><td>Basic table mapping: null as nil</td><td>NULL</td><td>NULL</td><td>YES</td><td>NULL</td><td>NULL</td></tr>",
                            "<tr><td>X043</td><td>Basic table mapping: table as forest</td><td>NULL</td><td>NULL</td><td>YES</td><td>NULL</td><td>NULL</td></tr>",
                            "<tr><td>X044</td><td>Basic table mapping: table as element</td><td>NULL</td><td>NULL</td><td>YES</td><td>NULL</td><td>NULL</td></tr>",
                            "<tr><td>X045</td><td>Basic table mapping: with target namespace</td><td>NULL</td><td>NULL</td><td>YES</td><td>NULL</td><td>NULL</td></tr>",
                            "<tr><td>X046</td><td>Basic table mapping: data mapping</td><td>NULL</td><td>NULL</td><td>YES</td><td>NULL</td><td>NULL</td></tr>",
                            "<tr><td>X047</td><td>Basic table mapping: metadata mapping</td><td>NULL</td><td>NULL</td><td>YES</td><td>NULL</td><td>NULL</td></tr>",
                            "<tr><td>X048</td><td>Basic table mapping: base64 encoding of binary strings</td><td>NULL</td><td>NULL</td><td>YES</td><td>NULL</td><td>NULL</td></tr>",
                            "<tr><td>X049</td><td>Basic table mapping: hex encoding of binary strings</td><td>NULL</td><td>NULL</td><td>YES</td><td>NULL</td><td>NULL</td></tr>",
                            "<tr><td>X050</td><td>Advanced table mapping</td><td>NULL</td><td>NULL</td><td>YES</td><td>NULL</td><td>NULL</td></tr>",
                            "<tr><td>X051</td><td>Advanced table mapping: nulls absent</td><td>NULL</td><td>NULL</td><td>YES</td><td>NULL</td><td>NULL</td></tr>",
                            "<tr><td>X052</td><td>Advanced table mapping: null as nil</td><td>NULL</td><td>NULL</td><td>YES</td><td>NULL</td><td>NULL</td></tr>",
                            "<tr><td>X053</td><td>Advanced table mapping: table as forest</td><td>NULL</td><td>NULL</td><td>YES</td><td>NULL</td><td>NULL</td></tr>",
                            "<tr><td>X054</td><td>Advanced table mapping: table as element</td><td>NULL</td><td>NULL</td><td>YES</td><td>NULL</td><td>NULL</td></tr>",
                            "<tr><td>X055</td><td>Advanced table mapping: with target namespace</td><td>NULL</td><td>NULL</td><td>YES</td><td>NULL</td><td>NULL</td></tr>",
                            "<tr><td>X056</td><td>Advanced table mapping: data mapping</td><td>NULL</td><td>NULL</td><td>YES</td><td>NULL</td><td>NULL</td></tr>",
                            "<tr><td>X057</td><td>Advanced table mapping: metadata mapping</td><td>NULL</td><td>NULL</td><td>YES</td><td>NULL</td><td>NULL</td></tr>",
                            "<tr><td>X058</td><td>Advanced table mapping: base64 encoding of binary strings</td><td>NULL</td><td>NULL</td><td>YES</td><td>NULL</td><td>NULL</td></tr>",
                            "<tr><td>X059</td><td>Advanced table mapping: hex encoding of binary strings</td><td>NULL</td><td>NULL</td><td>YES</td><td>NULL</td><td>NULL</td></tr>",
                            "<tr><td>X060</td><td>XMLParse: character string input and CONTENT option</td><td>NULL</td><td>NULL</td><td>YES</td><td>NULL</td><td>NULL</td></tr>",
                            "<tr><td>X061</td><td>XMLParse: character string input and DOCUMENT option</td><td>NULL</td><td>NULL</td><td>YES</td><td>NULL</td><td>NULL</td></tr>",
                            "<tr><td>X065</td><td>XMLParse: BLOB input and CONTENT option</td><td>NULL</td><td>NULL</td><td>NO</td><td>NULL</td><td>NULL</td></tr>",
                            "<tr><td>X066</td><td>XMLParse: BLOB input and DOCUMENT option</td><td>NULL</td><td>NULL</td><td>NO</td><td>NULL</td><td>NULL</td></tr>",
                            "<tr><td>X068</td><td>XMLSerialize: BOM</td><td>NULL</td><td>NULL</td><td>NO</td><td>NULL</td><td>NULL</td></tr>",
                            "<tr><td>X069</td><td>XMLSerialize: INDENT</td><td>NULL</td><td>NULL</td><td>NO</td><td>NULL</td><td>NULL</td></tr>",
                            "<tr><td>X070</td><td>XMLSerialize: character string serialization and CONTENT option</td><td>NULL</td><td>NULL</td><td>YES</td><td>NULL</td><td>NULL</td></tr>",
                            "<tr><td>X071</td><td>XMLSerialize: character string serialization and DOCUMENT option</td><td>NULL</td><td>NULL</td><td>YES</td><td>NULL</td><td>NULL</td></tr>",
                            "<tr><td>X072</td><td>XMLSerialize: character string serialization</td><td>NULL</td><td>NULL</td><td>YES</td><td>NULL</td><td>NULL</td></tr>",
                            "<tr><td>X073</td><td>XMLSerialize: BLOB serialization and CONTENT option</td><td>NULL</td><td>NULL</td><td>NO</td><td>NULL</td><td>NULL</td></tr>",
                            "<tr><td>X074</td><td>XMLSerialize: BLOB serialization and DOCUMENT option</td><td>NULL</td><td>NULL</td><td>NO</td><td>NULL</td><td>NULL</td></tr>",
                            "<tr><td>X075</td><td>XMLSerialize: BLOB serialization</td><td>NULL</td><td>NULL</td><td>NO</td><td>NULL</td><td>NULL</td></tr>",
                            "<tr><td>X076</td><td>XMLSerialize: VERSION</td><td>NULL</td><td>NULL</td><td>NO</td><td>NULL</td><td>NULL</td></tr>",
                            "<tr><td>X077</td><td>XMLSerialize: explicit ENCODING option</td><td>NULL</td><td>NULL</td><td>NO</td><td>NULL</td><td>NULL</td></tr>",
                            "<tr><td>X078</td><td>XMLSerialize: explicit XML declaration</td><td>NULL</td><td>NULL</td><td>NO</td><td>NULL</td><td>NULL</td></tr>",
                            "<tr><td>X080</td><td>Namespaces in XML publishing</td><td>NULL</td><td>NULL</td><td>NO</td><td>NULL</td><td>NULL</td></tr>",
                            "<tr><td>X081</td><td>Query-level XML namespace declarations</td><td>NULL</td><td>NULL</td><td>NO</td><td>NULL</td><td>NULL</td></tr>",
                            "<tr><td>X082</td><td>XML namespace declarations in DML</td><td>NULL</td><td>NULL</td><td>NO</td><td>NULL</td><td>NULL</td></tr>",
                            "<tr><td>X083</td><td>XML namespace declarations in DDL</td><td>NULL</td><td>NULL</td><td>NO</td><td>NULL</td><td>NULL</td></tr>",
                            "<tr><td>X084</td><td>XML namespace declarations in compound statements</td><td>NULL</td><td>NULL</td><td>NO</td><td>NULL</td><td>NULL</td></tr>",
                            "<tr><td>X085</td><td>Predefined namespace prefixes</td><td>NULL</td><td>NULL</td><td>NO</td><td>NULL</td><td>NULL</td></tr>",
                            "<tr><td>X086</td><td>XML namespace declarations in XMLTable</td><td>NULL</td><td>NULL</td><td>NO</td><td>NULL</td><td>NULL</td></tr>",
                            "<tr><td>X090</td><td>XML document predicate</td><td>NULL</td><td>NULL</td><td>YES</td><td>NULL</td><td>NULL</td></tr>",
                            "<tr><td>X091</td><td>XML content predicate</td><td>NULL</td><td>NULL</td><td>NO</td><td>NULL</td><td>NULL</td></tr>",
                            "<tr><td>X096</td><td>XMLExists</td><td>NULL</td><td>NULL</td><td>NO</td><td>NULL</td><td>XPath 1.0 only</td></tr>",
                            "<tr><td>X100</td><td>Host language support for XML: CONTENT option</td><td>NULL</td><td>NULL</td><td>NO</td><td>NULL</td><td>NULL</td></tr>",
                            "<tr><td>X101</td><td>Host language support for XML: DOCUMENT option</td><td>NULL</td><td>NULL</td><td>NO</td><td>NULL</td><td>NULL</td></tr>",
                            "<tr><td>X110</td><td>Host language support for XML: VARCHAR mapping</td><td>NULL</td><td>NULL</td><td>NO</td><td>NULL</td><td>NULL</td></tr>",
                            "<tr><td>X111</td><td>Host language support for XML: CLOB mapping</td><td>NULL</td><td>NULL</td><td>NO</td><td>NULL</td><td>NULL</td></tr>",
                            "<tr><td>X112</td><td>Host language support for XML: BLOB mapping</td><td>NULL</td><td>NULL</td><td>NO</td><td>NULL</td><td>NULL</td></tr>",
                            "<tr><td>X113</td><td>Host language support for XML: STRIP WHITESPACE option</td><td>NULL</td><td>NULL</td><td>NO</td><td>NULL</td><td>NULL</td></tr>",
                            "<tr><td>X114</td><td>Host language support for XML: PRESERVE WHITESPACE option</td><td>NULL</td><td>NULL</td><td>NO</td><td>NULL</td><td>NULL</td></tr>",
                            "<tr><td>X120</td><td>XML parameters in SQL routines</td><td>NULL</td><td>NULL</td><td>YES</td><td>NULL</td><td>NULL</td></tr>",
                            "<tr><td>X121</td><td>XML parameters in external routines</td><td>NULL</td><td>NULL</td><td>YES</td><td>NULL</td><td>NULL</td></tr>",
                            "<tr><td>X131</td><td>Query-level XMLBINARY clause</td><td>NULL</td><td>NULL</td><td>NO</td><td>NULL</td><td>NULL</td></tr>",
                            "<tr><td>X132</td><td>XMLBINARY clause in DML</td><td>NULL</td><td>NULL</td><td>NO</td><td>NULL</td><td>NULL</td></tr>",
                            "<tr><td>X133</td><td>XMLBINARY clause in DDL</td><td>NULL</td><td>NULL</td><td>NO</td><td>NULL</td><td>NULL</td></tr>",
                            "<tr><td>X134</td><td>XMLBINARY clause in compound statements</td><td>NULL</td><td>NULL</td><td>NO</td><td>NULL</td><td>NULL</td></tr>",
                            "<tr><td>X135</td><td>XMLBINARY clause in subqueries</td><td>NULL</td><td>NULL</td><td>NO</td><td>NULL</td><td>NULL</td></tr>",
                            "<tr><td>X141</td><td>IS VALID predicate: data-driven case</td><td>NULL</td><td>NULL</td><td>NO</td><td>NULL</td><td>NULL</td></tr>",
                            "<tr><td>X142</td><td>IS VALID predicate: ACCORDING TO clause</td><td>NULL</td><td>NULL</td><td>NO</td><td>NULL</td><td>NULL</td></tr>",
                            "<tr><td>X143</td><td>IS VALID predicate: ELEMENT clause</td><td>NULL</td><td>NULL</td><td>NO</td><td>NULL</td><td>NULL</td></tr>",
                            "<tr><td>X144</td><td>IS VALID predicate: schema location</td><td>NULL</td><td>NULL</td><td>NO</td><td>NULL</td><td>NULL</td></tr>",
                            "<tr><td>X145</td><td>IS VALID predicate outside check constraints</td><td>NULL</td><td>NULL</td><td>NO</td><td>NULL</td><td>NULL</td></tr>",
                            "<tr><td>X151</td><td>IS VALID predicate with DOCUMENT option</td><td>NULL</td><td>NULL</td><td>NO</td><td>NULL</td><td>NULL</td></tr>",
                            "<tr><td>X152</td><td>IS VALID predicate with CONTENT option</td><td>NULL</td><td>NULL</td><td>NO</td><td>NULL</td><td>NULL</td></tr>",
                            "<tr><td>X153</td><td>IS VALID predicate with SEQUENCE option</td><td>NULL</td><td>NULL</td><td>NO</td><td>NULL</td><td>NULL</td></tr>",
                            "<tr><td>X155</td><td>IS VALID predicate: NAMESPACE without ELEMENT clause</td><td>NULL</td><td>NULL</td><td>NO</td><td>NULL</td><td>NULL</td></tr>",
                            "<tr><td>X157</td><td>IS VALID predicate: NO NAMESPACE with ELEMENT clause</td><td>NULL</td><td>NULL</td><td>NO</td><td>NULL</td><td>NULL</td></tr>",
                            "<tr><td>X160</td><td>Basic Information Schema for registered XML Schemas</td><td>NULL</td><td>NULL</td><td>NO</td><td>NULL</td><td>NULL</td></tr>",
                            "<tr><td>X161</td><td>Advanced Information Schema for registered XML Schemas</td><td>NULL</td><td>NULL</td><td>NO</td><td>NULL</td><td>NULL</td></tr>",
                            "<tr><td>X170</td><td>XML null handling options</td><td>NULL</td><td>NULL</td><td>NO</td><td>NULL</td><td>NULL</td></tr>",
                            "<tr><td>X171</td><td>NIL ON NO CONTENT option</td><td>NULL</td><td>NULL</td><td>NO</td><td>NULL</td><td>NULL</td></tr>",
                            "<tr><td>X181</td><td>XML(DOCUMENT(UNTYPED)) type</td><td>NULL</td><td>NULL</td><td>NO</td><td>NULL</td><td>NULL</td></tr>",
                            "<tr><td>X182</td><td>XML(DOCUMENT(ANY)) type</td><td>NULL</td><td>NULL</td><td>NO</td><td>NULL</td><td>NULL</td></tr>",
                            "<tr><td>X190</td><td>XML(SEQUENCE) type</td><td>NULL</td><td>NULL</td><td>NO</td><td>NULL</td><td>NULL</td></tr>",
                            "<tr><td>X191</td><td>XML(DOCUMENT(XMLSCHEMA)) type</td><td>NULL</td><td>NULL</td><td>NO</td><td>NULL</td><td>NULL</td></tr>",
                            "<tr><td>X192</td><td>XML(CONTENT(XMLSCHEMA)) type</td><td>NULL</td><td>NULL</td><td>NO</td><td>NULL</td><td>NULL</td></tr>",
                            "<tr><td>X200</td><td>XMLQuery</td><td>NULL</td><td>NULL</td><td>NO</td><td>NULL</td><td>NULL</td></tr>",
                            "<tr><td>X201</td><td>XMLQuery: RETURNING CONTENT</td><td>NULL</td><td>NULL</td><td>NO</td><td>NULL</td><td>NULL</td></tr>",
                            "<tr><td>X202</td><td>XMLQuery: RETURNING SEQUENCE</td><td>NULL</td><td>NULL</td><td>NO</td><td>NULL</td><td>NULL</td></tr>",
                            "<tr><td>X203</td><td>XMLQuery: passing a context item</td><td>NULL</td><td>NULL</td><td>NO</td><td>NULL</td><td>NULL</td></tr>",
                            "<tr><td>X204</td><td>XMLQuery: initializing an XQuery variable</td><td>NULL</td><td>NULL</td><td>NO</td><td>NULL</td><td>NULL</td></tr>",
                            "<tr><td>X205</td><td>XMLQuery: EMPTY ON EMPTY option</td><td>NULL</td><td>NULL</td><td>NO</td><td>NULL</td><td>NULL</td></tr>",
                            "<tr><td>X206</td><td>XMLQuery: NULL ON EMPTY option</td><td>NULL</td><td>NULL</td><td>NO</td><td>NULL</td><td>NULL</td></tr>",
                            "<tr><td>X211</td><td>XML 1.1 support</td><td>NULL</td><td>NULL</td><td>NO</td><td>NULL</td><td>NULL</td></tr>",
                            "<tr><td>X221</td><td>XML passing mechanism BY VALUE</td><td>NULL</td><td>NULL</td><td>YES</td><td>NULL</td><td>NULL</td></tr>",
                            "<tr><td>X222</td><td>XML passing mechanism BY REF</td><td>NULL</td><td>NULL</td><td>NO</td><td>NULL</td><td>parser accepts BY REF but ignores it; passing is always BY VALUE</td></tr>",
                            "<tr><td>X231</td><td>XML(CONTENT(UNTYPED)) type</td><td>NULL</td><td>NULL</td><td>NO</td><td>NULL</td><td>NULL</td></tr>",
                            "<tr><td>X232</td><td>XML(CONTENT(ANY)) type</td><td>NULL</td><td>NULL</td><td>NO</td><td>NULL</td><td>NULL</td></tr>",
                            "<tr><td>X241</td><td>RETURNING CONTENT in XML publishing</td><td>NULL</td><td>NULL</td><td>NO</td><td>NULL</td><td>NULL</td></tr>",
                            "<tr><td>X242</td><td>RETURNING SEQUENCE in XML publishing</td><td>NULL</td><td>NULL</td><td>NO</td><td>NULL</td><td>NULL</td></tr>",
                            "<tr><td>X251</td><td>Persistent XML values of XML(DOCUMENT(UNTYPED)) type</td><td>NULL</td><td>NULL</td><td>NO</td><td>NULL</td><td>NULL</td></tr>",
                            "<tr><td>X252</td><td>Persistent XML values of XML(DOCUMENT(ANY)) type</td><td>NULL</td><td>NULL</td><td>NO</td><td>NULL</td><td>NULL</td></tr>",
                            "<tr><td>X253</td><td>Persistent XML values of XML(CONTENT(UNTYPED)) type</td><td>NULL</td><td>NULL</td><td>NO</td><td>NULL</td><td>NULL</td></tr>",
                            "<tr><td>X254</td><td>Persistent XML values of XML(CONTENT(ANY)) type</td><td>NULL</td><td>NULL</td><td>NO</td><td>NULL</td><td>NULL</td></tr>",
                            "<tr><td>X255</td><td>Persistent XML values of XML(SEQUENCE) type</td><td>NULL</td><td>NULL</td><td>NO</td><td>NULL</td><td>NULL</td></tr>",
                            "<tr><td>X256</td><td>Persistent XML values of XML(DOCUMENT(XMLSCHEMA)) type</td><td>NULL</td><td>NULL</td><td>NO</td><td>NULL</td><td>NULL</td></tr>",
                            "<tr><td>X257</td><td>Persistent XML values of XML(CONTENT(XMLSCHEMA)) type</td><td>NULL</td><td>NULL</td><td>NO</td><td>NULL</td><td>NULL</td></tr>",
                            "<tr><td>X260</td><td>XML type: ELEMENT clause</td><td>NULL</td><td>NULL</td><td>NO</td><td>NULL</td><td>NULL</td></tr>",
                            "<tr><td>X261</td><td>XML type: NAMESPACE without ELEMENT clause</td><td>NULL</td><td>NULL</td><td>NO</td><td>NULL</td><td>NULL</td></tr>",
                            "<tr><td>X263</td><td>XML type: NO NAMESPACE with ELEMENT clause</td><td>NULL</td><td>NULL</td><td>NO</td><td>NULL</td><td>NULL</td></tr>",
                            "<tr><td>X264</td><td>XML type: schema location</td><td>NULL</td><td>NULL</td><td>NO</td><td>NULL</td><td>NULL</td></tr>",
                            "<tr><td>X271</td><td>XMLValidate: data-driven case</td><td>NULL</td><td>NULL</td><td>NO</td><td>NULL</td><td>NULL</td></tr>",
                            "<tr><td>X272</td><td>XMLValidate: ACCORDING TO clause</td><td>NULL</td><td>NULL</td><td>NO</td><td>NULL</td><td>NULL</td></tr>",
                            "<tr><td>X273</td><td>XMLValidate: ELEMENT clause</td><td>NULL</td><td>NULL</td><td>NO</td><td>NULL</td><td>NULL</td></tr>",
                            "<tr><td>X274</td><td>XMLValidate: schema location</td><td>NULL</td><td>NULL</td><td>NO</td><td>NULL</td><td>NULL</td></tr>",
                            "<tr><td>X281</td><td>XMLValidate with DOCUMENT option</td><td>NULL</td><td>NULL</td><td>NO</td><td>NULL</td><td>NULL</td></tr>",
                            "<tr><td>X282</td><td>XMLValidate with CONTENT option</td><td>NULL</td><td>NULL</td><td>NO</td><td>NULL</td><td>NULL</td></tr>",
                            "<tr><td>X283</td><td>XMLValidate with SEQUENCE option</td><td>NULL</td><td>NULL</td><td>NO</td><td>NULL</td><td>NULL</td></tr>",
                            "<tr><td>X284</td><td>XMLValidate: NAMESPACE without ELEMENT clause</td><td>NULL</td><td>NULL</td><td>NO</td><td>NULL</td><td>NULL</td></tr>",
                            "<tr><td>X286</td><td>XMLValidate: NO NAMESPACE with ELEMENT clause</td><td>NULL</td><td>NULL</td><td>NO</td><td>NULL</td><td>NULL</td></tr>",
                            "<tr><td>X300</td><td>XMLTable</td><td>NULL</td><td>NULL</td><td>NO</td><td>NULL</td><td>XPath 1.0 only</td></tr>",
                            "<tr><td>X301</td><td>XMLTable: derived column list option</td><td>NULL</td><td>NULL</td><td>YES</td><td>NULL</td><td>NULL</td></tr>",
                            "<tr><td>X302</td><td>XMLTable: ordinality column option</td><td>NULL</td><td>NULL</td><td>YES</td><td>NULL</td><td>NULL</td></tr>",
                            "<tr><td>X303</td><td>XMLTable: column default option</td><td>NULL</td><td>NULL</td><td>YES</td><td>NULL</td><td>NULL</td></tr>",
                            "<tr><td>X304</td><td>XMLTable: passing a context item</td><td>NULL</td><td>NULL</td><td>YES</td><td>NULL</td><td>must be XML DOCUMENT</td></tr>",
                            "<tr><td>X305</td><td>XMLTable: initializing an XQuery variable</td><td>NULL</td><td>NULL</td><td>NO</td><td>NULL</td><td>NULL</td></tr>",
                            "<tr><td>X400</td><td>Name and identifier mapping</td><td>NULL</td><td>NULL</td><td>YES</td><td>NULL</td><td>NULL</td></tr>",
                            "<tr><td>X410</td><td>Alter column data type: XML type</td><td>NULL</td><td>NULL</td><td>YES</td><td>NULL</td><td>NULL</td></tr>",
                            "</table>"
                        ]
                    }
                }
            ],
            "execution_count": 1
        }
    ]
}